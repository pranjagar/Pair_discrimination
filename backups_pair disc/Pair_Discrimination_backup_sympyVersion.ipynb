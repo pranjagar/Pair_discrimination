{
 "cells": [
  {
   "cell_type": "code",
   "execution_count": 2,
   "metadata": {},
   "outputs": [],
   "source": [
    "import numpy as np\n",
    "import pandas as pd\n",
    "import math as m\n",
    "import sympy as sym\n",
    "import random as rand\n",
    "import matplotlib.pyplot as plt\n",
    "import cmath as cm"
   ]
  },
  {
   "cell_type": "code",
   "execution_count": 19,
   "metadata": {},
   "outputs": [
    {
     "data": {
      "text/plain": [
       "[0.500000000000000, -0.707106781186548, 0.500000000000000]"
      ]
     },
     "execution_count": 19,
     "metadata": {},
     "output_type": "execute_result"
    }
   ],
   "source": [
    "theta1, theta2 = sym.symbols('theta1 theta2')\n",
    "\n",
    "\n",
    "def Creating_states( c = [0, m.pi/2] , priors = [.5,.5], input_type = 'theta', Abstract = False):    # coeff list like [a0,a1,b0,b1]\n",
    "    \n",
    "    if Abstract == True:\n",
    "        theta1, theta2 = sym.symbols('theta1 theta2')\n",
    "        a0, a1 = sym.cos(theta1), sym.sin(theta1)\n",
    "        b0, b1 = sym.cos(theta2), sym.sin(theta2)\n",
    "    else:\n",
    "        theta1 , theta2 = c[0], c[1]\n",
    "        a0, a1 = sym.cos(theta1), sym.sin(theta1)\n",
    "        b0, b1 = sym.cos(theta2), sym.sin(theta2)\n",
    "    \n",
    "    psi0, psi1 = [a0,a1], [b0,b1]      # defining states\n",
    "    \n",
    "    \n",
    "    psi0psi0, psi1psi1 = [psi0[0]*psi0[0], (np.sqrt(2)*psi0[0]*psi0[1]) , psi0[1]*psi0[1]],  [psi1[0]*psi1[0], (np.sqrt(2)*psi1[0]*psi1[1]), psi1[1]*psi1[1]] # @@@ the square rooting is simplistic. see notebook for better\n",
    "    \n",
    "    # vec_psi0psi0, vec_psi1psi1 = np.array(psi0psi0), np.array(psi1psi1)     # np array conversion \n",
    "    # rho = priors[0]*np.outer(vec_psi0psi0, vec_psi0psi0)+ priors[1]*np.outer(vec_psi1psi1, vec_psi1psi1)     # theoretical rho\n",
    "    \n",
    "    return([psi0,psi1], [psi0psi0,psi1psi1])\n",
    "\n",
    "x = Creating_states([0,-m.pi/4], Abstract=1)[1]\n",
    "\n",
    "y = [i.subs({theta1 : 0, theta2 : -m.pi/4}) for i in x[1]]\n",
    "y\n",
    "# Creating_states([0,-.927])[1]\n",
    "\n",
    "# print(1.41*.8*.6)"
   ]
  },
  {
   "cell_type": "code",
   "execution_count": 14,
   "metadata": {},
   "outputs": [
    {
     "data": {
      "text/plain": [
       "[0.7071067811865475, 0.7071067811865475]"
      ]
     },
     "execution_count": 14,
     "metadata": {},
     "output_type": "execute_result"
    }
   ],
   "source": [
    "psi0 = Creating_states(Abstract=False)[0]\n",
    "psi1 = Creating_states(Abstract=False)[1]\n",
    "\n",
    "psi0"
   ]
  },
  {
   "cell_type": "code",
   "execution_count": 15,
   "metadata": {},
   "outputs": [],
   "source": [
    "psi0sq = []\n",
    "psi1sq = []\n",
    "[[psi0sq.append(i*j) for i in psi0] for j in psi0]\n",
    "[[psi1sq.append(i*j) for i in psi1] for j in psi1]   # creating list of coeff for squared states (intermeditate step)\n",
    "\n",
    "psi0psi0 = [psi0sq[0], (psi0sq[1]**2+psi0sq[2]**2)**(.5), psi0sq[3]]        # the second element is the normalized coefficient due to the addition of states (01+10). See OneNote writeup for details\n",
    "psi1psi1 = [psi1sq[0], (psi1sq[1]**(2)+psi1sq[2]**(2))**(.5), psi1sq[3]]            # symmetric states in basis (|00>, normalized version of (|01>+|10>),|11>)\n",
    "\n",
    "# psi0psi0\n",
    "# sum([i**2 for i in psi0psi0])   # adding to 1 now."
   ]
  },
  {
   "cell_type": "code",
   "execution_count": 16,
   "metadata": {},
   "outputs": [
    {
     "data": {
      "text/latex": [
       "$\\displaystyle \\left[\\begin{matrix}0.625 & 0.176776695296637 & 0.125\\\\0.176776695296637 & 0.25 & 0.176776695296637\\\\0.125 & 0.176776695296637 & 0.125\\end{matrix}\\right]$"
      ],
      "text/plain": [
       "Matrix([\n",
       "[            0.625, 0.176776695296637,             0.125],\n",
       "[0.176776695296637,              0.25, 0.176776695296637],\n",
       "[            0.125, 0.176776695296637,             0.125]])"
      ]
     },
     "execution_count": 16,
     "metadata": {},
     "output_type": "execute_result"
    }
   ],
   "source": [
    "#creating the density matrix rho\n",
    "# rho is 1/2*(|psi0psi0Xpsi0psi0|+|psi1psi1Xpsi1psi1|)\n",
    "# findiing the conjugate vectors \n",
    "vec_psi0psi0 = sym.Matrix(psi0psi0)     # convertying to sympy vectors for easy matrix multiplication\n",
    "vec_psi1psi1 = sym.Matrix(psi1psi1)\n",
    "\n",
    "rho = (1/2)*(vec_psi0psi0*vec_psi0psi0.T  + vec_psi1psi1*vec_psi1psi1.T)       # density matrix with priors 1/2 each.\n",
    "rho"
   ]
  },
  {
   "cell_type": "code",
   "execution_count": 17,
   "metadata": {},
   "outputs": [],
   "source": [
    "# creating the SIC POVM matrices\n",
    "w = m.e**((2/3)*m.pi*(1j))\n",
    "POVM_vec = (1/(2**.5))*(np.array([[0,1,-1],[-1,0,1],[1,-1,0],[0,w,-w**2],[-1,0,w**2],[1,-w,0],[0,w**2,-w],[-1,0,w],[1,-w**2,0]]))\n",
    "POVM_elts = [(1/3)*np.outer(np.conjugate(POVM_vec[i]),POVM_vec[i]) for i in range(len(POVM_vec))]\n",
    "# sum([np.trace(POVM_elts[i]) for i in range(9)])`# trace sum checks out`"
   ]
  },
  {
   "cell_type": "code",
   "execution_count": 18,
   "metadata": {},
   "outputs": [
    {
     "data": {
      "text/latex": [
       "$\\displaystyle 0.999999999999999$"
      ],
      "text/plain": [
       "0.999999999999999"
      ]
     },
     "execution_count": 18,
     "metadata": {},
     "output_type": "execute_result"
    }
   ],
   "source": [
    "# prob_vec = [(POVM_elts[i]*rho).trace() for i in range(len(POVM_elts))]\n",
    "prob_vec =  [np.trace(np.dot(POVM_elts[i],rho)) for i in range(9)] #[(POVM_elts[i]*rho).trace() for i in range(len(POVM_elts))]\n",
    "# prob_vec\n",
    "sum(prob_vec)        # prob not adding to 1?\n",
    "# print(prob_vec)\n"
   ]
  },
  {
   "cell_type": "code",
   "execution_count": 19,
   "metadata": {},
   "outputs": [],
   "source": [
    "# # verifying that the trace still holds to be the same, equalt to .111 for this weird POVM element.\n",
    "# c = .00308641975308642*2.71828182845905**(4.18879020478639*(sym.I))\n",
    "\n",
    "# p = cm.polar(c)\n",
    "# cm.rect(p[0], p[1])\n",
    "\n",
    "# r = .00617-.0015\n",
    "# i = .0026\n",
    "\n",
    "# ab = (r**2+i**2)**(.5)\n",
    "# 2*ab # verified"
   ]
  },
  {
   "cell_type": "code",
   "execution_count": 20,
   "metadata": {},
   "outputs": [
    {
     "data": {
      "text/plain": [
       "([35.7443490112103,\n",
       "  833.333333333333,\n",
       "  869.077682344544,\n",
       "  919.627825494394,\n",
       "  1458.33333333333,\n",
       "  1752.96115882773,\n",
       "  919.627825494394,\n",
       "  1458.33333333333,\n",
       "  1752.96115882773],\n",
       " [40, 843, 868, 909, 1418, 1733, 920, 1524, 1745])"
      ]
     },
     "execution_count": 20,
     "metadata": {},
     "output_type": "execute_result"
    }
   ],
   "source": [
    "N = 10000       # number of measurements  \n",
    "\n",
    "POVM_dir_symbols = ['d1','d2','d3','d4','d5','d6','d7','d8','d9']       # symbols to indicate collapsed direction\n",
    "#prob distribution is simply the corresponding elements of the prob_vec\n",
    "collapse_dir_vec = rand.choices(POVM_dir_symbols, weights=prob_vec, k = N)   # choosing collapse directions with weights for N trials\n",
    "\n",
    "nj_vec = [collapse_dir_vec.count(f'd{i+1}') for i in range(9)]         # working babieee\n",
    "pj_num_vec = [i/N for i in nj_vec]         # working babieee\n",
    "([i*N for i in prob_vec] , nj_vec)   # comparing the theoretical and experimental collapse prob."
   ]
  },
  {
   "cell_type": "code",
   "execution_count": 21,
   "metadata": {},
   "outputs": [],
   "source": [
    "M = [[np.trace(np.dot(POVM_elts[i],POVM_elts[j])) for i in range(len(POVM_elts))] for j in range(len(POVM_elts))]     # creating M matrix using POVM definition\n"
   ]
  },
  {
   "cell_type": "code",
   "execution_count": 22,
   "metadata": {},
   "outputs": [],
   "source": [
    "u_0 = [1/3 for i in range(9)]           # cerating u_0 vector, to create the inverse matrix\n",
    "M_inv = 3*np.outer(u_0,u_0) + 12*(np.eye(9) - np.outer(u_0,u_0))        # creating the inverse matrix\n",
    "# np.trace(np.dot(M,M_inv))       # gives identity, checks out\n",
    "r_vec = np.dot(M_inv,pj_num_vec)\n"
   ]
  },
  {
   "cell_type": "code",
   "execution_count": 23,
   "metadata": {},
   "outputs": [
    {
     "data": {
      "text/plain": [
       "3"
      ]
     },
     "execution_count": 23,
     "metadata": {},
     "output_type": "execute_result"
    }
   ],
   "source": [
    "rho_num_list = [r_vec[i]*POVM_elts[i] for i in range(len(POVM_elts))]\n",
    "[i for i in rho_num_list]\n",
    "3"
   ]
  },
  {
   "cell_type": "code",
   "execution_count": 24,
   "metadata": {},
   "outputs": [
    {
     "data": {
      "text/plain": [
       "array([[0.6262+0.00000000e+00j, 0.1742+2.07846097e-03j,\n",
       "        0.1256-1.83597386e-02j],\n",
       "       [0.1742-2.07846097e-03j, 0.243 +3.17604419e-18j,\n",
       "        0.1749+1.90525589e-03j],\n",
       "       [0.1256+1.83597386e-02j, 0.1749-1.90525589e-03j,\n",
       "        0.1308+2.65805330e-18j]])"
      ]
     },
     "execution_count": 24,
     "metadata": {},
     "output_type": "execute_result"
    }
   ],
   "source": [
    "rho_num = np.zeros_like(rho_num_list[0])\n",
    "\n",
    "# Loop over the matrices and sum them element-wise\n",
    "for matrix in rho_num_list:\n",
    "    rho_num = np.add(rho_num, matrix)\n",
    "\n",
    "rho_num   "
   ]
  },
  {
   "cell_type": "code",
   "execution_count": 25,
   "metadata": {},
   "outputs": [
    {
     "data": {
      "text/latex": [
       "$\\displaystyle \\left[\\begin{matrix}0.625 & 0.176776695296637 & 0.125\\\\0.176776695296637 & 0.25 & 0.176776695296637\\\\0.125 & 0.176776695296637 & 0.125\\end{matrix}\\right]$"
      ],
      "text/plain": [
       "Matrix([\n",
       "[            0.625, 0.176776695296637,             0.125],\n",
       "[0.176776695296637,              0.25, 0.176776695296637],\n",
       "[            0.125, 0.176776695296637,             0.125]])"
      ]
     },
     "execution_count": 25,
     "metadata": {},
     "output_type": "execute_result"
    }
   ],
   "source": [
    "rho # printing the theoretical density matrix and below the numerically reconstructed one"
   ]
  },
  {
   "cell_type": "code",
   "execution_count": 26,
   "metadata": {},
   "outputs": [
    {
     "data": {
      "text/plain": [
       "matrix([[0.6262+0.00000000e+00j, 0.1742+2.07846097e-03j,\n",
       "         0.1256-1.83597386e-02j],\n",
       "        [0.1742-2.07846097e-03j, 0.243 +3.17604419e-18j,\n",
       "         0.1749+1.90525589e-03j],\n",
       "        [0.1256+1.83597386e-02j, 0.1749-1.90525589e-03j,\n",
       "         0.1308+2.65805330e-18j]])"
      ]
     },
     "execution_count": 26,
     "metadata": {},
     "output_type": "execute_result"
    }
   ],
   "source": [
    "np.matrix(rho_num)  "
   ]
  },
  {
   "cell_type": "code",
   "execution_count": 27,
   "metadata": {},
   "outputs": [
    {
     "data": {
      "text/latex": [
       "$\\displaystyle \\left[\\begin{matrix}0.00119999999999987 & -0.00257669529663684 + 0.00207846096908257 i & 0.000600000000000017 - 0.0183597385602301 i\\\\-0.00257669529663684 - 0.00207846096908257 i & -0.00700000000000006 + 3.17604418755426 \\cdot 10^{-18} i & -0.00187669529663684 + 0.00190525588832576 i\\\\0.000600000000000017 + 0.0183597385602301 i & -0.00187669529663684 - 0.00190525588832576 i & 0.00579999999999997 + 2.65805330262845 \\cdot 10^{-18} i\\end{matrix}\\right]$"
      ],
      "text/plain": [
       "Matrix([\n",
       "[                         0.00119999999999987,  -0.00257669529663684 + 0.00207846096908257*I,  0.000600000000000017 - 0.0183597385602301*I],\n",
       "[-0.00257669529663684 - 0.00207846096908257*I, -0.00700000000000006 + 3.17604418755426e-18*I, -0.00187669529663684 + 0.00190525588832576*I],\n",
       "[ 0.000600000000000017 + 0.0183597385602301*I,  -0.00187669529663684 - 0.00190525588832576*I, 0.00579999999999997 + 2.65805330262845e-18*I]])"
      ]
     },
     "execution_count": 27,
     "metadata": {},
     "output_type": "execute_result"
    }
   ],
   "source": [
    "rho \n",
    "del_rho = rho_num-rho\n",
    "del_rho"
   ]
  },
  {
   "cell_type": "code",
   "execution_count": 28,
   "metadata": {},
   "outputs": [
    {
     "data": {
      "text/plain": [
       "[-0.00752496529537751, -0.0150822120132936, 0.0226071773086709]"
      ]
     },
     "execution_count": 28,
     "metadata": {},
     "output_type": "execute_result"
    }
   ],
   "source": [
    "# evects = del_rho.eigenvects()\n",
    "eigensystem = del_rho.eigenvects()\n",
    "\n",
    "#separating eigenvalues of del rho\n",
    "evects_0 = []\n",
    "evals_0 = []\n",
    "\n",
    "for i in range(3):\n",
    "    evals_0.append(eigensystem[i][0])\n",
    "    evects_0.append(eigensystem[i][-1])\n",
    "\n",
    "evals = [sym.re(i) for i in evals_0]\n",
    "norm_del_rho = max([abs(i) for i in evals])     # picking out the largest evalue\n",
    "\n",
    "evals"
   ]
  },
  {
   "cell_type": "code",
   "execution_count": 29,
   "metadata": {},
   "outputs": [
    {
     "data": {
      "text/plain": [
       "[Matrix([\n",
       " [-0.00296868476851878 - 0.0344054942133637*I],\n",
       " [    0.589477331704725 + 0.011959532096648*I],\n",
       " [  -0.806519892761224 + 0.0265811297240971*I]])]"
      ]
     },
     "execution_count": 29,
     "metadata": {},
     "output_type": "execute_result"
    }
   ],
   "source": [
    "#eigenvalues of rho_num\n",
    "eigensystem_num = sym.Matrix(rho_num).eigenvects()\n",
    "evects_num = []\n",
    "evals_num = []\n",
    "\n",
    "for i in range(3):\n",
    "    evals_num.append(eigensystem_num[i][0])\n",
    "    evects_num.append(eigensystem_num[i][-1])\n",
    "\n",
    "# evals = [sym.re(i) for i in evals_0]\n",
    "evals_num = [sym.re(i) for i in evals_num]\n",
    "\n",
    "zero_eval_rho_num = min(evals_num)                          # picking the minimum evalue \n",
    "zero_eval_index = evals_num.index(zero_eval_rho_num)        # finding index so we can pick the corresponding evector\n",
    "perp_evect_rho_num = evects_num[zero_eval_index]\n",
    "\n",
    "c00 = perp_evect_rho_num[0][0]\n",
    "c01 = perp_evect_rho_num[0][1]\n",
    "c11 = perp_evect_rho_num[0][2]         # the coefficients of the xi vector\n",
    "\n",
    "perp_evect_rho_num\n",
    "\n"
   ]
  },
  {
   "cell_type": "code",
   "execution_count": 30,
   "metadata": {},
   "outputs": [],
   "source": [
    "Quadratic_Form = lambda a,b,c : [(-b+ ((b**2-4*a*c)**(.5)))/(2*a), (-b- ((b**2-4*a*c)**.5))/(2*a)]"
   ]
  },
  {
   "cell_type": "code",
   "execution_count": 31,
   "metadata": {},
   "outputs": [
    {
     "data": {
      "text/plain": [
       "[0.906227812679038 - 8.48842220771291*I + (-0.719446754247216 + 8.33800927689144*I)*(1 - 0.2890691051273*I)**0.5,\n",
       " 0.906227812679038 + (0.719446754247216 - 8.33800927689144*I)*(1 - 0.2890691051273*I)**0.5 - 8.48842220771291*I]"
      ]
     },
     "execution_count": 31,
     "metadata": {},
     "output_type": "execute_result"
    }
   ],
   "source": [
    "[sym.simplify(Quadratic_Form(c00,c01,c11)[0]), sym.simplify(Quadratic_Form(c00,c01,c11)[1])]"
   ]
  },
  {
   "cell_type": "code",
   "execution_count": null,
   "metadata": {},
   "outputs": [],
   "source": []
  }
 ],
 "metadata": {
  "kernelspec": {
   "display_name": "Python 3",
   "language": "python",
   "name": "python3"
  },
  "language_info": {
   "codemirror_mode": {
    "name": "ipython",
    "version": 3
   },
   "file_extension": ".py",
   "mimetype": "text/x-python",
   "name": "python",
   "nbconvert_exporter": "python",
   "pygments_lexer": "ipython3",
   "version": "3.11.4"
  },
  "orig_nbformat": 4
 },
 "nbformat": 4,
 "nbformat_minor": 2
}
