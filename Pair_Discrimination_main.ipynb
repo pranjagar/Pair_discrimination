{
 "cells": [
  {
   "cell_type": "code",
   "execution_count": 2,
   "metadata": {},
   "outputs": [],
   "source": [
    "import numpy as np\n",
    "import pandas as pd\n",
    "import math as m\n",
    "import sympy as sym\n",
    "import random as rand\n",
    "import matplotlib.pyplot as plt\n",
    "import cmath as cm\n",
    "from IPython.display import display, Latex\n",
    "\n"
   ]
  },
  {
   "cell_type": "code",
   "execution_count": 3,
   "metadata": {},
   "outputs": [],
   "source": [
    "# defininf the states\n",
    "# defininsg coefficeients sybols\n",
    "\n",
    "def Creating_states( coeff = [1/(2**.5),1/(2**.5),1/(2**.5),1/(2**.5)] , Abstract = False):    # coeff list like [a0,a1,b0,b1]\n",
    "    if Abstract == True:\n",
    "        a0 = sym.symbols('a0')\n",
    "        a1 = sym.symbols('a1')\n",
    "        b0 = sym.symbols('b0')\n",
    "        b1 = sym.symbols('b1')\n",
    "    else:\n",
    "        a0 = coeff[0]\n",
    "        a1 = coeff[1]\n",
    "        b0 = coeff[2]\n",
    "        b1 = coeff[3]\n",
    "    psi0 = [a0,a1]      # defining states\n",
    "    psi1 = [b0,b1]\n",
    "    return([psi0,psi1])"
   ]
  },
  {
   "cell_type": "code",
   "execution_count": 4,
   "metadata": {},
   "outputs": [
    {
     "data": {
      "text/plain": [
       "[0.7071067811865475, 0.7071067811865475]"
      ]
     },
     "execution_count": 4,
     "metadata": {},
     "output_type": "execute_result"
    }
   ],
   "source": [
    "initial_states = Creating_states(Abstract=False, coeff = [1/(2**.5),1/(2**.5),1,0])     # Creating the two states with these coefficients\n",
    "\n",
    "psi0 = initial_states[0]\n",
    "psi1 = initial_states[1]\n",
    "\n",
    "psi0"
   ]
  },
  {
   "cell_type": "code",
   "execution_count": 5,
   "metadata": {},
   "outputs": [],
   "source": [
    "psi0sq = []\n",
    "psi1sq = []\n",
    "[[psi0sq.append(i*j) for i in psi0] for j in psi0]\n",
    "[[psi1sq.append(i*j) for i in psi1] for j in psi1]   # creating list of coeff for squared states (intermeditate step)\n",
    "\n",
    "psi0psi0 = [psi0sq[0], (psi0sq[1]**2+psi0sq[2]**2)**(.5), psi0sq[3]]        # the second element is the normalized coefficient due to the addition of states (01+10). See OneNote writeup for details\n",
    "psi1psi1 = [psi1sq[0], (psi1sq[1]**(2)+psi1sq[2]**(2))**(.5), psi1sq[3]]            # symmetric states in basis (|00>, normalized version of (|01>+|10>),|11>)\n",
    "\n",
    "# psi0psi0\n",
    "# sum([i**2 for i in psi0psi0])   # adding to 1 now."
   ]
  },
  {
   "cell_type": "code",
   "execution_count": 6,
   "metadata": {},
   "outputs": [
    {
     "data": {
      "text/plain": [
       "array([[0.625    , 0.1767767, 0.125    ],\n",
       "       [0.1767767, 0.25     , 0.1767767],\n",
       "       [0.125    , 0.1767767, 0.125    ]])"
      ]
     },
     "execution_count": 6,
     "metadata": {},
     "output_type": "execute_result"
    }
   ],
   "source": [
    "#creating the density matrix rho\n",
    "# rho is 1/2*(|psi0psi0Xpsi0psi0|+|psi1psi1Xpsi1psi1|)\n",
    "# findiing the conjugate vectors \n",
    "\n",
    "vec_psi0psi0 = np.array(psi0psi0)     # convertying to numpy arrays\n",
    "vec_psi1psi1 = np.array(psi1psi1)\n",
    "\n",
    "rho = (1/2)*(np.outer(vec_psi0psi0, vec_psi0psi0)+np.outer(vec_psi1psi1, vec_psi1psi1))       # density matrix with priors 1/2 each.\n",
    "\n",
    "rho"
   ]
  },
  {
   "cell_type": "code",
   "execution_count": 7,
   "metadata": {},
   "outputs": [
    {
     "data": {
      "text/plain": [
       "(2.999999999999999+1.0928192876985672e-17j)"
      ]
     },
     "execution_count": 7,
     "metadata": {},
     "output_type": "execute_result"
    }
   ],
   "source": [
    "# creating the SIC POVM matrices\n",
    "w = m.e**((2/3)*m.pi*(1j))\n",
    "POVM_vec = (1/(2**.5))*(np.array([[0,1,-1],[-1,0,1],[1,-1,0],[0,w,-w**2],[-1,0,w**2],[1,-w,0],[0,w**2,-w],[-1,0,w],[1,-w**2,0]]))  # an array of POVM direction vectors\n",
    "POVM_elts = [(1/3)*np.outer(np.conjugate(POVM_vec[i]),POVM_vec[i]) for i in range(len(POVM_vec))]   # a list of POVM matrices\n",
    "\n",
    "sum([np.trace(POVM_elts[i]) for i in range(9)])  # trace sum checks out NOPE !!!!!    \n",
    "# POVM_elts[0]"
   ]
  },
  {
   "cell_type": "code",
   "execution_count": 8,
   "metadata": {},
   "outputs": [],
   "source": [
    "# prob_vec = [(POVM_elts[i]*rho).trace() for i in range(len(POVM_elts))]\n",
    "prob_vec =  [np.trace(np.dot(POVM_elts[i],rho)) for i in range(9)] #[(POVM_elts[i]*rho).trace() for i in range(len(POVM_elts))]\n",
    "prob_vec = [i.real for i in prob_vec if abs(i.imag) < .01]          # cleaned up the trailing imaginary parts\n",
    "\n",
    "# sum(prob_vec)        # prob not adding to 1?\n",
    "# print(prob_vec)\n",
    "\n"
   ]
  },
  {
   "cell_type": "code",
   "execution_count": 9,
   "metadata": {},
   "outputs": [
    {
     "data": {
      "text/plain": [
       "([35.74434901121032,\n",
       "  833.3333333333333,\n",
       "  869.0776823445435,\n",
       "  919.6278254943937,\n",
       "  1458.3333333333328,\n",
       "  1752.961158827727,\n",
       "  919.6278254943937,\n",
       "  1458.3333333333326,\n",
       "  1752.961158827727],\n",
       " [34, 864, 801, 936, 1432, 1770, 940, 1481, 1742])"
      ]
     },
     "execution_count": 9,
     "metadata": {},
     "output_type": "execute_result"
    }
   ],
   "source": [
    "N = 10000       # number of measurements  \n",
    "\n",
    "POVM_dir_symbols = ['d1','d2','d3','d4','d5','d6','d7','d8','d9']       # symbols to indicate collapsed direction\n",
    "#prob distribution is simply the corresponding elements of the prob_vec\n",
    "collapse_dir_vec = rand.choices(POVM_dir_symbols, weights=prob_vec, k = N)   # choosing collapse directions with weights for N trials\n",
    "\n",
    "nj_vec = [collapse_dir_vec.count(f'd{i+1}') for i in range(9)]\n",
    "pj_num_vec = [i/N for i in nj_vec]         # working\n",
    "([i*N for i in prob_vec] , nj_vec)   # comparing the theoretical and experimental collapse probabilities\n"
   ]
  },
  {
   "cell_type": "code",
   "execution_count": 10,
   "metadata": {},
   "outputs": [],
   "source": [
    "M = [[np.trace(np.dot(POVM_elts[i],POVM_elts[j])) for i in range(len(POVM_elts))] for j in range(len(POVM_elts))]     # creating M matrix using POVM definition\n",
    "\n"
   ]
  },
  {
   "cell_type": "code",
   "execution_count": 11,
   "metadata": {},
   "outputs": [],
   "source": [
    "u_0 = [1/3 for i in range(9)]           # cerating u_0 vector, to create the inverse matrix\n",
    "M_inv = 3*np.outer(u_0,u_0) + 12*(np.eye(9) - np.outer(u_0,u_0))        # creating the inverse matrix\n",
    "# np.trace(np.dot(M,M_inv))       # gives identity, checks out\n",
    "r_vec = np.dot(M_inv,pj_num_vec)\n"
   ]
  },
  {
   "cell_type": "code",
   "execution_count": 12,
   "metadata": {},
   "outputs": [],
   "source": [
    "rho_num_list = [r_vec[i]*POVM_elts[i] for i in range(len(POVM_elts))]   # list of matrices, see equation 7 in Hillery notes pair_disc.pdf\n",
    "# [i for i in rho_num_list]"
   ]
  },
  {
   "cell_type": "code",
   "execution_count": 13,
   "metadata": {},
   "outputs": [
    {
     "data": {
      "text/plain": [
       "array([[0.618 +0.00000000e+00j, 0.191 -4.84974226e-03j,\n",
       "        0.1185-8.48704896e-03j],\n",
       "       [0.191 +4.84974226e-03j, 0.2446+3.42989233e-18j,\n",
       "        0.1808+6.92820323e-04j],\n",
       "       [0.1185+8.48704896e-03j, 0.1808-6.92820323e-04j,\n",
       "        0.1374+2.52269733e-18j]])"
      ]
     },
     "execution_count": 13,
     "metadata": {},
     "output_type": "execute_result"
    }
   ],
   "source": [
    "rho_num = np.zeros_like(rho_num_list[0])\n",
    "\n",
    "# Loop over the matrices and sum them element-wise\n",
    "for matrix in rho_num_list:\n",
    "    rho_num = np.add(rho_num, matrix)\n",
    "\n",
    "rho_num   "
   ]
  },
  {
   "cell_type": "code",
   "execution_count": 14,
   "metadata": {},
   "outputs": [
    {
     "data": {
      "text/plain": [
       "array([[-0.007    +0.00000000e+00j,  0.0142233-4.84974226e-03j,\n",
       "        -0.0065   -8.48704896e-03j],\n",
       "       [ 0.0142233+4.84974226e-03j, -0.0054   +3.42989233e-18j,\n",
       "         0.0040233+6.92820323e-04j],\n",
       "       [-0.0065   +8.48704896e-03j,  0.0040233-6.92820323e-04j,\n",
       "         0.0124   +2.52269733e-18j]])"
      ]
     },
     "execution_count": 14,
     "metadata": {},
     "output_type": "execute_result"
    }
   ],
   "source": [
    "rho # printing the theoretical density matrix and below the numerically reconstructed one\n",
    "del_rho = rho_num-rho  # defining the difference of numberical and theoretical state\n",
    "del_rho"
   ]
  },
  {
   "cell_type": "code",
   "execution_count": 15,
   "metadata": {},
   "outputs": [],
   "source": [
    "eigenvalues, eigenvectors = np.linalg.eig(del_rho)  # each COLUMN is the corresponding eigenvector and not the row. eigenvectors[:,0]\n",
    "# eigenvectors[:,0]   # eigenvector correspoding to the first eigenvalue\n",
    "evals = np.array([i.real for i in eigenvalues if abs(i.imag)< .001])\n",
    "norm_del_rho = max([abs(i) for i in evals])     # picking out the largest magnitude evalue\n",
    "\n",
    "# evals   Working till here"
   ]
  },
  {
   "cell_type": "code",
   "execution_count": 120,
   "metadata": {},
   "outputs": [
    {
     "data": {
      "text/latex": [
       "$\\Psi_0 = 1|0\\rangle + 0|1\\rangle$"
      ],
      "text/plain": [
       "<IPython.core.display.Latex object>"
      ]
     },
     "metadata": {},
     "output_type": "display_data"
    },
    {
     "data": {
      "text/latex": [
       "$\\Psi_1 = 0|0\\rangle + 1|1\\rangle$"
      ],
      "text/plain": [
       "<IPython.core.display.Latex object>"
      ]
     },
     "metadata": {},
     "output_type": "display_data"
    },
    {
     "name": "stdout",
     "output_type": "stream",
     "text": [
      "\n",
      " Rho_Theorectical = \n",
      " [[0.5 0.  0. ]\n",
      " [0.  0.  0. ]\n",
      " [0.  0.  0.5]]\n",
      "\n",
      " Prob_theory =  [0.08333, 0.16667, 0.08333, 0.08333, 0.16667, 0.08333, 0.08333, 0.16667, 0.08333]\n",
      "Prob_numerical =  [0.101, 0.161, 0.077, 0.091, 0.145, 0.077, 0.107, 0.168, 0.073]\n",
      "Rho_Numerical_raw = \n",
      " [[ 0.402+0.00000000e+00j -0.004-6.92820323e-03j -0.009-3.98371686e-02j]\n",
      " [-0.004+6.92820323e-03j  0.052-6.86961759e-20j -0.004+2.77128129e-02j]\n",
      " [-0.009+3.98371686e-02j -0.004-2.77128129e-02j  0.546+3.91699176e-18j]]\n",
      "\n",
      " Rho_Numerical = \n",
      " [[ 0.402+0.j      -0.004-0.00693j -0.009-0.03984j]\n",
      " [-0.004+0.00693j  0.052-0.j      -0.004+0.02771j]\n",
      " [-0.009+0.03984j -0.004-0.02771j  0.546+0.j     ]]\n",
      "\n",
      "Difference (rho-rho_num) = \n",
      "  [[-0.098+0.j      -0.004-0.00693j -0.009-0.03984j]\n",
      " [-0.004+0.00693j  0.052-0.j      -0.004+0.02771j]\n",
      " [-0.009+0.03984j -0.004-0.02771j  0.046+0.j     ]]\n",
      "\n",
      " evals and evecs of del_rho= \n",
      "  [-0.10937435-2.92861597e-19j  0.0271911 +1.17587333e-18j\n",
      "  0.08218324-1.21587143e-17j] [[ 0.96358491+0.j          0.180609  -0.09807848j -0.00845508-0.17086147j]\n",
      " [-0.01771174-0.05893059j  0.73189811+0.j         -0.05430929+0.67645335j]\n",
      " [ 0.0658692 -0.25175158j  0.0343256 +0.64877416j  0.71428022+0.j        ]]\n",
      "\n",
      " largest mod eval (error) = 0.10937434570347329\n"
     ]
    },
    {
     "data": {
      "text/plain": [
       "0.10937434570347329"
      ]
     },
     "execution_count": 120,
     "metadata": {},
     "output_type": "execute_result"
    }
   ],
   "source": [
    "#Creating function for the deltarho error\n",
    "\n",
    "def experiment_rho(N, coeff, priors, show_calcs = False):\n",
    "    initial_states = Creating_states(Abstract=False, coeff = coeff)     # Creating the two states with these coefficients\n",
    "    psi0 = initial_states[0]\n",
    "    psi1 = initial_states[1]    # created the states to be discriminated\n",
    "\n",
    "    psi0sq = []\n",
    "    psi1sq = []\n",
    "    [[psi0sq.append(i*j) for i in psi0] for j in psi0]\n",
    "    [[psi1sq.append(i*j) for i in psi1] for j in psi1]   \n",
    "    psi0psi0 = [psi0sq[0], (psi0sq[1]**2+psi0sq[2]**2)**(.5), psi0sq[3]]    \n",
    "    psi1psi1 = [psi1sq[0], (psi1sq[1]**(2)+psi1sq[2]**(2))**(.5), psi1sq[3]]    # creating square states\n",
    "    \n",
    "    vec_psi0psi0 = np.array(psi0psi0)     \n",
    "    vec_psi1psi1 = np.array(psi1psi1)\n",
    "    rho = priors[0]*np.outer(vec_psi0psi0, vec_psi0psi0)+ priors[1]*np.outer(vec_psi1psi1, vec_psi1psi1)     # theoretical density matrix with priors 1/2 each.\n",
    "\n",
    "    prob_vec =  [np.trace(np.dot(POVM_elts[i],rho)) for i in range(9)] \n",
    "    prob_vec = [round(i.real, 5) for i in prob_vec if abs(i.imag) < .01]          # cleaned up theoretical prob vector\n",
    "\n",
    "    POVM_dir_symbols = ['d1','d2','d3','d4','d5','d6','d7','d8','d9']      # symbols to indicate collapsed direction\n",
    "    #prob distribution is simply the corresponding elements of the prob_vec\n",
    "    collapse_dir_vec = rand.choices(POVM_dir_symbols, weights=prob_vec, k = N)   # choosing collapse directions with weights for N trials\n",
    "\n",
    "    nj_vec = [collapse_dir_vec.count(f'd{i+1}') for i in range(9)]\n",
    "    pj_num_vec = [i/N for i in nj_vec]                                  # numerical prob vector     \n",
    "    \n",
    "    r_vec = np.dot(M_inv,pj_num_vec)\n",
    "    \n",
    "    # constructing the rho numrical using the r_vector etc.\n",
    "    rho_num_list = [r_vec[i]*POVM_elts[i] for i in range(len(POVM_elts))]   # list of matrices, see equation 7 in Hillery notes pair_disc.pdf\n",
    "    rho_num_raw = np.zeros_like(rho_num_list[0])\n",
    "    for matrix in rho_num_list:\n",
    "        rho_num_raw = np.add(rho_num_raw, matrix)       # created the numerical rho\n",
    "    \n",
    "    rho_num = np.real_if_close(np.around(rho_num_raw, decimals=5))\n",
    "\n",
    "\n",
    "\n",
    "    del_rho = rho_num-rho \n",
    "    \n",
    "    eigenvalues, eigenvectors = np.linalg.eig(del_rho)  # each COLUMN is the corresponding eigenvector and not the row. eigenvectors[:,0]\n",
    "    # eigenvectors[:,0]   # eigenvector correspoding to the first eigenvalue\n",
    "    evals = np.array([i.real for i in eigenvalues if abs(i.imag)< .001])\n",
    "    norm_del_rho = max([abs(i) for i in evals])     # picking out the largest magnitude evalue\n",
    "    error = norm_del_rho\n",
    "\n",
    "    # expression = r'\\alpha = 5'\n",
    "    # latex_code = f'${expression}$'\n",
    "    # display(Latex(latex_code))\n",
    "\n",
    "\n",
    "    if show_calcs == True:\n",
    "        # print('Psi0 and 1 = ',psi0, psi1)\n",
    "        # print('Psi0Psi0 and 1 = ',psi0psi0, psi1psi1)\n",
    "        \n",
    "        # display(Latex(f'${r' put the latex code here '}$'))  # Template for displaying in latex\n",
    "        latex_psi0 = r'\\Psi_0 = {}|0\\rangle + {}|1\\rangle'.format(psi0[0],psi0[1])\n",
    "        latex_psi1 = r'\\Psi_1 = {}|0\\rangle + {}|1\\rangle'.format(psi1[0],psi1[1])\n",
    "\n",
    "\n",
    "        display(Latex(f'${latex_psi0}$'))\n",
    "        display(Latex(f'${latex_psi1}$'))\n",
    "        \n",
    "\n",
    "        \n",
    "        # display(Latex(f'${r' put the latex code here '}$'))  \n",
    "\n",
    "        \n",
    "        print('\\n Rho_Theorectical = \\n', rho)\n",
    "\n",
    "        print('\\n Prob_theory = ', prob_vec)\n",
    "        print('Prob_numerical = ', pj_num_vec)\n",
    "\n",
    "        print('Rho_Numerical_raw = \\n', rho_num_raw )\n",
    "        print('\\n Rho_Numerical = \\n', rho_num )\n",
    "        \n",
    "        print('\\nDifference (rho-rho_num) = \\n ', del_rho )\n",
    "        \n",
    "        print('\\n evals and evecs of del_rho= \\n ', eigenvalues, eigenvectors)\n",
    "        \n",
    "        print('\\n largest mod eval (error) =' , error)\n",
    "    return error\n",
    "\n",
    "\n",
    "# testing\n",
    "c= [1,0,0,1]\n",
    "p = [.5,.5]\n",
    "\n",
    "experiment_rho(1000, c,p, True)"
   ]
  },
  {
   "cell_type": "code",
   "execution_count": null,
   "metadata": {},
   "outputs": [],
   "source": []
  },
  {
   "cell_type": "code",
   "execution_count": null,
   "metadata": {},
   "outputs": [],
   "source": []
  },
  {
   "cell_type": "code",
   "execution_count": null,
   "metadata": {},
   "outputs": [],
   "source": []
  },
  {
   "cell_type": "code",
   "execution_count": null,
   "metadata": {},
   "outputs": [],
   "source": []
  },
  {
   "cell_type": "code",
   "execution_count": 18,
   "metadata": {},
   "outputs": [
    {
     "ename": "NameError",
     "evalue": "name 'show_cals' is not defined",
     "output_type": "error",
     "traceback": [
      "\u001b[0;31m---------------------------------------------------------------------------\u001b[0m",
      "\u001b[0;31mNameError\u001b[0m                                 Traceback (most recent call last)",
      "\u001b[1;32m/Users/pranjal/Desktop/Python/Research_python/Hillery_Research/Pair_Discrimination_main.ipynb Cell 22\u001b[0m line \u001b[0;36m6\n\u001b[1;32m      <a href='vscode-notebook-cell:/Users/pranjal/Desktop/Python/Research_python/Hillery_Research/Pair_Discrimination_main.ipynb#X21sZmlsZQ%3D%3D?line=2'>3</a>\u001b[0m trials \u001b[39m=\u001b[39m [\u001b[39m1000\u001b[39m\u001b[39m*\u001b[39m(i\u001b[39m+\u001b[39m\u001b[39m1\u001b[39m) \u001b[39mfor\u001b[39;00m i \u001b[39min\u001b[39;00m \u001b[39mrange\u001b[39m(\u001b[39m100\u001b[39m)]\n\u001b[1;32m      <a href='vscode-notebook-cell:/Users/pranjal/Desktop/Python/Research_python/Hillery_Research/Pair_Discrimination_main.ipynb#X21sZmlsZQ%3D%3D?line=4'>5</a>\u001b[0m sqrtN  \u001b[39m=\u001b[39m [\u001b[39m2.6\u001b[39m\u001b[39m/\u001b[39m(i\u001b[39m*\u001b[39m\u001b[39m*\u001b[39m\u001b[39m.5\u001b[39m) \u001b[39mfor\u001b[39;00m i \u001b[39min\u001b[39;00m trials]     \u001b[39m# ideal square root shape with a constant multiplied for scaling\u001b[39;00m\n\u001b[0;32m----> <a href='vscode-notebook-cell:/Users/pranjal/Desktop/Python/Research_python/Hillery_Research/Pair_Discrimination_main.ipynb#X21sZmlsZQ%3D%3D?line=5'>6</a>\u001b[0m errors \u001b[39m=\u001b[39m [experiment_rho(i,coeff,priors) \u001b[39mfor\u001b[39;49;00m i \u001b[39min\u001b[39;49;00m trials]\n\u001b[1;32m      <a href='vscode-notebook-cell:/Users/pranjal/Desktop/Python/Research_python/Hillery_Research/Pair_Discrimination_main.ipynb#X21sZmlsZQ%3D%3D?line=7'>8</a>\u001b[0m plt\u001b[39m.\u001b[39mplot(trials, errors, label\u001b[39m=\u001b[39m\u001b[39mr\u001b[39m\u001b[39m'\u001b[39m\u001b[39m$\u001b[39m\u001b[39m\\\u001b[39m\u001b[39mDelta \u001b[39m\u001b[39m\\\u001b[39m\u001b[39mrho $\u001b[39m\u001b[39m'\u001b[39m)\n\u001b[1;32m      <a href='vscode-notebook-cell:/Users/pranjal/Desktop/Python/Research_python/Hillery_Research/Pair_Discrimination_main.ipynb#X21sZmlsZQ%3D%3D?line=8'>9</a>\u001b[0m plt\u001b[39m.\u001b[39mplot(trials ,sqrtN, \u001b[39m\"\u001b[39m\u001b[39m--\u001b[39m\u001b[39m\"\u001b[39m, label\u001b[39m=\u001b[39m\u001b[39mr\u001b[39m\u001b[39m'\u001b[39m\u001b[39m$\u001b[39m\u001b[39m\\\u001b[39m\u001b[39mfrac\u001b[39m\u001b[39m{1}\u001b[39;00m\u001b[39m{\u001b[39m\u001b[39m\\\u001b[39m\u001b[39msqrt\u001b[39m\u001b[39m{N}\u001b[39;00m\u001b[39m}$\u001b[39m\u001b[39m'\u001b[39m)\n",
      "\u001b[1;32m/Users/pranjal/Desktop/Python/Research_python/Hillery_Research/Pair_Discrimination_main.ipynb Cell 22\u001b[0m line \u001b[0;36m6\n\u001b[1;32m      <a href='vscode-notebook-cell:/Users/pranjal/Desktop/Python/Research_python/Hillery_Research/Pair_Discrimination_main.ipynb#X21sZmlsZQ%3D%3D?line=2'>3</a>\u001b[0m trials \u001b[39m=\u001b[39m [\u001b[39m1000\u001b[39m\u001b[39m*\u001b[39m(i\u001b[39m+\u001b[39m\u001b[39m1\u001b[39m) \u001b[39mfor\u001b[39;00m i \u001b[39min\u001b[39;00m \u001b[39mrange\u001b[39m(\u001b[39m100\u001b[39m)]\n\u001b[1;32m      <a href='vscode-notebook-cell:/Users/pranjal/Desktop/Python/Research_python/Hillery_Research/Pair_Discrimination_main.ipynb#X21sZmlsZQ%3D%3D?line=4'>5</a>\u001b[0m sqrtN  \u001b[39m=\u001b[39m [\u001b[39m2.6\u001b[39m\u001b[39m/\u001b[39m(i\u001b[39m*\u001b[39m\u001b[39m*\u001b[39m\u001b[39m.5\u001b[39m) \u001b[39mfor\u001b[39;00m i \u001b[39min\u001b[39;00m trials]     \u001b[39m# ideal square root shape with a constant multiplied for scaling\u001b[39;00m\n\u001b[0;32m----> <a href='vscode-notebook-cell:/Users/pranjal/Desktop/Python/Research_python/Hillery_Research/Pair_Discrimination_main.ipynb#X21sZmlsZQ%3D%3D?line=5'>6</a>\u001b[0m errors \u001b[39m=\u001b[39m [experiment_rho(i,coeff,priors) \u001b[39mfor\u001b[39;00m i \u001b[39min\u001b[39;00m trials]\n\u001b[1;32m      <a href='vscode-notebook-cell:/Users/pranjal/Desktop/Python/Research_python/Hillery_Research/Pair_Discrimination_main.ipynb#X21sZmlsZQ%3D%3D?line=7'>8</a>\u001b[0m plt\u001b[39m.\u001b[39mplot(trials, errors, label\u001b[39m=\u001b[39m\u001b[39mr\u001b[39m\u001b[39m'\u001b[39m\u001b[39m$\u001b[39m\u001b[39m\\\u001b[39m\u001b[39mDelta \u001b[39m\u001b[39m\\\u001b[39m\u001b[39mrho $\u001b[39m\u001b[39m'\u001b[39m)\n\u001b[1;32m      <a href='vscode-notebook-cell:/Users/pranjal/Desktop/Python/Research_python/Hillery_Research/Pair_Discrimination_main.ipynb#X21sZmlsZQ%3D%3D?line=8'>9</a>\u001b[0m plt\u001b[39m.\u001b[39mplot(trials ,sqrtN, \u001b[39m\"\u001b[39m\u001b[39m--\u001b[39m\u001b[39m\"\u001b[39m, label\u001b[39m=\u001b[39m\u001b[39mr\u001b[39m\u001b[39m'\u001b[39m\u001b[39m$\u001b[39m\u001b[39m\\\u001b[39m\u001b[39mfrac\u001b[39m\u001b[39m{1}\u001b[39;00m\u001b[39m{\u001b[39m\u001b[39m\\\u001b[39m\u001b[39msqrt\u001b[39m\u001b[39m{N}\u001b[39;00m\u001b[39m}$\u001b[39m\u001b[39m'\u001b[39m)\n",
      "\u001b[1;32m/Users/pranjal/Desktop/Python/Research_python/Hillery_Research/Pair_Discrimination_main.ipynb Cell 22\u001b[0m line \u001b[0;36m5\n\u001b[1;32m     <a href='vscode-notebook-cell:/Users/pranjal/Desktop/Python/Research_python/Hillery_Research/Pair_Discrimination_main.ipynb#X21sZmlsZQ%3D%3D?line=42'>43</a>\u001b[0m error \u001b[39m=\u001b[39m norm_del_rho\n\u001b[1;32m     <a href='vscode-notebook-cell:/Users/pranjal/Desktop/Python/Research_python/Hillery_Research/Pair_Discrimination_main.ipynb#X21sZmlsZQ%3D%3D?line=44'>45</a>\u001b[0m \u001b[39m# expression = r'\\alpha = 5'\u001b[39;00m\n\u001b[1;32m     <a href='vscode-notebook-cell:/Users/pranjal/Desktop/Python/Research_python/Hillery_Research/Pair_Discrimination_main.ipynb#X21sZmlsZQ%3D%3D?line=45'>46</a>\u001b[0m \u001b[39m# latex_code = f'${expression}$'\u001b[39;00m\n\u001b[1;32m     <a href='vscode-notebook-cell:/Users/pranjal/Desktop/Python/Research_python/Hillery_Research/Pair_Discrimination_main.ipynb#X21sZmlsZQ%3D%3D?line=46'>47</a>\u001b[0m \u001b[39m# display(Latex(latex_code))\u001b[39;00m\n\u001b[0;32m---> <a href='vscode-notebook-cell:/Users/pranjal/Desktop/Python/Research_python/Hillery_Research/Pair_Discrimination_main.ipynb#X21sZmlsZQ%3D%3D?line=49'>50</a>\u001b[0m \u001b[39mif\u001b[39;00m show_cals \u001b[39m==\u001b[39m \u001b[39mTrue\u001b[39;00m:\n\u001b[1;32m     <a href='vscode-notebook-cell:/Users/pranjal/Desktop/Python/Research_python/Hillery_Research/Pair_Discrimination_main.ipynb#X21sZmlsZQ%3D%3D?line=50'>51</a>\u001b[0m     \u001b[39mprint\u001b[39m(\u001b[39m'\u001b[39m\u001b[39mPsi0 and 1 = \u001b[39m\u001b[39m'\u001b[39m,psi0, psi1)\n\u001b[1;32m     <a href='vscode-notebook-cell:/Users/pranjal/Desktop/Python/Research_python/Hillery_Research/Pair_Discrimination_main.ipynb#X21sZmlsZQ%3D%3D?line=51'>52</a>\u001b[0m     \u001b[39mprint\u001b[39m(\u001b[39m'\u001b[39m\u001b[39mPsi0Psi0 and 1 = \u001b[39m\u001b[39m'\u001b[39m,psi0psi0, psi1psi1)\n",
      "\u001b[0;31mNameError\u001b[0m: name 'show_cals' is not defined"
     ]
    }
   ],
   "source": [
    "coeff = [1,0,0,1]\n",
    "priors = [.5,.5]\n",
    "trials = [1000*(i+1) for i in range(100)]\n",
    "\n",
    "sqrtN  = [2.6/(i**.5) for i in trials]     # ideal square root shape with a constant multiplied for scaling\n",
    "errors = [experiment_rho(i,coeff,priors) for i in trials]\n",
    "\n",
    "plt.plot(trials, errors, label=r'$\\Delta \\rho $')\n",
    "plt.plot(trials ,sqrtN, \"--\", label=r'$\\frac{1}{\\sqrt{N}}$')\n",
    "plt.xlabel(' N (trials)')\n",
    "plt.ylabel(r'$\\Delta \\rho $')\n",
    "plt.title(r'$|\\psi_0\\rangle ={}|0\\rangle+{}|1\\rangle $, $|\\psi_1\\rangle ={}|0\\rangle+{}|1\\rangle $, $p_0={},\\,p_1={}$'.format(coeff[0], coeff[1], coeff[2], coeff[3], priors[0], priors[1]))\n",
    "plt.legend()\n",
    "\n",
    "plt.show()"
   ]
  },
  {
   "cell_type": "code",
   "execution_count": null,
   "metadata": {},
   "outputs": [
    {
     "name": "stdout",
     "output_type": "stream",
     "text": [
      "(-3.16717558878739-0.3225675790340646j) (-0.9178723650463316+0.04945963565236063j)\n",
      "0.9540406158149364 0.29967733210147385 0.676739062455634 0.7362229562752507\n",
      "[0.9540406158149364, 0.29967733210147385] [0.676739062455634, 0.7362229562752507]\n",
      "0.9101934966245431 0.5420242413466697\n"
     ]
    }
   ],
   "source": [
    "# computing the error (fidelity) on the states directly \n",
    "\n",
    "eigenvalues, eigenvectors = np.linalg.eig(rho_num) \n",
    "evals = np.array([i.real for i in eigenvalues if abs(i.imag)< .001])\n",
    "\n",
    "# Find the index of the smallest eigenvalue\n",
    "index = np.argmin(evals)\n",
    "\n",
    "# Select the corresponding eigenvector\n",
    "#eigenvector = eigenvectors[:, index]\n",
    "eigenvector = eigenvectors[index]\n",
    "\n",
    "# coeffs of csi \n",
    "c00=eigenvector[0]\n",
    "c01=eigenvector[1]\n",
    "c11=eigenvector[2]\n",
    "\n",
    "# def eq 5 in Hillery notes\n",
    "#def quadratic_equation(x, a, b, c):\n",
    "    #return a * x**2 + b * x + c\n",
    "\n",
    "# solve eq 5 in Hillery notes\n",
    "def solve_quadratic(a, b, c):\n",
    "    d = (b**2) - (4*a*c)\n",
    "    sol1 = (-b-cm.sqrt(d))/(2*a)\n",
    "    sol2 = (-b+cm.sqrt(d))/(2*a)\n",
    "    return sol1, sol2\n",
    "f0,f1=solve_quadratic(c00, 2*c01, c11)\n",
    "\n",
    "# find coeff a0,1 and b0,1 for the states\n",
    "a0 = abs(f0)/(m.sqrt(1+ (abs(f0))**2))\n",
    "a1 = 1/(m.sqrt(1+ (abs(f0))**2))\n",
    "b0 = abs(f1)/(m.sqrt(1+ (abs(f1))**2))\n",
    "b1 = 1/(m.sqrt(1+ (abs(f1))**2))\n",
    "\n",
    "# numerical states\n",
    "psi0_num = [a0,a1]\n",
    "psi1_num = [b0,b1]\n",
    "\n",
    "# theoretical states\n",
    "psi0 = [coeff[0],coeff[1]]\n",
    "psi1 = [coeff[2],coeff[3]]\n",
    "\n",
    "# fidelity\n",
    "fid0 = abs(np.dot(psi0_num,psi0))**2\n",
    "fid1 = abs(np.dot(psi1_num,psi1))**2\n",
    "print(fid0,fid1)\n"
   ]
  },
  {
   "cell_type": "code",
   "execution_count": null,
   "metadata": {},
   "outputs": [],
   "source": [
    "#Creating function for the deltarho error\n",
    "\n",
    "def solve_quadratic(a, b, c):\n",
    "    d = (b**2) - (4*a*c)\n",
    "    sol1 = (-b-cm.sqrt(d))/(2*a)\n",
    "    sol2 = (-b+cm.sqrt(d))/(2*a)\n",
    "    return sol1, sol2\n",
    "\n",
    "def experiment_fid(N, coeff, priors):\n",
    "    initial_states = Creating_states(Abstract=False, coeff = coeff)     # Creating the two states with these coefficients\n",
    "    psi0 = initial_states[0]\n",
    "    psi1 = initial_states[1]    # created the states to be discriminated\n",
    "\n",
    "    psi0sq = []\n",
    "    psi1sq = []\n",
    "    [[psi0sq.append(i*j) for i in psi0] for j in psi0]\n",
    "    [[psi1sq.append(i*j) for i in psi1] for j in psi1]   \n",
    "    psi0psi0 = [psi0sq[0], (psi0sq[1]**2+psi0sq[2]**2)**(.5), psi0sq[3]]    \n",
    "    psi1psi1 = [psi1sq[0], (psi1sq[1]**(2)+psi1sq[2]**(2))**(.5), psi1sq[3]]    # creating square states\n",
    "    \n",
    "    vec_psi0psi0 = np.array(psi0psi0)     \n",
    "    vec_psi1psi1 = np.array(psi1psi1)\n",
    "    rho = priors[0]*np.outer(vec_psi0psi0, vec_psi0psi0)+ priors[1]*np.outer(vec_psi1psi1, vec_psi1psi1)     # theoretical density matrix with priors 1/2 each.\n",
    "\n",
    "    prob_vec =  [np.trace(np.dot(POVM_elts[i],rho)) for i in range(9)] \n",
    "    prob_vec = [i.real for i in prob_vec if abs(i.imag) < .01]          # cleaned up theoretical prob vector\n",
    "\n",
    "    POVM_dir_symbols = ['d1','d2','d3','d4','d5','d6','d7','d8','d9']      # symbols to indicate collapsed direction\n",
    "    #prob distribution is simply the corresponding elements of the prob_vec\n",
    "    collapse_dir_vec = rand.choices(POVM_dir_symbols, weights=prob_vec, k = N)   # choosing collapse directions with weights for N trials\n",
    "\n",
    "    nj_vec = [collapse_dir_vec.count(f'd{i+1}') for i in range(9)]\n",
    "    pj_num_vec = [i/N for i in nj_vec]                                  # numerical prob vector     \n",
    "    \n",
    "    r_vec = np.dot(M_inv,pj_num_vec)\n",
    "    \n",
    "    # constructing the rho numrical using the r_vector etc.\n",
    "    rho_num_list = [r_vec[i]*POVM_elts[i] for i in range(len(POVM_elts))]   # list of matrices, see equation 7 in Hillery notes pair_disc.pdf\n",
    "    rho_num = np.zeros_like(rho_num_list[0])\n",
    "    for matrix in rho_num_list:\n",
    "        rho_num = np.add(rho_num, matrix)       # created the numerical rho\n",
    "     \n",
    "    eigenvalues, eigenvectors = np.linalg.eig(rho_num) \n",
    "    evals = np.array([i.real for i in eigenvalues if abs(i.imag)< .001])\n",
    "    index = np.argmin(evals)\n",
    "    eigenvector = eigenvectors[index]\n",
    "    c00=eigenvector[0]\n",
    "    c01=eigenvector[1]\n",
    "    c11=eigenvector[2]\n",
    "    f0,f1=solve_quadratic(c00, 2*c01, c11)\n",
    "    a0 = abs(f0)/(m.sqrt(1+ (abs(f0))**2))\n",
    "    a1 = 1/(m.sqrt(1+ (abs(f0))**2))\n",
    "    b0 = abs(f1)/(m.sqrt(1+ (abs(f1))**2))\n",
    "    b1 = 1/(m.sqrt(1+ (abs(f1))**2))\n",
    "    psi0_num = [a0,a1]\n",
    "    psi1_num = [b0,b1]\n",
    "    psi0 = [coeff[0],coeff[1]]\n",
    "    psi1 = [coeff[2],coeff[3]]\n",
    "    fid0 = abs(np.dot(psi0_num,psi0))**2\n",
    "    fid1 = abs(np.dot(psi1_num,psi1))**2\n",
    "    fid = [fid0,fid1]\n",
    "\n",
    "    return fid"
   ]
  },
  {
   "cell_type": "code",
   "execution_count": null,
   "metadata": {},
   "outputs": [
    {
     "data": {
      "image/png": "[encoded data removed]",
      "text/plain": [
       "<Figure size 1000x400 with 2 Axes>"
      ]
     },
     "metadata": {},
     "output_type": "display_data"
    }
   ],
   "source": [
    "coeff = [1,0,0,1]\n",
    "priors = [.5,.5]\n",
    "trials = [1000*(i+1) for i in range(100)]\n",
    "\n",
    "pfid  = [1 for i in trials]     # perfect fidelity of 1\n",
    "error0 = [experiment_fid(i,coeff,priors)[0] for i in trials]\n",
    "error1 = [experiment_fid(i,coeff,priors)[1] for i in trials]\n",
    "\n",
    "fig, (ax1, ax2) = plt.subplots(1,2, figsize=(10,4), sharey=True)\n",
    "\n",
    "ax1.plot(trials, error0, label=r'$F_0=|\\langle \\psi_0|\\psi_0^{\\,n}\\rangle|^2$')\n",
    "ax1.plot(trials , pfid, \"--\", label=r'$F=1$')\n",
    "ax1.set_xlabel(' N (trials)')\n",
    "ax1.set_ylabel(r'Fidelity $F$')\n",
    "ax1.set_title(r'$|\\psi_0\\rangle ={}|0\\rangle+{}|1\\rangle $, $p_0={}$'.format(coeff[0], coeff[1],priors[0]))\n",
    "ax1.legend(loc='best')\n",
    "\n",
    "ax2.plot(trials, error1, label=r'$F_1=|\\langle \\psi_1|\\psi_1^{\\,n}\\rangle|^2$')\n",
    "ax2.plot(trials , pfid, \"--\", label=r'$F=1$')\n",
    "ax2.set_xlabel(' N (trials)')\n",
    "ax2.set_title(r'$|\\psi_1\\rangle ={}|0\\rangle+{}|1\\rangle $, $p_1={}$'.format(coeff[2], coeff[3], priors[1]))\n",
    "ax2.legend(loc='best')\n",
    "\n",
    "fig.tight_layout()\n",
    "plt.show()"
   ]
  },
  {
   "cell_type": "code",
   "execution_count": null,
   "metadata": {},
   "outputs": [],
   "source": []
  }
 ],
 "metadata": {
  "kernelspec": {
   "display_name": "Python 3",
   "language": "python",
   "name": "python3"
  },
  "language_info": {
   "codemirror_mode": {
    "name": "ipython",
    "version": 3
   },
   "file_extension": ".py",
   "mimetype": "text/x-python",
   "name": "python",
   "nbconvert_exporter": "python",
   "pygments_lexer": "ipython3",
   "version": "3.11.4"
  },
  "orig_nbformat": 4
 },
 "nbformat": 4,
 "nbformat_minor": 2
}
