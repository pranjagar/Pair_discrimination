{
 "cells": [
  {
   "cell_type": "code",
   "execution_count": 2,
   "metadata": {},
   "outputs": [],
   "source": [
    "import numpy as np\n",
    "import pandas as pd\n",
    "import math as m\n",
    "import cmath\n",
    "import sympy as sym\n",
    "import scipy as sci\n",
    "import matplotlib.ticker as ticker\n",
    "import random as rand\n",
    "import matplotlib.pyplot as plt\n",
    "import cmath as cm\n",
    "from IPython.display import display, Latex\n",
    "from sympy import pprint\n",
    "# from scipy.optimize import minimize as GDlib\n",
    "from scipy.optimize import minimize \n",
    "import MLE_functions as fn\n",
    "from scipy.optimize import fsolve\n",
    "import pandas as pd\n",
    "import MLE_functions_numpy as fnn\n",
    "# from minimize import least_squares"
   ]
  },
  {
   "cell_type": "markdown",
   "metadata": {},
   "source": [
    "explicitly writing all the intermediate values in the inversion function to spot the error in fidelities.."
   ]
  },
  {
   "cell_type": "markdown",
   "metadata": {},
   "source": [
    "the error is narrowed down to difference in the theoretical numerical density matrices which comes from num experiment function. \n",
    "exploring it below"
   ]
  },
  {
   "cell_type": "code",
   "execution_count": null,
   "metadata": {},
   "outputs": [],
   "source": [
    "states_tru2 = fnn.Creating_states(tru2)\n",
    "expt = fnn.num_experiment(params = tru2, nju = bad_nju)\n",
    "\n",
    "\n",
    "st_1 = states_tru2[0]\n",
    "# st_2 = expt[0]\n",
    "\n",
    "stst = states_tru2[1]\n",
    "\n",
    "print('','rho_th:',)\n",
    "rho = states_tru2[2]\n",
    "print(rho)\n",
    "\n",
    "r = expt[1]\n",
    "r_n = expt[2]\n",
    "p = expt[3]\n",
    "n = expt[4]\n",
    "\n"
   ]
  },
  {
   "cell_type": "markdown",
   "metadata": {},
   "source": [
    "FixED!! Moving back to debugging the inversion function, , specifically the problem of possibile flipping of the coefficients"
   ]
  },
  {
   "cell_type": "code",
   "execution_count": null,
   "metadata": {},
   "outputs": [],
   "source": []
  },
  {
   "cell_type": "markdown",
   "metadata": {},
   "source": [
    "So apparently the error turns out to be in the order of elements of the eigenvector of concern which is the xi eigenvector and apparently the first and the second elements are flipped for that we expect the un flipped versions because the reason that very small perturbation from the actual theoretical matrix should only result in a small perturbation in the eigenvectors and not a huge one as it seems to be"
   ]
  },
  {
   "cell_type": "markdown",
   "metadata": {},
   "source": [
    "trying many collapse vectors at random and seeing for how many of them the Xi vector is \"inverted\" in the corresponding coeffs and fids. "
   ]
  },
  {
   "cell_type": "code",
   "execution_count": null,
   "metadata": {},
   "outputs": [],
   "source": []
  },
  {
   "cell_type": "code",
   "execution_count": null,
   "metadata": {},
   "outputs": [],
   "source": []
  },
  {
   "cell_type": "markdown",
   "metadata": {},
   "source": [
    "Checking likelihood function for bad njus"
   ]
  },
  {
   "cell_type": "code",
   "execution_count": 8,
   "metadata": {},
   "outputs": [
    {
     "name": "stdout",
     "output_type": "stream",
     "text": [
      "less! [[523.4366464249573, 22681.932568447304], [322.4436996674962, 2342.1443533254705]]\n",
      "less [1311, 170, 661, 517, 105, 759, 625, 141, 711]\n"
     ]
    },
    {
     "name": "stderr",
     "output_type": "stream",
     "text": [
      "/Library/Frameworks/Python.framework/Versions/3.11/lib/python3.11/site-packages/scipy/optimize/_differentiable_functions.py:243: ComplexWarning: Casting complex values to real discards the imaginary part\n",
      "  self.x = np.atleast_1d(x).astype(float)\n",
      "/Library/Frameworks/Python.framework/Versions/3.11/lib/python3.11/site-packages/scipy/optimize/_differentiable_functions.py:243: ComplexWarning: Casting complex values to real discards the imaginary part\n",
      "  self.x = np.atleast_1d(x).astype(float)\n",
      "/Library/Frameworks/Python.framework/Versions/3.11/lib/python3.11/site-packages/scipy/optimize/_differentiable_functions.py:107: ComplexWarning: Casting complex values to real discards the imaginary part\n",
      "  self.x = np.atleast_1d(x0).astype(float)\n",
      "/Library/Frameworks/Python.framework/Versions/3.11/lib/python3.11/site-packages/scipy/optimize/_differentiable_functions.py:243: ComplexWarning: Casting complex values to real discards the imaginary part\n",
      "  self.x = np.atleast_1d(x).astype(float)\n",
      "/Library/Frameworks/Python.framework/Versions/3.11/lib/python3.11/site-packages/scipy/optimize/_differentiable_functions.py:243: ComplexWarning: Casting complex values to real discards the imaginary part\n",
      "  self.x = np.atleast_1d(x).astype(float)\n"
     ]
    },
    {
     "name": "stdout",
     "output_type": "stream",
     "text": [
      "more [[1392.281443416299, 745034.8257731985], [1054.84238589737, 748100.9761362501]]\n",
      "more [1381, 157, 678, 471, 101, 744, 593, 105, 770]\n"
     ]
    },
    {
     "name": "stderr",
     "output_type": "stream",
     "text": [
      "/Library/Frameworks/Python.framework/Versions/3.11/lib/python3.11/site-packages/scipy/optimize/_differentiable_functions.py:107: ComplexWarning: Casting complex values to real discards the imaginary part\n",
      "  self.x = np.atleast_1d(x0).astype(float)\n"
     ]
    },
    {
     "name": "stdout",
     "output_type": "stream",
     "text": [
      "more [[923.9061827250872, 852026.2504432388], [919.3203195664302, 794370.4257244627]]\n",
      "more [1284, 160, 660, 530, 110, 759, 604, 106, 787]\n",
      "more [[250748.24749014524, 240224.82848254568], [154457.55410020312, 246517.90689739873]]\n",
      "more [1367, 161, 637, 526, 104, 717, 592, 109, 787]\n",
      "less! [[260.65431300259513, 6427.2977207037175], [114.66610915200626, 53837.561913493315]]\n",
      "less [1341, 171, 620, 535, 78, 753, 620, 122, 760]\n"
     ]
    },
    {
     "name": "stderr",
     "output_type": "stream",
     "text": [
      "/Library/Frameworks/Python.framework/Versions/3.11/lib/python3.11/site-packages/scipy/optimize/_differentiable_functions.py:243: ComplexWarning: Casting complex values to real discards the imaginary part\n",
      "  self.x = np.atleast_1d(x).astype(float)\n"
     ]
    },
    {
     "name": "stdout",
     "output_type": "stream",
     "text": [
      "more [[633.4636434056629, 910837.0721170825], [306.6308276069574, 910837.0721170825]]\n",
      "more [1409, 141, 607, 537, 82, 781, 619, 107, 717]\n"
     ]
    },
    {
     "name": "stderr",
     "output_type": "stream",
     "text": [
      "/Library/Frameworks/Python.framework/Versions/3.11/lib/python3.11/site-packages/scipy/optimize/_differentiable_functions.py:107: ComplexWarning: Casting complex values to real discards the imaginary part\n",
      "  self.x = np.atleast_1d(x0).astype(float)\n",
      "/Library/Frameworks/Python.framework/Versions/3.11/lib/python3.11/site-packages/scipy/optimize/_differentiable_functions.py:243: ComplexWarning: Casting complex values to real discards the imaginary part\n",
      "  self.x = np.atleast_1d(x).astype(float)\n"
     ]
    },
    {
     "name": "stdout",
     "output_type": "stream",
     "text": [
      "less! [[433.24866716321077, 19619.40164629039], [277.2439190891207, 90901.01088454871]]\n",
      "less [1353, 179, 620, 505, 81, 723, 617, 156, 766]\n",
      "less! [[69.03437884064888, 6912.925165491357], [592.7429727362598, 119689.90486769594]]\n",
      "less [1330, 163, 637, 558, 69, 768, 606, 114, 755]\n"
     ]
    },
    {
     "name": "stderr",
     "output_type": "stream",
     "text": [
      "/Library/Frameworks/Python.framework/Versions/3.11/lib/python3.11/site-packages/scipy/optimize/_differentiable_functions.py:243: ComplexWarning: Casting complex values to real discards the imaginary part\n",
      "  self.x = np.atleast_1d(x).astype(float)\n",
      "/Library/Frameworks/Python.framework/Versions/3.11/lib/python3.11/site-packages/scipy/optimize/_differentiable_functions.py:243: ComplexWarning: Casting complex values to real discards the imaginary part\n",
      "  self.x = np.atleast_1d(x).astype(float)\n",
      "/Library/Frameworks/Python.framework/Versions/3.11/lib/python3.11/site-packages/scipy/optimize/_differentiable_functions.py:107: ComplexWarning: Casting complex values to real discards the imaginary part\n",
      "  self.x = np.atleast_1d(x0).astype(float)\n"
     ]
    },
    {
     "name": "stdout",
     "output_type": "stream",
     "text": [
      "less! [[517.8741868877568, 2067.227898587265], [152.3781734680263, 3497.4092716766327]]\n",
      "less [1314, 171, 637, 498, 99, 744, 645, 133, 759]\n",
      "more [[991.1832161707546, 464630.24466458446], [976.9816347429128, 551921.1535564237]]\n",
      "more [1319, 179, 643, 485, 95, 757, 604, 133, 785]\n",
      "less! [[220.04232731798191, 28520.699240249025], [127.77775752770282, 19570.54782880596]]\n",
      "less [1366, 148, 654, 511, 89, 760, 619, 126, 727]\n"
     ]
    },
    {
     "name": "stderr",
     "output_type": "stream",
     "text": [
      "/Library/Frameworks/Python.framework/Versions/3.11/lib/python3.11/site-packages/scipy/optimize/_differentiable_functions.py:243: ComplexWarning: Casting complex values to real discards the imaginary part\n",
      "  self.x = np.atleast_1d(x).astype(float)\n",
      "/Library/Frameworks/Python.framework/Versions/3.11/lib/python3.11/site-packages/scipy/optimize/_differentiable_functions.py:107: ComplexWarning: Casting complex values to real discards the imaginary part\n",
      "  self.x = np.atleast_1d(x0).astype(float)\n",
      "/Library/Frameworks/Python.framework/Versions/3.11/lib/python3.11/site-packages/scipy/optimize/_differentiable_functions.py:243: ComplexWarning: Casting complex values to real discards the imaginary part\n",
      "  self.x = np.atleast_1d(x).astype(float)\n"
     ]
    },
    {
     "name": "stdout",
     "output_type": "stream",
     "text": [
      "more [[196182.7171079775, 295684.1322003251], [196182.7171079775, 272271.1870951028]]\n",
      "more [1346, 169, 666, 534, 100, 721, 580, 114, 770]\n"
     ]
    },
    {
     "name": "stderr",
     "output_type": "stream",
     "text": [
      "/Library/Frameworks/Python.framework/Versions/3.11/lib/python3.11/site-packages/scipy/optimize/_differentiable_functions.py:243: ComplexWarning: Casting complex values to real discards the imaginary part\n",
      "  self.x = np.atleast_1d(x).astype(float)\n",
      "/Library/Frameworks/Python.framework/Versions/3.11/lib/python3.11/site-packages/scipy/optimize/_differentiable_functions.py:107: ComplexWarning: Casting complex values to real discards the imaginary part\n",
      "  self.x = np.atleast_1d(x0).astype(float)\n",
      "/Library/Frameworks/Python.framework/Versions/3.11/lib/python3.11/site-packages/scipy/optimize/_differentiable_functions.py:243: ComplexWarning: Casting complex values to real discards the imaginary part\n",
      "  self.x = np.atleast_1d(x).astype(float)\n"
     ]
    },
    {
     "name": "stdout",
     "output_type": "stream",
     "text": [
      "more [[1261.6576150806802, 401879.2760632756], [874.3448822549071, 104372.2910300845]]\n",
      "more [1384, 163, 630, 472, 93, 778, 603, 113, 764]\n",
      "more [[233734.6276929039, 299116.94462029217], [233734.6276929039, 261133.71276973162]]\n",
      "more [1334, 163, 685, 529, 86, 698, 598, 112, 795]\n",
      "more [[575025.2806816922, 256063.42771596412], [560671.3155593642, 278479.60666761495]]\n",
      "more [1416, 145, 634, 513, 97, 790, 562, 125, 718]\n",
      "more [[769.7667924113638, 484036.7332924197], [1397.1534221377535, 459023.916451365]]\n",
      "more [1341, 166, 676, 481, 89, 727, 616, 125, 779]\n",
      "less! [[2207.216131398959, 26518.116885461906], [1493.7051294523496, 299928.4552766027]]\n",
      "less [1321, 179, 619, 533, 73, 776, 630, 109, 760]\n",
      "less! [[1144.2797151329787, 28514.279798530497], [194.49315747432917, 80905.63460382193]]\n",
      "less [1367, 142, 649, 541, 82, 731, 593, 124, 771]\n",
      "less! [[111.87278071278506, 10968.480167252492], [284.06203798581055, 68341.93714160663]]\n",
      "less [1386, 159, 627, 512, 84, 737, 600, 123, 772]\n",
      "more [[544.8789910007523, 450692.6410167371], [806.5288377991919, 458189.9781555123]]\n",
      "more [1337, 156, 654, 498, 96, 740, 600, 133, 786]\n",
      "more [[234050.304126726, 237734.73259019683], [175617.14071246737, 242871.20522679816]]\n",
      "more [1327, 156, 630, 536, 96, 719, 621, 109, 806]\n"
     ]
    },
    {
     "name": "stderr",
     "output_type": "stream",
     "text": [
      "/Library/Frameworks/Python.framework/Versions/3.11/lib/python3.11/site-packages/scipy/optimize/_differentiable_functions.py:243: ComplexWarning: Casting complex values to real discards the imaginary part\n",
      "  self.x = np.atleast_1d(x).astype(float)\n",
      "/Library/Frameworks/Python.framework/Versions/3.11/lib/python3.11/site-packages/scipy/optimize/_differentiable_functions.py:243: ComplexWarning: Casting complex values to real discards the imaginary part\n",
      "  self.x = np.atleast_1d(x).astype(float)\n",
      "/Library/Frameworks/Python.framework/Versions/3.11/lib/python3.11/site-packages/scipy/optimize/_differentiable_functions.py:107: ComplexWarning: Casting complex values to real discards the imaginary part\n",
      "  self.x = np.atleast_1d(x0).astype(float)\n",
      "/Library/Frameworks/Python.framework/Versions/3.11/lib/python3.11/site-packages/scipy/optimize/_differentiable_functions.py:243: ComplexWarning: Casting complex values to real discards the imaginary part\n",
      "  self.x = np.atleast_1d(x).astype(float)\n",
      "/Library/Frameworks/Python.framework/Versions/3.11/lib/python3.11/site-packages/scipy/optimize/_differentiable_functions.py:243: ComplexWarning: Casting complex values to real discards the imaginary part\n",
      "  self.x = np.atleast_1d(x).astype(float)\n",
      "/Library/Frameworks/Python.framework/Versions/3.11/lib/python3.11/site-packages/scipy/optimize/_differentiable_functions.py:107: ComplexWarning: Casting complex values to real discards the imaginary part\n",
      "  self.x = np.atleast_1d(x0).astype(float)\n"
     ]
    },
    {
     "ename": "KeyboardInterrupt",
     "evalue": "",
     "output_type": "error",
     "traceback": [
      "\u001b[0;31m---------------------------------------------------------------------------\u001b[0m",
      "\u001b[0;31mKeyError\u001b[0m                                  Traceback (most recent call last)",
      "File \u001b[0;32m/Library/Frameworks/Python.framework/Versions/3.11/lib/python3.11/site-packages/sympy/core/assumptions.py:499\u001b[0m, in \u001b[0;36mmake_property.<locals>.getit\u001b[0;34m(self)\u001b[0m\n\u001b[1;32m    498\u001b[0m \u001b[38;5;28;01mtry\u001b[39;00m:\n\u001b[0;32m--> 499\u001b[0m     \u001b[38;5;28;01mreturn\u001b[39;00m \u001b[38;5;28;43mself\u001b[39;49m\u001b[38;5;241;43m.\u001b[39;49m\u001b[43m_assumptions\u001b[49m\u001b[43m[\u001b[49m\u001b[43mfact\u001b[49m\u001b[43m]\u001b[49m\n\u001b[1;32m    500\u001b[0m \u001b[38;5;28;01mexcept\u001b[39;00m \u001b[38;5;167;01mKeyError\u001b[39;00m:\n",
      "\u001b[0;31mKeyError\u001b[0m: 'zero'",
      "\nDuring handling of the above exception, another exception occurred:\n",
      "\u001b[0;31mKeyboardInterrupt\u001b[0m                         Traceback (most recent call last)",
      "Cell \u001b[0;32mIn[8], line 5\u001b[0m\n\u001b[1;32m      2\u001b[0m coll6 \u001b[38;5;241m=\u001b[39m fnn\u001b[38;5;241m.\u001b[39mgenerate_collapses(tru6, \u001b[38;5;241m5000\u001b[39m, \u001b[38;5;241m100\u001b[39m)\n\u001b[1;32m      4\u001b[0m \u001b[38;5;28;01mfor\u001b[39;00m i \u001b[38;5;129;01min\u001b[39;00m coll6:\n\u001b[0;32m----> 5\u001b[0m     err4_i \u001b[38;5;241m=\u001b[39m \u001b[43mfnn\u001b[49m\u001b[38;5;241;43m.\u001b[39;49m\u001b[43mppm_errors\u001b[49m\u001b[43m(\u001b[49m\u001b[43mtru6\u001b[49m\u001b[43m,\u001b[49m\u001b[43m \u001b[49m\u001b[43mi\u001b[49m\u001b[43m)\u001b[49m\n\u001b[1;32m      6\u001b[0m     \u001b[38;5;28;01mif\u001b[39;00m \u001b[38;5;28msum\u001b[39m(err4_i[\u001b[38;5;241m0\u001b[39m])\u001b[38;5;241m>\u001b[39m\u001b[38;5;241m400000\u001b[39m:\n\u001b[1;32m      7\u001b[0m         \u001b[38;5;28mprint\u001b[39m(\u001b[38;5;124m'\u001b[39m\u001b[38;5;124mmore\u001b[39m\u001b[38;5;124m'\u001b[39m, err4_i)\n",
      "File \u001b[0;32m~/Desktop/Python/Research_python/Pair_disc_code/MLE_functions_numpy.py:591\u001b[0m, in \u001b[0;36mppm_errors\u001b[0;34m(tru, nju, method)\u001b[0m\n\u001b[1;32m    590\u001b[0m \u001b[38;5;28;01mdef\u001b[39;00m \u001b[38;5;21mppm_errors\u001b[39m(tru, nju, method \u001b[38;5;241m=\u001b[39m \u001b[38;5;124m'\u001b[39m\u001b[38;5;124mCG\u001b[39m\u001b[38;5;124m'\u001b[39m):\n\u001b[0;32m--> 591\u001b[0m     inv \u001b[38;5;241m=\u001b[39m \u001b[43mInversion_new\u001b[49m\u001b[43m(\u001b[49m\u001b[43mparams\u001b[49m\u001b[43m \u001b[49m\u001b[38;5;241;43m=\u001b[39;49m\u001b[43m \u001b[49m\u001b[43mtru\u001b[49m\u001b[43m,\u001b[49m\u001b[43m \u001b[49m\u001b[43mN\u001b[49m\u001b[43m \u001b[49m\u001b[38;5;241;43m=\u001b[39;49m\u001b[38;5;28;43mint\u001b[39;49m\u001b[43m(\u001b[49m\u001b[38;5;28;43msum\u001b[39;49m\u001b[43m(\u001b[49m\u001b[43mnju\u001b[49m\u001b[43m)\u001b[49m\u001b[43m)\u001b[49m\u001b[43m,\u001b[49m\u001b[43m \u001b[49m\u001b[43mthreshold\u001b[49m\u001b[43m \u001b[49m\u001b[38;5;241;43m=\u001b[39;49m\u001b[43m \u001b[49m\u001b[38;5;124;43m'\u001b[39;49m\u001b[38;5;124;43mvariable\u001b[39;49m\u001b[38;5;124;43m'\u001b[39;49m\u001b[43m,\u001b[49m\u001b[43m \u001b[49m\u001b[43mnju\u001b[49m\u001b[43m \u001b[49m\u001b[38;5;241;43m=\u001b[39;49m\u001b[43m \u001b[49m\u001b[43mnju\u001b[49m\u001b[43m)\u001b[49m\n\u001b[1;32m    592\u001b[0m     inv_params \u001b[38;5;241m=\u001b[39m inv[\u001b[38;5;241m2\u001b[39m]\n\u001b[1;32m    593\u001b[0m     sol \u001b[38;5;241m=\u001b[39m minimize(L, inv_params , method \u001b[38;5;241m=\u001b[39m method , args\u001b[38;5;241m=\u001b[39m(nju))\n",
      "File \u001b[0;32m~/Desktop/Python/Research_python/Pair_disc_code/MLE_functions_numpy.py:309\u001b[0m, in \u001b[0;36mInversion_new\u001b[0;34m(N, params, threshold, seed, an_pr, nju)\u001b[0m\n\u001b[1;32m    307\u001b[0m \u001b[38;5;28;01mdef\u001b[39;00m \u001b[38;5;21mInversion_new\u001b[39m( N \u001b[38;5;241m=\u001b[39m \u001b[38;5;241m10000\u001b[39m, params \u001b[38;5;241m=\u001b[39m [\u001b[38;5;241m0\u001b[39m,m\u001b[38;5;241m.\u001b[39mpi\u001b[38;5;241m/\u001b[39m\u001b[38;5;241m2\u001b[39m, m\u001b[38;5;241m.\u001b[39mpi\u001b[38;5;241m/\u001b[39m\u001b[38;5;241m4\u001b[39m], threshold \u001b[38;5;241m=\u001b[39m \u001b[38;5;124m'\u001b[39m\u001b[38;5;124mvariable\u001b[39m\u001b[38;5;124m'\u001b[39m, seed \u001b[38;5;241m=\u001b[39m \u001b[38;5;28;01mFalse\u001b[39;00m, an_pr \u001b[38;5;241m=\u001b[39m \u001b[38;5;28;01mTrue\u001b[39;00m, nju \u001b[38;5;241m=\u001b[39m \u001b[38;5;28;01mFalse\u001b[39;00m):    \u001b[38;5;66;03m# coeffs are as list [theta_1, theta_2, alpha] in radians\u001b[39;00m\n\u001b[1;32m    308\u001b[0m     \u001b[38;5;66;03m# seed = 42\u001b[39;00m\n\u001b[0;32m--> 309\u001b[0m     experiment \u001b[38;5;241m=\u001b[39m \u001b[43mnum_experiment\u001b[49m\u001b[43m(\u001b[49m\u001b[43mN\u001b[49m\u001b[38;5;241;43m=\u001b[39;49m\u001b[43m \u001b[49m\u001b[43mN\u001b[49m\u001b[43m,\u001b[49m\u001b[43m \u001b[49m\u001b[43mparams\u001b[49m\u001b[43m \u001b[49m\u001b[38;5;241;43m=\u001b[39;49m\u001b[43m \u001b[49m\u001b[43mparams\u001b[49m\u001b[43m,\u001b[49m\u001b[43m \u001b[49m\u001b[43man_pr\u001b[49m\u001b[38;5;241;43m=\u001b[39;49m\u001b[43m \u001b[49m\u001b[43man_pr\u001b[49m\u001b[43m,\u001b[49m\u001b[43m \u001b[49m\u001b[43mseed\u001b[49m\u001b[43m \u001b[49m\u001b[38;5;241;43m=\u001b[39;49m\u001b[43m \u001b[49m\u001b[43mseed\u001b[49m\u001b[43m)\u001b[49m\n\u001b[1;32m    310\u001b[0m     \u001b[38;5;28;01mif\u001b[39;00m nju \u001b[38;5;129;01mis\u001b[39;00m \u001b[38;5;129;01mnot\u001b[39;00m \u001b[38;5;28;01mFalse\u001b[39;00m:\n\u001b[1;32m    311\u001b[0m         N \u001b[38;5;241m=\u001b[39m \u001b[38;5;28mint\u001b[39m(\u001b[38;5;28msum\u001b[39m(nju))                                                    \u001b[38;5;66;03m# changing N coz it later affects thresholds etc.\u001b[39;00m\n",
      "File \u001b[0;32m~/Desktop/Python/Research_python/Pair_disc_code/MLE_functions_numpy.py:153\u001b[0m, in \u001b[0;36mnum_experiment\u001b[0;34m(N, params, seed, an_pr, nju)\u001b[0m\n\u001b[1;32m    151\u001b[0m POVM_dir_symbols \u001b[38;5;241m=\u001b[39m [\u001b[38;5;124m'\u001b[39m\u001b[38;5;124md1\u001b[39m\u001b[38;5;124m'\u001b[39m,\u001b[38;5;124m'\u001b[39m\u001b[38;5;124md2\u001b[39m\u001b[38;5;124m'\u001b[39m,\u001b[38;5;124m'\u001b[39m\u001b[38;5;124md3\u001b[39m\u001b[38;5;124m'\u001b[39m,\u001b[38;5;124m'\u001b[39m\u001b[38;5;124md4\u001b[39m\u001b[38;5;124m'\u001b[39m,\u001b[38;5;124m'\u001b[39m\u001b[38;5;124md5\u001b[39m\u001b[38;5;124m'\u001b[39m,\u001b[38;5;124m'\u001b[39m\u001b[38;5;124md6\u001b[39m\u001b[38;5;124m'\u001b[39m,\u001b[38;5;124m'\u001b[39m\u001b[38;5;124md7\u001b[39m\u001b[38;5;124m'\u001b[39m,\u001b[38;5;124m'\u001b[39m\u001b[38;5;124md8\u001b[39m\u001b[38;5;124m'\u001b[39m,\u001b[38;5;124m'\u001b[39m\u001b[38;5;124md9\u001b[39m\u001b[38;5;124m'\u001b[39m]      \u001b[38;5;66;03m# symbols to indicate collapsed direction\u001b[39;00m\n\u001b[1;32m    152\u001b[0m \u001b[38;5;66;03m#prob distribution is simply the corresponding elements of the prob_vec\u001b[39;00m\n\u001b[0;32m--> 153\u001b[0m collapse_dir_vec \u001b[38;5;241m=\u001b[39m \u001b[43mrand\u001b[49m\u001b[38;5;241;43m.\u001b[39;49m\u001b[43mchoices\u001b[49m\u001b[43m(\u001b[49m\u001b[43mPOVM_dir_symbols\u001b[49m\u001b[43m,\u001b[49m\u001b[43m \u001b[49m\u001b[43mweights\u001b[49m\u001b[38;5;241;43m=\u001b[39;49m\u001b[43mprob_vec\u001b[49m\u001b[43m,\u001b[49m\u001b[43m \u001b[49m\u001b[43mk\u001b[49m\u001b[43m \u001b[49m\u001b[38;5;241;43m=\u001b[39;49m\u001b[43m \u001b[49m\u001b[43mN\u001b[49m\u001b[43m)\u001b[49m   \u001b[38;5;66;03m# choosing collapse directions with weights for N trials\u001b[39;00m\n\u001b[1;32m    155\u001b[0m nj_vec \u001b[38;5;241m=\u001b[39m [collapse_dir_vec\u001b[38;5;241m.\u001b[39mcount(\u001b[38;5;124mf\u001b[39m\u001b[38;5;124m'\u001b[39m\u001b[38;5;124md\u001b[39m\u001b[38;5;132;01m{\u001b[39;00mi\u001b[38;5;241m+\u001b[39m\u001b[38;5;241m1\u001b[39m\u001b[38;5;132;01m}\u001b[39;00m\u001b[38;5;124m'\u001b[39m) \u001b[38;5;28;01mfor\u001b[39;00m i \u001b[38;5;129;01min\u001b[39;00m \u001b[38;5;28mrange\u001b[39m(\u001b[38;5;241m9\u001b[39m)]\n\u001b[1;32m    156\u001b[0m \u001b[38;5;28;01mif\u001b[39;00m nju \u001b[38;5;129;01mis\u001b[39;00m \u001b[38;5;129;01mnot\u001b[39;00m \u001b[38;5;28;01mFalse\u001b[39;00m:                                                    \u001b[38;5;66;03m#in case manual collapses needed to be given\u001b[39;00m\n",
      "File \u001b[0;32m/Library/Frameworks/Python.framework/Versions/3.11/lib/python3.11/random.py:514\u001b[0m, in \u001b[0;36mRandom.choices\u001b[0;34m(self, population, weights, cum_weights, k)\u001b[0m\n\u001b[1;32m    512\u001b[0m bisect \u001b[38;5;241m=\u001b[39m _bisect\n\u001b[1;32m    513\u001b[0m hi \u001b[38;5;241m=\u001b[39m n \u001b[38;5;241m-\u001b[39m \u001b[38;5;241m1\u001b[39m\n\u001b[0;32m--> 514\u001b[0m \u001b[38;5;28;01mreturn\u001b[39;00m \u001b[43m[\u001b[49m\u001b[43mpopulation\u001b[49m\u001b[43m[\u001b[49m\u001b[43mbisect\u001b[49m\u001b[43m(\u001b[49m\u001b[43mcum_weights\u001b[49m\u001b[43m,\u001b[49m\u001b[43m \u001b[49m\u001b[43mrandom\u001b[49m\u001b[43m(\u001b[49m\u001b[43m)\u001b[49m\u001b[43m \u001b[49m\u001b[38;5;241;43m*\u001b[39;49m\u001b[43m \u001b[49m\u001b[43mtotal\u001b[49m\u001b[43m,\u001b[49m\u001b[43m \u001b[49m\u001b[38;5;241;43m0\u001b[39;49m\u001b[43m,\u001b[49m\u001b[43m \u001b[49m\u001b[43mhi\u001b[49m\u001b[43m)\u001b[49m\u001b[43m]\u001b[49m\n\u001b[1;32m    515\u001b[0m \u001b[43m        \u001b[49m\u001b[38;5;28;43;01mfor\u001b[39;49;00m\u001b[43m \u001b[49m\u001b[43mi\u001b[49m\u001b[43m \u001b[49m\u001b[38;5;129;43;01min\u001b[39;49;00m\u001b[43m \u001b[49m\u001b[43m_repeat\u001b[49m\u001b[43m(\u001b[49m\u001b[38;5;28;43;01mNone\u001b[39;49;00m\u001b[43m,\u001b[49m\u001b[43m \u001b[49m\u001b[43mk\u001b[49m\u001b[43m)\u001b[49m\u001b[43m]\u001b[49m\n",
      "File \u001b[0;32m/Library/Frameworks/Python.framework/Versions/3.11/lib/python3.11/random.py:514\u001b[0m, in \u001b[0;36m<listcomp>\u001b[0;34m(.0)\u001b[0m\n\u001b[1;32m    512\u001b[0m bisect \u001b[38;5;241m=\u001b[39m _bisect\n\u001b[1;32m    513\u001b[0m hi \u001b[38;5;241m=\u001b[39m n \u001b[38;5;241m-\u001b[39m \u001b[38;5;241m1\u001b[39m\n\u001b[0;32m--> 514\u001b[0m \u001b[38;5;28;01mreturn\u001b[39;00m [population[bisect(cum_weights, \u001b[43mrandom\u001b[49m\u001b[43m(\u001b[49m\u001b[43m)\u001b[49m\u001b[43m \u001b[49m\u001b[38;5;241;43m*\u001b[39;49m\u001b[43m \u001b[49m\u001b[43mtotal\u001b[49m, \u001b[38;5;241m0\u001b[39m, hi)]\n\u001b[1;32m    515\u001b[0m         \u001b[38;5;28;01mfor\u001b[39;00m i \u001b[38;5;129;01min\u001b[39;00m _repeat(\u001b[38;5;28;01mNone\u001b[39;00m, k)]\n",
      "File \u001b[0;32m/Library/Frameworks/Python.framework/Versions/3.11/lib/python3.11/site-packages/sympy/core/decorators.py:236\u001b[0m, in \u001b[0;36m_SympifyWrapper.make_wrapped.<locals>._func\u001b[0;34m(self, other)\u001b[0m\n\u001b[1;32m    234\u001b[0m \u001b[38;5;28;01mif\u001b[39;00m \u001b[38;5;129;01mnot\u001b[39;00m \u001b[38;5;28misinstance\u001b[39m(other, expectedcls):\n\u001b[1;32m    235\u001b[0m     \u001b[38;5;28;01mreturn\u001b[39;00m retval\n\u001b[0;32m--> 236\u001b[0m \u001b[38;5;28;01mreturn\u001b[39;00m \u001b[43mfunc\u001b[49m\u001b[43m(\u001b[49m\u001b[38;5;28;43mself\u001b[39;49m\u001b[43m,\u001b[49m\u001b[43m \u001b[49m\u001b[43mother\u001b[49m\u001b[43m)\u001b[49m\n",
      "File \u001b[0;32m/Library/Frameworks/Python.framework/Versions/3.11/lib/python3.11/site-packages/sympy/core/decorators.py:106\u001b[0m, in \u001b[0;36mcall_highest_priority.<locals>.priority_decorator.<locals>.binary_op_wrapper\u001b[0;34m(self, other)\u001b[0m\n\u001b[1;32m    104\u001b[0m         \u001b[38;5;28;01mif\u001b[39;00m f \u001b[38;5;129;01mis\u001b[39;00m \u001b[38;5;129;01mnot\u001b[39;00m \u001b[38;5;28;01mNone\u001b[39;00m:\n\u001b[1;32m    105\u001b[0m             \u001b[38;5;28;01mreturn\u001b[39;00m f(\u001b[38;5;28mself\u001b[39m)\n\u001b[0;32m--> 106\u001b[0m \u001b[38;5;28;01mreturn\u001b[39;00m \u001b[43mfunc\u001b[49m\u001b[43m(\u001b[49m\u001b[38;5;28;43mself\u001b[39;49m\u001b[43m,\u001b[49m\u001b[43m \u001b[49m\u001b[43mother\u001b[49m\u001b[43m)\u001b[49m\n",
      "File \u001b[0;32m/Library/Frameworks/Python.framework/Versions/3.11/lib/python3.11/site-packages/sympy/core/expr.py:223\u001b[0m, in \u001b[0;36mExpr.__rmul__\u001b[0;34m(self, other)\u001b[0m\n\u001b[1;32m    220\u001b[0m \u001b[38;5;129m@sympify_return\u001b[39m([(\u001b[38;5;124m'\u001b[39m\u001b[38;5;124mother\u001b[39m\u001b[38;5;124m'\u001b[39m, \u001b[38;5;124m'\u001b[39m\u001b[38;5;124mExpr\u001b[39m\u001b[38;5;124m'\u001b[39m)], \u001b[38;5;28mNotImplemented\u001b[39m)\n\u001b[1;32m    221\u001b[0m \u001b[38;5;129m@call_highest_priority\u001b[39m(\u001b[38;5;124m'\u001b[39m\u001b[38;5;124m__mul__\u001b[39m\u001b[38;5;124m'\u001b[39m)\n\u001b[1;32m    222\u001b[0m \u001b[38;5;28;01mdef\u001b[39;00m \u001b[38;5;21m__rmul__\u001b[39m(\u001b[38;5;28mself\u001b[39m, other):\n\u001b[0;32m--> 223\u001b[0m     \u001b[38;5;28;01mreturn\u001b[39;00m \u001b[43mMul\u001b[49m\u001b[43m(\u001b[49m\u001b[43mother\u001b[49m\u001b[43m,\u001b[49m\u001b[43m \u001b[49m\u001b[38;5;28;43mself\u001b[39;49m\u001b[43m)\u001b[49m\n",
      "File \u001b[0;32m/Library/Frameworks/Python.framework/Versions/3.11/lib/python3.11/site-packages/sympy/core/cache.py:72\u001b[0m, in \u001b[0;36m__cacheit.<locals>.func_wrapper.<locals>.wrapper\u001b[0;34m(*args, **kwargs)\u001b[0m\n\u001b[1;32m     69\u001b[0m \u001b[38;5;129m@wraps\u001b[39m(func)\n\u001b[1;32m     70\u001b[0m \u001b[38;5;28;01mdef\u001b[39;00m \u001b[38;5;21mwrapper\u001b[39m(\u001b[38;5;241m*\u001b[39margs, \u001b[38;5;241m*\u001b[39m\u001b[38;5;241m*\u001b[39mkwargs):\n\u001b[1;32m     71\u001b[0m     \u001b[38;5;28;01mtry\u001b[39;00m:\n\u001b[0;32m---> 72\u001b[0m         retval \u001b[38;5;241m=\u001b[39m \u001b[43mcfunc\u001b[49m\u001b[43m(\u001b[49m\u001b[38;5;241;43m*\u001b[39;49m\u001b[43margs\u001b[49m\u001b[43m,\u001b[49m\u001b[43m \u001b[49m\u001b[38;5;241;43m*\u001b[39;49m\u001b[38;5;241;43m*\u001b[39;49m\u001b[43mkwargs\u001b[49m\u001b[43m)\u001b[49m\n\u001b[1;32m     73\u001b[0m     \u001b[38;5;28;01mexcept\u001b[39;00m \u001b[38;5;167;01mTypeError\u001b[39;00m \u001b[38;5;28;01mas\u001b[39;00m e:\n\u001b[1;32m     74\u001b[0m         \u001b[38;5;28;01mif\u001b[39;00m \u001b[38;5;129;01mnot\u001b[39;00m e\u001b[38;5;241m.\u001b[39margs \u001b[38;5;129;01mor\u001b[39;00m \u001b[38;5;129;01mnot\u001b[39;00m e\u001b[38;5;241m.\u001b[39margs[\u001b[38;5;241m0\u001b[39m]\u001b[38;5;241m.\u001b[39mstartswith(\u001b[38;5;124m'\u001b[39m\u001b[38;5;124munhashable type:\u001b[39m\u001b[38;5;124m'\u001b[39m):\n",
      "File \u001b[0;32m/Library/Frameworks/Python.framework/Versions/3.11/lib/python3.11/site-packages/sympy/core/operations.py:98\u001b[0m, in \u001b[0;36mAssocOp.__new__\u001b[0;34m(cls, evaluate, _sympify, *args)\u001b[0m\n\u001b[1;32m     95\u001b[0m \u001b[38;5;28;01mif\u001b[39;00m \u001b[38;5;28mlen\u001b[39m(args) \u001b[38;5;241m==\u001b[39m \u001b[38;5;241m1\u001b[39m:\n\u001b[1;32m     96\u001b[0m     \u001b[38;5;28;01mreturn\u001b[39;00m args[\u001b[38;5;241m0\u001b[39m]\n\u001b[0;32m---> 98\u001b[0m c_part, nc_part, order_symbols \u001b[38;5;241m=\u001b[39m \u001b[38;5;28;43mcls\u001b[39;49m\u001b[38;5;241;43m.\u001b[39;49m\u001b[43mflatten\u001b[49m\u001b[43m(\u001b[49m\u001b[43margs\u001b[49m\u001b[43m)\u001b[49m\n\u001b[1;32m     99\u001b[0m is_commutative \u001b[38;5;241m=\u001b[39m \u001b[38;5;129;01mnot\u001b[39;00m nc_part\n\u001b[1;32m    100\u001b[0m obj \u001b[38;5;241m=\u001b[39m \u001b[38;5;28mcls\u001b[39m\u001b[38;5;241m.\u001b[39m_from_args(c_part \u001b[38;5;241m+\u001b[39m nc_part, is_commutative)\n",
      "File \u001b[0;32m/Library/Frameworks/Python.framework/Versions/3.11/lib/python3.11/site-packages/sympy/core/mul.py:684\u001b[0m, in \u001b[0;36mMul.flatten\u001b[0;34m(cls, seq)\u001b[0m\n\u001b[1;32m    680\u001b[0m     nc_part \u001b[38;5;241m=\u001b[39m [c \u001b[38;5;28;01mfor\u001b[39;00m c \u001b[38;5;129;01min\u001b[39;00m nc_part \u001b[38;5;28;01mif\u001b[39;00m \u001b[38;5;129;01mnot\u001b[39;00m (fuzzy_not(c\u001b[38;5;241m.\u001b[39mis_zero) \u001b[38;5;129;01mand\u001b[39;00m\n\u001b[1;32m    681\u001b[0m                                           c\u001b[38;5;241m.\u001b[39mis_extended_real \u001b[38;5;129;01mis\u001b[39;00m \u001b[38;5;129;01mnot\u001b[39;00m \u001b[38;5;28;01mNone\u001b[39;00m)]\n\u001b[1;32m    683\u001b[0m \u001b[38;5;66;03m# 0\u001b[39;00m\n\u001b[0;32m--> 684\u001b[0m \u001b[38;5;28;01melif\u001b[39;00m \u001b[43mcoeff\u001b[49m\u001b[38;5;241;43m.\u001b[39;49m\u001b[43mis_zero\u001b[49m:\n\u001b[1;32m    685\u001b[0m     \u001b[38;5;66;03m# we know for sure the result will be 0 except the multiplicand\u001b[39;00m\n\u001b[1;32m    686\u001b[0m     \u001b[38;5;66;03m# is infinity or a matrix\u001b[39;00m\n\u001b[1;32m    687\u001b[0m     \u001b[38;5;28;01mif\u001b[39;00m \u001b[38;5;28many\u001b[39m(\u001b[38;5;28misinstance\u001b[39m(c, MatrixExpr) \u001b[38;5;28;01mfor\u001b[39;00m c \u001b[38;5;129;01min\u001b[39;00m nc_part):\n\u001b[1;32m    688\u001b[0m         \u001b[38;5;28;01mreturn\u001b[39;00m [coeff], nc_part, order_symbols\n",
      "File \u001b[0;32m/Library/Frameworks/Python.framework/Versions/3.11/lib/python3.11/site-packages/sympy/core/assumptions.py:503\u001b[0m, in \u001b[0;36mmake_property.<locals>.getit\u001b[0;34m(self)\u001b[0m\n\u001b[1;32m    501\u001b[0m \u001b[38;5;28;01mif\u001b[39;00m \u001b[38;5;28mself\u001b[39m\u001b[38;5;241m.\u001b[39m_assumptions \u001b[38;5;129;01mis\u001b[39;00m \u001b[38;5;28mself\u001b[39m\u001b[38;5;241m.\u001b[39mdefault_assumptions:\n\u001b[1;32m    502\u001b[0m     \u001b[38;5;28mself\u001b[39m\u001b[38;5;241m.\u001b[39m_assumptions \u001b[38;5;241m=\u001b[39m \u001b[38;5;28mself\u001b[39m\u001b[38;5;241m.\u001b[39mdefault_assumptions\u001b[38;5;241m.\u001b[39mcopy()\n\u001b[0;32m--> 503\u001b[0m \u001b[38;5;28;01mreturn\u001b[39;00m \u001b[43m_ask\u001b[49m\u001b[43m(\u001b[49m\u001b[43mfact\u001b[49m\u001b[43m,\u001b[49m\u001b[43m \u001b[49m\u001b[38;5;28;43mself\u001b[39;49m\u001b[43m)\u001b[49m\n",
      "File \u001b[0;32m/Library/Frameworks/Python.framework/Versions/3.11/lib/python3.11/site-packages/sympy/core/assumptions.py:566\u001b[0m, in \u001b[0;36m_ask\u001b[0;34m(fact, obj)\u001b[0m\n\u001b[1;32m    561\u001b[0m \u001b[38;5;66;03m# If we get a new value for fact_i then we should update our knowledge\u001b[39;00m\n\u001b[1;32m    562\u001b[0m \u001b[38;5;66;03m# of fact_i as well as any related facts that can be inferred using the\u001b[39;00m\n\u001b[1;32m    563\u001b[0m \u001b[38;5;66;03m# inference rules connecting the fact_i and any other fact values that\u001b[39;00m\n\u001b[1;32m    564\u001b[0m \u001b[38;5;66;03m# are already known.\u001b[39;00m\n\u001b[1;32m    565\u001b[0m \u001b[38;5;28;01mif\u001b[39;00m fact_i_value \u001b[38;5;129;01mis\u001b[39;00m \u001b[38;5;129;01mnot\u001b[39;00m \u001b[38;5;28;01mNone\u001b[39;00m:\n\u001b[0;32m--> 566\u001b[0m     \u001b[43massumptions\u001b[49m\u001b[38;5;241;43m.\u001b[39;49m\u001b[43mdeduce_all_facts\u001b[49m\u001b[43m(\u001b[49m\u001b[43m(\u001b[49m\u001b[43m(\u001b[49m\u001b[43mfact_i\u001b[49m\u001b[43m,\u001b[49m\u001b[43m \u001b[49m\u001b[43mfact_i_value\u001b[49m\u001b[43m)\u001b[49m\u001b[43m,\u001b[49m\u001b[43m)\u001b[49m\u001b[43m)\u001b[49m\n\u001b[1;32m    568\u001b[0m \u001b[38;5;66;03m# Usually if assumptions[fact] is now not None then that is because of\u001b[39;00m\n\u001b[1;32m    569\u001b[0m \u001b[38;5;66;03m# the call to deduce_all_facts above. The handler for fact_i returned\u001b[39;00m\n\u001b[1;32m    570\u001b[0m \u001b[38;5;66;03m# True or False and knowing fact_i (which is equal to fact in the first\u001b[39;00m\n\u001b[0;32m   (...)\u001b[0m\n\u001b[1;32m    573\u001b[0m \u001b[38;5;66;03m# called in another thread in a multithreaded context might have\u001b[39;00m\n\u001b[1;32m    574\u001b[0m \u001b[38;5;66;03m# resulted in assumptions[fact] being set. Either way we return it.\u001b[39;00m\n\u001b[1;32m    575\u001b[0m fact_value \u001b[38;5;241m=\u001b[39m assumptions\u001b[38;5;241m.\u001b[39mget(fact)\n",
      "File \u001b[0;32m/Library/Frameworks/Python.framework/Versions/3.11/lib/python3.11/site-packages/sympy/core/facts.py:633\u001b[0m, in \u001b[0;36mFactKB.deduce_all_facts\u001b[0;34m(self, facts)\u001b[0m\n\u001b[1;32m    631\u001b[0m \u001b[38;5;28;01mfor\u001b[39;00m bidx \u001b[38;5;129;01min\u001b[39;00m beta_maytrigger:\n\u001b[1;32m    632\u001b[0m     bcond, bimpl \u001b[38;5;241m=\u001b[39m beta_rules[bidx]\n\u001b[0;32m--> 633\u001b[0m     \u001b[38;5;28;01mif\u001b[39;00m \u001b[38;5;28mall\u001b[39m(\u001b[38;5;28mself\u001b[39m\u001b[38;5;241m.\u001b[39mget(k) \u001b[38;5;129;01mis\u001b[39;00m v \u001b[38;5;28;01mfor\u001b[39;00m k, v \u001b[38;5;129;01min\u001b[39;00m bcond):\n\u001b[1;32m    634\u001b[0m         facts\u001b[38;5;241m.\u001b[39mappend(bimpl)\n",
      "File \u001b[0;32m/Library/Frameworks/Python.framework/Versions/3.11/lib/python3.11/site-packages/sympy/core/facts.py:633\u001b[0m, in \u001b[0;36m<genexpr>\u001b[0;34m(.0)\u001b[0m\n\u001b[1;32m    631\u001b[0m \u001b[38;5;28;01mfor\u001b[39;00m bidx \u001b[38;5;129;01min\u001b[39;00m beta_maytrigger:\n\u001b[1;32m    632\u001b[0m     bcond, bimpl \u001b[38;5;241m=\u001b[39m beta_rules[bidx]\n\u001b[0;32m--> 633\u001b[0m     \u001b[38;5;28;01mif\u001b[39;00m \u001b[38;5;28mall\u001b[39m(\u001b[38;5;28mself\u001b[39m\u001b[38;5;241m.\u001b[39mget(k) \u001b[38;5;129;01mis\u001b[39;00m v \u001b[38;5;28;01mfor\u001b[39;00m k, v \u001b[38;5;129;01min\u001b[39;00m bcond):\n\u001b[1;32m    634\u001b[0m         facts\u001b[38;5;241m.\u001b[39mappend(bimpl)\n",
      "\u001b[0;31mKeyboardInterrupt\u001b[0m: "
     ]
    }
   ],
   "source": [
    "tru6 = [m.pi/2+m.pi/12, m.pi/2+ m.pi/6, 0, m.pi/2, m.pi/12]\n",
    "coll6 = fnn.generate_collapses(tru6, 5000, 100)\n",
    "\n",
    "for i in coll6:\n",
    "    err4_i = fnn.ppm_errors(tru6, i)\n",
    "    if sum(err4_i[0])>400000:\n",
    "        print('more', err4_i)\n",
    "        print('more', i)\n",
    "    if sum(err4_i[0])<30000:\n",
    "        print('less!', err4_i)\n",
    "        print('less', i)\n",
    "\n",
    "\n",
    "# more [[1083.1074292144694, 598711.0534063264], [1928.8616851780293, 619300.2918287966]]\n",
    "# [[1258.3445740775855, 951200.5509476968], [462.0747215567933, 951200.5509476968]]\n",
    "# [[840.6540047416478, 749944.5203257491], [898.3376353625116, 765841.7839133753]]\n",
    "\n",
    "bnj1 = [1307, 144, 712, 473, 103, 756, 612, 133, 760]\n",
    "bnj2 = [1444, 148, 617, 519, 95, 777, 600, 123, 677]\n",
    "bnj3 = [1342, 169, 667, 490, 99, 750, 594, 103, 786]\n",
    "less1= [1366, 148, 654, 511, 89, 760, 619, 126, 727]\n",
    "[1339.3, 161.928, 638.95, 525.47, 91.883, 753.33, 614.28, 121.488, 753.3386257884266]\n",
    "\n",
    "[i*5000 for i in fnn.pr_num(tru6)]"
   ]
  },
  {
   "cell_type": "code",
   "execution_count": 15,
   "metadata": {},
   "outputs": [
    {
     "name": "stdout",
     "output_type": "stream",
     "text": [
      "[1.959053845625974, 1.9609287555690416]\n",
      "[1.9371464061243513, 1.939072402787155]\n",
      "[1.9500077126930444, 1.9509644311340706]\n"
     ]
    }
   ],
   "source": [
    "# testing likelihood functions for the abobve bad values\n",
    "L1_m = fnn.L(vars = False, n = bnj1)\n",
    "L1 = fnn.L(vars = tru6, n = bnj1)\n",
    "\n",
    "# do same for following\n",
    "\n",
    "# [[0.0, 957209.8391575121], [733.1377895182234, 856342.752447464]]\n",
    "# [645, 6, 650, 619, 4, 697, 706, 7, 666]\n",
    "\n",
    "# [[0.0, 981256.4527567336], [62.809710090316884, 829699.8641764291]]\n",
    "# [666, 7, 683, 645, 4, 649, 668, 9, 669]\n",
    "\n",
    "# less! [[0.0, 6852.582189213807], [60756.135037916545, 146949.14959349524]]\n",
    "# less [661, 4, 631, 661, 7, 671, 681, 3, 681]\n",
    "\n",
    "\n",
    "L2_m = fnn.L(vars = False, n = bnj2)\n",
    "L2 = fnn.L(vars = tru6, n = bnj2)\n",
    "\n",
    "L3_m = fnn.L(vars = False, n = bnj3)\n",
    "L3 = fnn.L(vars = tru6, n = bnj3)\n",
    "\n",
    "\n",
    "\n",
    "print([L1_m, L1])\n",
    "print([L2_m, L2])\n",
    "print([L3_m, L3])\n"
   ]
  },
  {
   "cell_type": "code",
   "execution_count": 23,
   "metadata": {},
   "outputs": [
    {
     "name": "stderr",
     "output_type": "stream",
     "text": [
      "/Library/Frameworks/Python.framework/Versions/3.11/lib/python3.11/site-packages/scipy/optimize/_differentiable_functions.py:107: ComplexWarning: Casting complex values to real discards the imaginary part\n",
      "  self.x = np.atleast_1d(x0).astype(float)\n",
      "/Library/Frameworks/Python.framework/Versions/3.11/lib/python3.11/site-packages/scipy/optimize/_differentiable_functions.py:243: ComplexWarning: Casting complex values to real discards the imaginary part\n",
      "  self.x = np.atleast_1d(x).astype(float)\n"
     ]
    },
    {
     "name": "stdout",
     "output_type": "stream",
     "text": [
      "1.9609287555690416\n"
     ]
    },
    {
     "data": {
      "text/plain": [
       "1.9597681431571656"
      ]
     },
     "execution_count": 23,
     "metadata": {},
     "output_type": "execute_result"
    }
   ],
   "source": [
    "fnn.ppm_errors(tru6, [1307, 144, 712, 473, 103, 756, 612, 133, 760])\n",
    "\n",
    "prams1 = [1.33073649+0.00000000e+00j,  0.17024566+0.00000000e+00j,2.9826044 +0.00000000e+00j, -0.93498342+0.00000000e+00j,0.21936886-1.21965119e-17j]\n",
    "\n",
    "\n",
    "bnj1 = [1307, 144, 712, 473, 103, 756, 612, 133, 760]\n",
    "bnj2 = [1444, 148, 617, 519, 95, 777, 600, 123, 677]\n",
    "bnj3 = [1342, 169, 667, 490, 99, 750, 594, 103, 786]\n",
    "less1= [1366, 148, 654, 511, 89, 760, 619, 126, 727]\n",
    "\n",
    "# fun = fnn.L(vars = prams1, n = bnj1)\n",
    "# fun\n",
    "\n",
    "L_tru6 = fnn.L(vars = tru6, n = bnj1)\n",
    "print(L_tru6)\n",
    "\n",
    "# MARTIN CASE\n",
    "# opt.AuxParams={{0.2614,0.0288,0.1424,0.0946,0.0206,0.1512,0.1224,0.0266,0.152}}\n",
    "# case6(MIT): {theta1,theta2,phi1,phi2,alpha}={{1.33073649,0.17024566,-2.9826044,-0.93498342,0.21936886}}\n",
    "#  ---> NYFunction = 1.959768143157167\n",
    "bnjn1 = [i/sum(bnj1) for i in bnj1]\n",
    "prob_params = fnn.pr_num([1.33073649,0.17024566,-2.9826044,-0.93498342,0.21936886])\n",
    "prob_params = [0.25526472341208967, 0.02896871461128489, 0.1333327431548282, 0.0969470432734706, 0.020183709309324616, 0.15304763238431282, 0.1239280379744138, 0.026836900566235833, 0.16149049531404092]\n",
    "log_prob_params = [m.log(i) for i in prob_params]\n",
    "L_list = [m.log(i)*j for i,j in zip(prob_params, bnjn1)]\n",
    "L = sum(L_list)\n",
    "L\n",
    "\n",
    "# fucntion output\n",
    "Lf = fnn.L(vars = [1.33073649,0.17024566,-2.9826044,-0.93498342,0.21936886], n = bnj1)\n",
    "Lf"
   ]
  },
  {
   "cell_type": "code",
   "execution_count": 7,
   "metadata": {},
   "outputs": [
    {
     "data": {
      "text/plain": [
       "[0.998072468917625, 0.38009469802817875]"
      ]
     },
     "execution_count": 7,
     "metadata": {},
     "output_type": "execute_result"
    }
   ],
   "source": [
    "a = [0.17050398243083,4.4722844667216,5.3576515384017,3.3006005582285,1.7900422339236]\n",
    "fn.fid([a[1],a[0],a[3],a[2],a[4]], tru6)\n",
    "\n",
    "# [[1083.1074292144694, 598711.0534063264], [1928.8616851780293, 619300.2918287966]]"
   ]
  },
  {
   "cell_type": "code",
   "execution_count": null,
   "metadata": {},
   "outputs": [],
   "source": [
    "orig = "
   ]
  },
  {
   "cell_type": "code",
   "execution_count": null,
   "metadata": {},
   "outputs": [],
   "source": []
  },
  {
   "cell_type": "code",
   "execution_count": null,
   "metadata": {},
   "outputs": [],
   "source": []
  },
  {
   "cell_type": "code",
   "execution_count": null,
   "metadata": {},
   "outputs": [],
   "source": []
  },
  {
   "cell_type": "code",
   "execution_count": null,
   "metadata": {},
   "outputs": [],
   "source": []
  },
  {
   "cell_type": "code",
   "execution_count": null,
   "metadata": {},
   "outputs": [],
   "source": []
  },
  {
   "cell_type": "code",
   "execution_count": null,
   "metadata": {},
   "outputs": [],
   "source": [
    "def CheckingCMatrix(index = [0,0], psi = [1,0], psi2 = [0,1], p = [.5,.5]):\n",
    "    sigma_x = np.array([[0, 1], [1, 0]])    # 2d matrices in the comp  basis\n",
    "    sigma_y = np.array([[0, -1j], [1j, 0]])\n",
    "    sigma_z = np.array([[1, 0], [0, -1]])\n",
    "    \n",
    "    matrices = np.array([sigma_x, sigma_y, sigma_z])\n",
    "    # print('list paulis=\\n', matrices)\n",
    "\n",
    "    R_matrix = (1/np.sqrt(2))*np.array([[np.sqrt(2),0,0,0],[0,1,-1,0],[0,1,1,0],[0,0,0,np.sqrt(2)]])\n",
    "    R_matrix_inverse = np.linalg.inv(R_matrix) \n",
    "    sigma_x_tilda_comp = np.kron(sigma_x , np.identity(2))\n",
    "    sigma_y_tilda_comp = np.kron(sigma_y , np.identity(2))\n",
    "    sigma_z_tilda_comp = np.kron(sigma_z , np.identity(2))\n",
    "    sigma_x_tilda = np.dot(np.dot(R_matrix ,sigma_x_tilda_comp), R_matrix_inverse)\n",
    "    sigma_y_tilda = np.dot(np.dot(R_matrix ,sigma_y_tilda_comp), R_matrix_inverse)\n",
    "    sigma_z_tilda = np.dot(np.dot(R_matrix ,sigma_z_tilda_comp), R_matrix_inverse)\n",
    "\n",
    "    tensor_sigma_ij_comp = np.kron(matrices[index[0]], matrices[index[1]])\n",
    "    print(f\"\\ntensor_sigma_comp_{index}\\n\",tensor_sigma_ij_comp)\n",
    "\n",
    "    tensor_sigma_ij_tilda = np.dot(np.dot(R_matrix, tensor_sigma_ij_comp), R_matrix_inverse)\n",
    "    print(f\"\\ntensor_sigma_{index}_tilda\\n\",tensor_sigma_ij_tilda)\n",
    "    \n",
    "    rho1_comp = np.outer(np.kron(psi, psi),np.kron(psi, psi))\n",
    "    rho2_comp = np.outer(np.kron(psi2, psi2),np.kron(psi2, psi2))\n",
    "    rho1_tilda = np.dot(np.dot(R_matrix ,rho1_comp), R_matrix_inverse)\n",
    "    rho2_tilda = np.dot(np.dot(R_matrix ,rho2_comp), R_matrix_inverse)\n",
    "\n",
    "    rho_mixed_comp = p[0]*rho1_comp + p[1]*rho2_comp\n",
    "    rho_mixed_tilda = p[0]*rho1_tilda + p[1]*rho2_tilda\n",
    "\n",
    "\n",
    "    print(\"\\n rho_1_comp = \\n\", rho1_comp)\n",
    "    print(\"\\n rho_2_comp = \\n\", rho2_comp)\n",
    "    print(\"\\nrho_mixed_comp = \\n\", rho_mixed_comp)\n",
    "    print(\"\\nrho_mixed_tild = \\n\", rho_mixed_tilda)\n",
    "\n",
    "    C_ij = np.trace(np.dot(tensor_sigma_ij_tilda, rho_mixed_tilda))\n",
    "    print(f\" \\nElement C_{index}\\n\", C_ij)\n",
    "\n",
    "    \n",
    "    # print(f\"tensor_sigma_{index}_tilda\\n\",tensor_sigma_ij_tilda)\n",
    "\n",
    "\n",
    "\n",
    "# CheckingCMatrix()\n",
    "# CheckingCMatrix(psi = [.5, np.sqrt(3)/2], psi2= [ np.sqrt(3)/2, .5], index = [2,2]) # using the rotation method of change of basis"
   ]
  },
  {
   "cell_type": "code",
   "execution_count": null,
   "metadata": {},
   "outputs": [],
   "source": [
    "\n",
    "w = m.e**((2/3)*m.pi*(1j))     # third root of unity\n",
    "POVM_vec = (1/(2**.5))*(np.array([[0,1,-1],[-1,0,1],[1,-1,0],[0,w,-w**2],[-1,0,w**2],[1,-w,0],[0,w**2,-w],[-1,0,w],[1,-w**2,0]]))  # an array of POVM direction vectors\n",
    "POVM_elts = [(1/3)*np.outer(np.conjugate(POVM_vec[i]),POVM_vec[i]) for i in range(len(POVM_vec))]   # a list of POVM matrices\n",
    "M = [[np.trace(np.dot(POVM_elts[i],POVM_elts[j])) for i in range(len(POVM_elts))] for j in range(len(POVM_elts))]     # creating M matrix using POVM definition\n",
    "u_0 = [1/3 for i in range(9)]           # cerating u_0 vector, to create the inverse matrix\n",
    "M_inv = 3*np.outer(u_0,u_0) + 12*(np.eye(9) - np.outer(u_0,u_0))        # creating the inverse matrix\n",
    "\n",
    "\n",
    "def num_experiment(N = 10000, params = [0,m.pi/2,0,0,m.pi/4], show_calcs = False, seed = None):\n",
    "    creation = fn.Creating_states( params = params, Abstract = 0) # theoretical rho\n",
    "    states = creation[0]\n",
    "    sq_states = creation[1]\n",
    "    rho = creation[2]\n",
    "    # print(rho)\n",
    "    # print(states)\n",
    "    prob_vec_sympy_0 =  [np.trace(np.dot(POVM_elts[i],rho)) for i in range(9)]    # created list of Th probabilities\n",
    "    prob_vec_sympy = [i.evalf() for i in prob_vec_sympy_0]  # evaluated the sympy expressions\n",
    "    prob_vec = [np.complex64(i) for i in prob_vec_sympy]  # converted to regular complex numbers\n",
    "    # prob_vec_raw = [(float(i.as_real_imag()[0])+float(i.as_real_imag()[1])*1j) for i in prob_vec_sympy]  # this is to avoid error, to convert sympy float to ordinary number\n",
    "    # prob_vec = [round(i.real, 10) for i in prob_vec_raw if abs(i.imag) < .0001]          # cleaned up theoretical prob vector\n",
    "    # prob_vec = prob_vec_sympy\n",
    "    \n",
    "    print('rho\\n')\n",
    "    pprint(rho)\n",
    "    print('prob_vec_sympy_0\\n', prob_vec_sympy_0)\n",
    "    print('prob_vec_sympy\\n', prob_vec_sympy)\n",
    "    print('prob_vec\\n', prob_vec)\n",
    "    print('prob_vec\\n', prob_vec)\n",
    "    print('sum prob_vec\\n', sum(prob_vec))\n",
    "    # print('prob_vec_raw\\n', prob_vec_raw)    \n",
    "\n",
    "    POVM_dir_symbols = ['d1','d2','d3','d4','d5','d6','d7','d8','d9']      # symbols to indicate collapsed direction\n",
    "    #prob distribution is simply the corresponding elements of the prob_vec\n",
    "    collapse_dir_vec = rand.choices(POVM_dir_symbols, weights=prob_vec, k = N)   # choosing collapse directions with weights for N trials\n",
    "    nj_vec = [collapse_dir_vec.count(f'd{i+1}') for i in range(9)]\n",
    "    pj_num_vec = [i/N for i in nj_vec]                                  # numerical prob vector     \n",
    "\n",
    "    r_vec = np.dot(M_inv,pj_num_vec)\n",
    "    rho_num_list = [r_vec[i]*POVM_elts[i] for i in range(len(POVM_elts))]   # list of matrices, see equation 7 in notes pair_disc.pdf\n",
    "    rho_num = np.zeros_like(rho_num_list[0])\n",
    "    # Loop for reconstructing the numerical matrix\n",
    "    for i in rho_num_list:\n",
    "        rho_num = np.add(rho_num, i)\n",
    "    \n",
    "\n",
    "    \n",
    "    return [states, rho, rho_num, prob_vec, nj_vec]\n"
   ]
  },
  {
   "cell_type": "code",
   "execution_count": null,
   "metadata": {},
   "outputs": [
    {
     "name": "stdout",
     "output_type": "stream",
     "text": [
      "rho\n",
      "\n",
      "⎡                                                   0.2⋅ⅈ                     \n",
      "⎢      0.50004966766487        0.00493368787481968⋅ℯ       -0.0007000639341364\n",
      "⎢                                                                             \n",
      "⎢                      0.2⋅ⅈ                       0.4⋅ⅈ                      \n",
      "⎢ 0.00493368787481968⋅ℯ         0.490082956585491⋅ℯ         -0.069540151575354\n",
      "⎢                                                                             \n",
      "⎢                       0.1⋅ⅈ                       0.3⋅ⅈ                     \n",
      "⎣-0.000700063934136422⋅ℯ       -0.0695401515753542⋅ℯ        0.0098673757496393\n",
      "\n",
      "    0.1⋅ⅈ⎤\n",
      "22⋅ℯ     ⎥\n",
      "         ⎥\n",
      "   0.3⋅ⅈ ⎥\n",
      "2⋅ℯ      ⎥\n",
      "         ⎥\n",
      "   0.2⋅ⅈ ⎥\n",
      "7⋅ℯ      ⎦\n",
      "prob_vec_sympy_0\n",
      " [0.00164456262493989*exp(0.2*I) + 0.0231800505251181*exp(0.3*I) + 0.0816804927642484*exp(0.4*I), 0.0833416112774783 + 0.000233354644712141*exp(0.1*I) + 0.00164456262493989*exp(0.2*I), 0.0833416112774783 - 0.00164456262493989*exp(0.2*I) + 0.0816804927642484*exp(0.4*I), -0.0695401515753542*(0.0833333333333333 + 0.144337567297406*I)*exp(0.3*I) + 0.00986737574963937*(0.166666666666667 - 7.80617690280577e-19*I)*exp(0.2*I) - 0.0695401515753542*(0.0833333333333333 - 0.144337567297406*I)*exp(0.3*I) + 0.490082956585491*(0.166666666666667 + 3.512665909527e-18*I)*exp(0.4*I), 0.0833416112774783 - 0.000700063934136422*(0.0833333333333333 + 0.144337567297406*I)*exp(0.1*I) - 0.000700063934136422*(0.0833333333333333 - 0.144337567297406*I)*exp(0.1*I) + 0.00986737574963937*(0.166666666666667 - 7.80617690280577e-19*I)*exp(0.2*I), 0.0833416112774783 + 0.00493368787481968*(0.0833333333333333 - 0.144337567297406*I)*exp(0.2*I) + 0.00493368787481968*(0.0833333333333333 + 0.144337567297406*I)*exp(0.2*I) + 0.490082956585491*(0.166666666666667 + 3.512665909527e-18*I)*exp(0.4*I), -0.0695401515753542*(0.0833333333333333 + 0.144337567297406*I)*exp(0.3*I) + 0.00986737574963937*(0.166666666666667 + 3.512665909527e-18*I)*exp(0.2*I) - 0.0695401515753542*(0.0833333333333333 - 0.144337567297406*I)*exp(0.3*I) + 0.490082956585491*(0.166666666666667 - 7.80617690280577e-19*I)*exp(0.4*I), 0.0833416112774783 - 0.000700063934136422*(0.0833333333333333 + 0.144337567297406*I)*exp(0.1*I) - 0.000700063934136422*(0.0833333333333333 - 0.144337567297406*I)*exp(0.1*I) + 0.00986737574963937*(0.166666666666667 + 3.512665909527e-18*I)*exp(0.2*I), 0.0833416112774783 + 0.00493368787481968*(0.0833333333333333 - 0.144337567297406*I)*exp(0.2*I) + 0.00493368787481968*(0.0833333333333333 + 0.144337567297406*I)*exp(0.2*I) + 0.490082956585491*(0.166666666666667 - 7.80617690280577e-19*I)*exp(0.4*I)]\n",
      "prob_vec_sympy\n",
      " [0.098989244806375 + 0.0389847795689579*I, 0.0851855809848243 + 0.000350020747619398*I, 0.156962546269692 + 0.03148115793506*I, 0.0657721226767443 + 0.0287095195865531*I, 0.084837297719611 + 0.000315075860411368*I, 0.159380217565498 + 0.031971244169281*I, 0.0657721226767443 + 0.0287095195865531*I, 0.084837297719611 + 0.000315075860411368*I, 0.159380217565498 + 0.031971244169281*I]\n",
      "prob_vec\n",
      " [(0.09898925+0.03898478j), (0.08518558+0.00035002074j), (0.15696254+0.031481158j), (0.06577212+0.02870952j), (0.084837295+0.00031507586j), (0.15938021+0.031971246j), (0.06577212+0.02870952j), (0.084837295+0.00031507586j), (0.15938021+0.031971246j)]\n",
      "prob_vec\n",
      " [(0.09898925+0.03898478j), (0.08518558+0.00035002074j), (0.15696254+0.031481158j), (0.06577212+0.02870952j), (0.084837295+0.00031507586j), (0.15938021+0.031971246j), (0.06577212+0.02870952j), (0.084837295+0.00031507586j), (0.15938021+0.031971246j)]\n",
      "sum prob_vec\n",
      " (0.9611166343092918+0.19280764102586545j)\n"
     ]
    }
   ],
   "source": [
    "# params_i = [.1, m.pi/2+.1, .1, .1, m.pi/4+.1]\n",
    "params_i = [0, m.pi/2+.1, .1, .1, m.pi/4]\n",
    "nj_unnorm = num_experiment(params= params_i, N = 10000)[4]\n"
   ]
  },
  {
   "cell_type": "code",
   "execution_count": 17,
   "metadata": {},
   "outputs": [],
   "source": [
    "# debugging the complex probabilities\n",
    "\n",
    "\n",
    "def num_experiment(N = 10000, params = [0,m.pi/2,0,0,m.pi/4], seed = None, an_pr = False):\n",
    "    if seed is not None:\n",
    "        rand.seed(seed)\n",
    "    \n",
    "    creation = fn.Creating_states( params = params, Abstract = 0) # theoretical rho\n",
    "    states = creation[0]\n",
    "    sq_states = creation[1]\n",
    "    rho = creation[2]\n",
    "    # print(rho)\n",
    "    # print(states)\n",
    "    prob_vec_sympy =  [np.trace(np.dot(fn.POVM_elts[i],rho)) for i in range(9)]    # created list of Th probabilities\n",
    "    prob_vec_raw = [(float(i.as_real_imag()[0])+float(i.as_real_imag()[1])*1j) for i in prob_vec_sympy]  # this is to avoid error, to convert sympy float to ordinary number\n",
    "    prob_vec = [round(i.real, 10) for i in prob_vec_raw if abs(i.imag) < .0001]          # cleaned up theoretical prob vector\n",
    "    if an_pr == True:\n",
    "        prob_vec = [i.subs({fn.theta1: params[0], fn.theta2: params[1], fn.phi1:params[2], fn.phi2: params[3], fn.alpha: params[4]}) for i in fn.pr]  # using prof hillery's analytic probabilities\n",
    "        prob_vec = [round(i.evalf(), 12) for i in prob_vec]\n",
    "\n",
    "    POVM_dir_symbols = ['d1','d2','d3','d4','d5','d6','d7','d8','d9']      # symbols to indicate collapsed direction\n",
    "    #prob distribution is simply the corresponding elements of the prob_vec\n",
    "    collapse_dir_vec = rand.choices(POVM_dir_symbols, weights=prob_vec, k = N)   # choosing collapse directions with weights for N trials\n",
    "    nj_vec = [collapse_dir_vec.count(f'd{i+1}') for i in range(9)]\n",
    "    pj_num_vec = [i/N for i in nj_vec]                                  # numerical prob vector     \n",
    "\n",
    "    r_vec = np.dot(fn.M_inv,pj_num_vec)\n",
    "    rho_num_list = [r_vec[i]*fn.POVM_elts[i] for i in range(len(fn.POVM_elts))]   # list of matrices, see equation 7 in notes pair_disc.pdf\n",
    "    rho_num = np.zeros_like(rho_num_list[0])\n",
    "    # Loop for reconstructing the numerical matrix\n",
    "    for i in rho_num_list:\n",
    "        rho_num = np.add(rho_num, i)\n",
    "    \n",
    "    return [states, rho, rho_num, prob_vec, nj_vec]\n"
   ]
  },
  {
   "cell_type": "code",
   "execution_count": 10,
   "metadata": {},
   "outputs": [
    {
     "ename": "NameError",
     "evalue": "name 'pr_num' is not defined",
     "output_type": "error",
     "traceback": [
      "\u001b[0;31m---------------------------------------------------------------------------\u001b[0m",
      "\u001b[0;31mNameError\u001b[0m                                 Traceback (most recent call last)",
      "\u001b[1;32m/Users/pranjal/Desktop/Python/Research_python/Pair_disc_code/rough.ipynb Cell 21\u001b[0m line \u001b[0;36m6\n\u001b[1;32m      <a href='vscode-notebook-cell:/Users/pranjal/Desktop/Python/Research_python/Pair_disc_code/rough.ipynb#X26sZmlsZQ%3D%3D?line=3'>4</a>\u001b[0m \u001b[39mfor\u001b[39;00m i \u001b[39min\u001b[39;00m \u001b[39mrange\u001b[39m(\u001b[39m1000000\u001b[39m):\n\u001b[1;32m      <a href='vscode-notebook-cell:/Users/pranjal/Desktop/Python/Research_python/Pair_disc_code/rough.ipynb#X26sZmlsZQ%3D%3D?line=4'>5</a>\u001b[0m     p_i \u001b[39m=\u001b[39m np\u001b[39m.\u001b[39mrandom\u001b[39m.\u001b[39mrand(\u001b[39m5\u001b[39m)\u001b[39m*\u001b[39mm\u001b[39m.\u001b[39mpi\n\u001b[0;32m----> <a href='vscode-notebook-cell:/Users/pranjal/Desktop/Python/Research_python/Pair_disc_code/rough.ipynb#X26sZmlsZQ%3D%3D?line=5'>6</a>\u001b[0m     probs_list \u001b[39m=\u001b[39m [i(\u001b[39m*\u001b[39mp_i) \u001b[39mfor\u001b[39;00m i \u001b[39min\u001b[39;00m pr_num]   \n\u001b[1;32m      <a href='vscode-notebook-cell:/Users/pranjal/Desktop/Python/Research_python/Pair_disc_code/rough.ipynb#X26sZmlsZQ%3D%3D?line=6'>7</a>\u001b[0m     \u001b[39mif\u001b[39;00m \u001b[39msum\u001b[39m(probs_list) \u001b[39m>\u001b[39m \u001b[39m1\u001b[39m\u001b[39m+\u001b[39m \u001b[39m1e-14\u001b[39m \u001b[39mor\u001b[39;00m \u001b[39msum\u001b[39m(probs_list) \u001b[39m<\u001b[39m \u001b[39m1\u001b[39m\u001b[39m-\u001b[39m\u001b[39m1e-14\u001b[39m:\n\u001b[1;32m      <a href='vscode-notebook-cell:/Users/pranjal/Desktop/Python/Research_python/Pair_disc_code/rough.ipynb#X26sZmlsZQ%3D%3D?line=7'>8</a>\u001b[0m         \u001b[39mprint\u001b[39m(\u001b[39msum\u001b[39m(probs_list))\n",
      "\u001b[0;31mNameError\u001b[0m: name 'pr_num' is not defined"
     ]
    }
   ],
   "source": [
    "#write a code to create random lists of 5 integers and use the prnum function, then sum it and then only add to the list if it exceeds 1.\n",
    "error_p = []\n",
    "error_params = []\n",
    "for i in range(1000000):\n",
    "    p_i = np.random.rand(5)*m.pi\n",
    "    probs_list = [i(*p_i) for i in pr_num]   \n",
    "    if sum(probs_list) > 1+ 1e-14 or sum(probs_list) < 1-1e-14:\n",
    "        print(sum(probs_list))\n",
    "        print(probs_list)\n",
    "        error_p.append(probs_list)\n",
    "        error_params.append(p_i)\n",
    "print(error_p)\n",
    "print(error_params)\n",
    "# Here we checked randomly at 10 million points in the parameter space to find anomalies in the probability sum \n",
    "# but it is summing out to be correct up to 14 digits after 1"
   ]
  },
  {
   "cell_type": "markdown",
   "metadata": {},
   "source": [
    "testing the newly converted functions from simpy to numpy"
   ]
  },
  {
   "cell_type": "code",
   "execution_count": 21,
   "metadata": {},
   "outputs": [
    {
     "data": {
      "text/plain": [
       "[array([1.+0.j, 0.+0.j]),\n",
       " array([ 0.70710678+0.00000000e+00j, -0.70710678+8.65956056e-17j])]"
      ]
     },
     "execution_count": 21,
     "metadata": {},
     "output_type": "execute_result"
    }
   ],
   "source": [
    "tru2\n",
    "# parameters for two orthogonal states\n",
    "params = [0, m.pi/2, 0, 0, m.pi/4]\n",
    "params1 = [0,m.pi/4, 0, m.pi, m.pi/4]\n",
    "\n",
    "\n",
    "fnn.Creating_states(params1)"
   ]
  },
  {
   "cell_type": "code",
   "execution_count": 7,
   "metadata": {},
   "outputs": [
    {
     "data": {
      "text/plain": [
       "[1.0, 0.9330127018922194]"
      ]
     },
     "execution_count": 7,
     "metadata": {},
     "output_type": "execute_result"
    }
   ],
   "source": [
    "fnn.fid([0, m.pi/2, 0, m.pi/2, m.pi/12], [0, m.pi/2+m.pi/12, 0, 0, m.pi/4]) \n",
    "\n",
    "# np.cos(m.pi/12)**2"
   ]
  },
  {
   "cell_type": "code",
   "execution_count": 3,
   "metadata": {},
   "outputs": [
    {
     "data": {
      "text/plain": [
       "([83.33333333333347,\n",
       "  83.33333333333351,\n",
       "  166.666666666667,\n",
       "  83.33333333333348,\n",
       "  83.33333333333351,\n",
       "  166.666666666667,\n",
       "  83.33333333333348,\n",
       "  83.33333333333351,\n",
       "  166.666666666667],\n",
       " [[84, 84, 181, 79, 76, 140, 91, 91, 174],\n",
       "  [78, 76, 168, 61, 80, 183, 90, 102, 162],\n",
       "  [76, 88, 152, 82, 79, 177, 97, 72, 177],\n",
       "  [89, 94, 155, 90, 84, 160, 74, 79, 175],\n",
       "  [82, 98, 164, 98, 82, 140, 93, 80, 163],\n",
       "  [85, 82, 166, 89, 62, 181, 73, 90, 172],\n",
       "  [85, 88, 192, 76, 84, 163, 61, 82, 169],\n",
       "  [83, 103, 162, 88, 75, 169, 90, 71, 159],\n",
       "  [96, 82, 164, 85, 91, 165, 72, 70, 175],\n",
       "  [101, 88, 162, 88, 72, 158, 82, 89, 160]])"
      ]
     },
     "execution_count": 3,
     "metadata": {},
     "output_type": "execute_result"
    }
   ],
   "source": []
  }
 ],
 "metadata": {
  "kernelspec": {
   "display_name": "Python 3",
   "language": "python",
   "name": "python3"
  },
  "language_info": {
   "codemirror_mode": {
    "name": "ipython",
    "version": 3
   },
   "file_extension": ".py",
   "mimetype": "text/x-python",
   "name": "python",
   "nbconvert_exporter": "python",
   "pygments_lexer": "ipython3",
   "version": "3.11.4"
  },
  "orig_nbformat": 4
 },
 "nbformat": 4,
 "nbformat_minor": 2
}
