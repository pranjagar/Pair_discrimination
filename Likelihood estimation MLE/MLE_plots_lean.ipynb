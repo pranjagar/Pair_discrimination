{
 "cells": [
  {
   "cell_type": "code",
   "execution_count": 3,
   "metadata": {},
   "outputs": [],
   "source": [
    "import numpy as np\n",
    "import pandas as pd\n",
    "import math as m\n",
    "import cmath\n",
    "import sympy as sym\n",
    "import scipy as sci\n",
    "import matplotlib.ticker as ticker\n",
    "import random as rand\n",
    "import matplotlib.pyplot as plt\n",
    "import cmath as cm\n",
    "from sympy import pprint\n",
    "from scipy.optimize import minimize \n",
    "# import MLE_functions as fn\n",
    "import MLE_functions_numpy as fnn\n",
    "from MLE_functions_numpy import *\n",
    "from scipy.optimize import fsolve\n",
    "import pandas as pd\n",
    "\n",
    "import warnings     # for suppresing the complex error warnings\n",
    "warnings.filterwarnings(\"ignore\", message=\"Casting complex values to real discards the imaginary part\")\n",
    "warnings.filterwarnings(\"ignore\", category=np.ComplexWarning)"
   ]
  },
  {
   "cell_type": "code",
   "execution_count": 13,
   "metadata": {},
   "outputs": [],
   "source": [
    "# Defining two functions specifically for the plotting\n",
    "def ppm_errors_data(tru, nju_list, ig = 'inv'):  # uses pre-defined function 'ppm errors' on the list of collapse data, creates list of corresponding ppm errors\n",
    "    \n",
    "    ppm_errors_list = [fnn.ppm_errors(tru, nju, ig = ig) for nju in nju_list]\n",
    "    ppm_sums_list = [[sum(i[j]) for j in range(2)] for i in ppm_errors_list]\n",
    "\n",
    "    ppm_errors_inversion = [i[0] for i in ppm_sums_list]\n",
    "    ppm_errors_optimization = [i[1] for i in ppm_sums_list]\n",
    "\n",
    "    return [ppm_errors_inversion, ppm_errors_optimization]\n",
    "\n",
    "\n",
    "def plot_ppm_errors(error_sum_lists, bins =25, xlim = (None, None), ylim = (None, None)):  # creates histogram and box plot of inversion and optimization ppm errors\n",
    "    inv = error_sum_lists[0]    # list of ppm errors for inversion and optimization methods\n",
    "    opt = error_sum_lists[1]    \n",
    "    \n",
    "    \n",
    "    # histogram\n",
    "    plt.hist([inv, opt], bins=bins, histtype='bar', stacked=False, label=['Inversion', 'Optimization'])\n",
    "    plt.xlabel('Sum of PPM Errors')\n",
    "    plt.ylabel('Frequency')\n",
    "    plt.title('Histogram of Sum of PPM Errors for Inversion and Optimization Methods')\n",
    "    plt.legend()\n",
    "    plt.xlim([ xlim[0],xlim[1]]) \n",
    "    plt.show()\n",
    "\n",
    "    # box plot\n",
    "    plt.boxplot([inv, opt], labels=['Inversion', 'Optimization'], \n",
    "                patch_artist=True, \n",
    "                boxprops=dict(facecolor='cyan', color='blue'), \n",
    "                medianprops=dict(color='red'), \n",
    "                whiskerprops=dict(color='green'), \n",
    "                capprops=dict(color='magenta'), \n",
    "                flierprops=dict(color='yellow', markeredgecolor='black'))\n",
    "    plt.ylabel('Sum of PPM Errors')\n",
    "    plt.ylim(ylim[0], ylim[1]) \n",
    "    plt.title('Box Plot of Sum of PPM Errors for Inversion and Optimization Methods')\n",
    "    plt.show()\n",
    "\n",
    "    # statistical properties\n",
    "    average_inversion = np.mean(inv)\n",
    "    average_optimization = np.mean(opt)\n",
    "    std_dev_inversion = np.std(inv)\n",
    "    std_dev_optimization = np.std(opt)\n",
    "    avg_difference = np.sum(np.array(inv) - np.array(opt)) / len(inv)\n",
    "    std_dev_difference = np.std(np.array(inv) - np.array(opt))\n",
    "    # print statistical properties\n",
    "    print(f\"Average of PPM Inversion Errors: {average_inversion}\")\n",
    "    print(f\"Average of PPM Optimization Errors: {average_optimization}\")\n",
    "    print(f\"Standard Deviation of PPM Errors : Inversion Method: {std_dev_inversion}\")\n",
    "    print(f\"Standard Deviation of PPM Errors : Optimization Method: {std_dev_optimization}\")\n",
    "    print(f\"Average Difference between Optimization and Inversion PPM Errors: {avg_difference}\")\n",
    "    "
   ]
  },
  {
   "cell_type": "markdown",
   "metadata": {},
   "source": [
    "# START"
   ]
  },
  {
   "cell_type": "markdown",
   "metadata": {},
   "source": [
    "## Processing data before plotting\n",
    "Four different states\n",
    "\n",
    "*tru1 = [m.pi/6, m.pi/2+m.pi/6, m.pi/4, m.pi/2, m.pi/6]     # 90 deg, non zero phi\n",
    "\n",
    "\n",
    "*tru2 = [m.pi/12, m.pi/2-m.pi/12, m.pi/4, m.pi/2, m.pi/3]   # 60 deg diff, non zero phi\n",
    "\n",
    "\n",
    "*tru3 = [m.pi/6, m.pi/3, 0, m.pi/4, m.pi/12]                # 30 deg diff, very uneven alpha \n",
    "\n",
    "*tru4 = [m.pi/2+m.pi/12, m.pi/2+ m.pi/6, 0, m.pi/2, m.pi/12] # 15 deg diff, very uneven alpha "
   ]
  },
  {
   "cell_type": "code",
   "execution_count": 7,
   "metadata": {},
   "outputs": [],
   "source": [
    "tru1 = [m.pi/6, m.pi/2+m.pi/6, m.pi/4, m.pi/2, m.pi/6]      # 90 deg non zero phi; [30,120,45,90,30]\n",
    "tru2 = [m.pi/12, m.pi/2-m.pi/12, m.pi/4, m.pi/2, m.pi/3]   # 60 deg diff, non zero phi; [15,75,45,90,60]\n",
    "tru3 = [m.pi/6, m.pi/3, 0, m.pi/4, m.pi/12]                  # 30 deg diff, very uneven alpha  ; [30,60,0,45,15]\n",
    "tru4 = [m.pi/2+m.pi/12, m.pi/2+ m.pi/6, 0, m.pi/2, m.pi/12] # 15 deg diff, very uneven alpha ; [105,120,0,90,15]\n",
    "\n",
    "# Reading collapse data from filenames, and creating lists from the dataframes\n",
    "file_names = ['collapses_(30 120 45 90 30) 1k 1k.csv', 'collapses_(15 75 45 90 60) 1k 1k.csv','collapses_(30 60 0 45 15) 1k 1k.csv',  'collapses_(105 120 0 90 15) 500 500.csv', 'collapses_(105 120 0 90 15) 20k 100.csv']\n",
    "dataframes = [pd.read_csv(file_name) for file_name in file_names]\n",
    "data_list = [df.to_numpy().tolist() for df in dataframes]\n",
    "nju1, nju2, nju3, nju4_500, nju4_20k = data_list        #lists of the fixed collapse data for each set of true parameters"
   ]
  },
  {
   "cell_type": "code",
   "execution_count": 12,
   "metadata": {},
   "outputs": [
    {
     "ename": "KeyboardInterrupt",
     "evalue": "",
     "output_type": "error",
     "traceback": [
      "\u001b[0;31m---------------------------------------------------------------------------\u001b[0m",
      "\u001b[0;31mKeyError\u001b[0m                                  Traceback (most recent call last)",
      "File \u001b[0;32m/Library/Frameworks/Python.framework/Versions/3.11/lib/python3.11/site-packages/sympy/core/assumptions.py:499\u001b[0m, in \u001b[0;36mmake_property.<locals>.getit\u001b[0;34m(self)\u001b[0m\n\u001b[1;32m    498\u001b[0m \u001b[38;5;28;01mtry\u001b[39;00m:\n\u001b[0;32m--> 499\u001b[0m     \u001b[38;5;28;01mreturn\u001b[39;00m \u001b[38;5;28;43mself\u001b[39;49m\u001b[38;5;241;43m.\u001b[39;49m\u001b[43m_assumptions\u001b[49m\u001b[43m[\u001b[49m\u001b[43mfact\u001b[49m\u001b[43m]\u001b[49m\n\u001b[1;32m    500\u001b[0m \u001b[38;5;28;01mexcept\u001b[39;00m \u001b[38;5;167;01mKeyError\u001b[39;00m:\n",
      "\u001b[0;31mKeyError\u001b[0m: 'zero'",
      "\nDuring handling of the above exception, another exception occurred:\n",
      "\u001b[0;31mKeyboardInterrupt\u001b[0m                         Traceback (most recent call last)",
      "Cell \u001b[0;32mIn[12], line 2\u001b[0m\n\u001b[1;32m      1\u001b[0m \u001b[38;5;66;03m# creating error lists for both inversion initial guess and random initial guess\u001b[39;00m\n\u001b[0;32m----> 2\u001b[0m errors1_inv \u001b[38;5;241m=\u001b[39m \u001b[43mppm_errors_data\u001b[49m\u001b[43m(\u001b[49m\u001b[43mtru1\u001b[49m\u001b[43m,\u001b[49m\u001b[43m \u001b[49m\u001b[43mnju1\u001b[49m\u001b[43m,\u001b[49m\u001b[43m \u001b[49m\u001b[43mig\u001b[49m\u001b[43m \u001b[49m\u001b[38;5;241;43m=\u001b[39;49m\u001b[43m \u001b[49m\u001b[38;5;124;43m'\u001b[39;49m\u001b[38;5;124;43minv\u001b[39;49m\u001b[38;5;124;43m'\u001b[39;49m\u001b[43m)\u001b[49m\n\u001b[1;32m      3\u001b[0m \u001b[38;5;66;03m# errors2_inv = ppm_errors_data(tru2, nju2, ig = 'inv')\u001b[39;00m\n\u001b[1;32m      4\u001b[0m \u001b[38;5;66;03m# errors3_inv = ppm_errors_data(tru3, nju3, ig = 'inv')\u001b[39;00m\n\u001b[1;32m      5\u001b[0m \u001b[38;5;66;03m# errors4_500_inv = ppm_errors_data(tru4, nju4_500, ig = 'inv')\u001b[39;00m\n\u001b[0;32m   (...)\u001b[0m\n\u001b[1;32m     11\u001b[0m \u001b[38;5;66;03m# errors4_500_rand = ppm_errors_data(tru4, nju4_500, ig = 'rand')\u001b[39;00m\n\u001b[1;32m     12\u001b[0m \u001b[38;5;66;03m# errors4_20k_rand = ppm_errors_data(tru4, nju4_20k, ig = 'rand')     # errors for random guess, modify lentghs as needed\u001b[39;00m\n",
      "Cell \u001b[0;32mIn[4], line 4\u001b[0m, in \u001b[0;36mppm_errors_data\u001b[0;34m(tru, nju_list, ig)\u001b[0m\n\u001b[1;32m      2\u001b[0m \u001b[38;5;28;01mdef\u001b[39;00m \u001b[38;5;21mppm_errors_data\u001b[39m(tru, nju_list, ig \u001b[38;5;241m=\u001b[39m \u001b[38;5;124m'\u001b[39m\u001b[38;5;124minv\u001b[39m\u001b[38;5;124m'\u001b[39m):  \u001b[38;5;66;03m# uses pre-defined function 'ppm errors' on the list of collapse data, creates list of corresponding ppm errors\u001b[39;00m\n\u001b[0;32m----> 4\u001b[0m     ppm_errors_list \u001b[38;5;241m=\u001b[39m \u001b[43m[\u001b[49m\u001b[43mfnn\u001b[49m\u001b[38;5;241;43m.\u001b[39;49m\u001b[43mppm_errors\u001b[49m\u001b[43m(\u001b[49m\u001b[43mtru\u001b[49m\u001b[43m,\u001b[49m\u001b[43m \u001b[49m\u001b[43mnju\u001b[49m\u001b[43m,\u001b[49m\u001b[43m \u001b[49m\u001b[43mig\u001b[49m\u001b[43m \u001b[49m\u001b[38;5;241;43m=\u001b[39;49m\u001b[43m \u001b[49m\u001b[43mig\u001b[49m\u001b[43m)\u001b[49m\u001b[43m \u001b[49m\u001b[38;5;28;43;01mfor\u001b[39;49;00m\u001b[43m \u001b[49m\u001b[43mnju\u001b[49m\u001b[43m \u001b[49m\u001b[38;5;129;43;01min\u001b[39;49;00m\u001b[43m \u001b[49m\u001b[43mnju_list\u001b[49m\u001b[43m]\u001b[49m\n\u001b[1;32m      5\u001b[0m     ppm_sums_list \u001b[38;5;241m=\u001b[39m [[\u001b[38;5;28msum\u001b[39m(i[j]) \u001b[38;5;28;01mfor\u001b[39;00m j \u001b[38;5;129;01min\u001b[39;00m \u001b[38;5;28mrange\u001b[39m(\u001b[38;5;241m2\u001b[39m)] \u001b[38;5;28;01mfor\u001b[39;00m i \u001b[38;5;129;01min\u001b[39;00m ppm_errors_list]\n\u001b[1;32m      7\u001b[0m     ppm_errors_inversion \u001b[38;5;241m=\u001b[39m [i[\u001b[38;5;241m0\u001b[39m] \u001b[38;5;28;01mfor\u001b[39;00m i \u001b[38;5;129;01min\u001b[39;00m ppm_sums_list]\n",
      "Cell \u001b[0;32mIn[4], line 4\u001b[0m, in \u001b[0;36m<listcomp>\u001b[0;34m(.0)\u001b[0m\n\u001b[1;32m      2\u001b[0m \u001b[38;5;28;01mdef\u001b[39;00m \u001b[38;5;21mppm_errors_data\u001b[39m(tru, nju_list, ig \u001b[38;5;241m=\u001b[39m \u001b[38;5;124m'\u001b[39m\u001b[38;5;124minv\u001b[39m\u001b[38;5;124m'\u001b[39m):  \u001b[38;5;66;03m# uses pre-defined function 'ppm errors' on the list of collapse data, creates list of corresponding ppm errors\u001b[39;00m\n\u001b[0;32m----> 4\u001b[0m     ppm_errors_list \u001b[38;5;241m=\u001b[39m [\u001b[43mfnn\u001b[49m\u001b[38;5;241;43m.\u001b[39;49m\u001b[43mppm_errors\u001b[49m\u001b[43m(\u001b[49m\u001b[43mtru\u001b[49m\u001b[43m,\u001b[49m\u001b[43m \u001b[49m\u001b[43mnju\u001b[49m\u001b[43m,\u001b[49m\u001b[43m \u001b[49m\u001b[43mig\u001b[49m\u001b[43m \u001b[49m\u001b[38;5;241;43m=\u001b[39;49m\u001b[43m \u001b[49m\u001b[43mig\u001b[49m\u001b[43m)\u001b[49m \u001b[38;5;28;01mfor\u001b[39;00m nju \u001b[38;5;129;01min\u001b[39;00m nju_list]\n\u001b[1;32m      5\u001b[0m     ppm_sums_list \u001b[38;5;241m=\u001b[39m [[\u001b[38;5;28msum\u001b[39m(i[j]) \u001b[38;5;28;01mfor\u001b[39;00m j \u001b[38;5;129;01min\u001b[39;00m \u001b[38;5;28mrange\u001b[39m(\u001b[38;5;241m2\u001b[39m)] \u001b[38;5;28;01mfor\u001b[39;00m i \u001b[38;5;129;01min\u001b[39;00m ppm_errors_list]\n\u001b[1;32m      7\u001b[0m     ppm_errors_inversion \u001b[38;5;241m=\u001b[39m [i[\u001b[38;5;241m0\u001b[39m] \u001b[38;5;28;01mfor\u001b[39;00m i \u001b[38;5;129;01min\u001b[39;00m ppm_sums_list]\n",
      "File \u001b[0;32m~/Desktop/Python/Research_python/Pair_discrimination/Likelihood estimation MLE/MLE_functions_numpy.py:265\u001b[0m, in \u001b[0;36mppm_errors\u001b[0;34m(tru, nju, method, ig)\u001b[0m\n\u001b[1;32m    264\u001b[0m \u001b[38;5;28;01mdef\u001b[39;00m \u001b[38;5;21mppm_errors\u001b[39m(tru, nju, method \u001b[38;5;241m=\u001b[39m \u001b[38;5;124m'\u001b[39m\u001b[38;5;124mCG\u001b[39m\u001b[38;5;124m'\u001b[39m, ig \u001b[38;5;241m=\u001b[39m \u001b[38;5;124m'\u001b[39m\u001b[38;5;124minv\u001b[39m\u001b[38;5;124m'\u001b[39m):\n\u001b[0;32m--> 265\u001b[0m     inv \u001b[38;5;241m=\u001b[39m \u001b[43mInversion_new\u001b[49m\u001b[43m(\u001b[49m\u001b[43mparams\u001b[49m\u001b[43m \u001b[49m\u001b[38;5;241;43m=\u001b[39;49m\u001b[43m \u001b[49m\u001b[43mtru\u001b[49m\u001b[43m,\u001b[49m\u001b[43m \u001b[49m\u001b[43mN\u001b[49m\u001b[43m \u001b[49m\u001b[38;5;241;43m=\u001b[39;49m\u001b[38;5;28;43mint\u001b[39;49m\u001b[43m(\u001b[49m\u001b[38;5;28;43msum\u001b[39;49m\u001b[43m(\u001b[49m\u001b[43mnju\u001b[49m\u001b[43m)\u001b[49m\u001b[43m)\u001b[49m\u001b[43m,\u001b[49m\u001b[43m \u001b[49m\u001b[43mthreshold\u001b[49m\u001b[43m \u001b[49m\u001b[38;5;241;43m=\u001b[39;49m\u001b[43m \u001b[49m\u001b[38;5;124;43m'\u001b[39;49m\u001b[38;5;124;43mvariable\u001b[39;49m\u001b[38;5;124;43m'\u001b[39;49m\u001b[43m,\u001b[49m\u001b[43m \u001b[49m\u001b[43mnju\u001b[49m\u001b[43m \u001b[49m\u001b[38;5;241;43m=\u001b[39;49m\u001b[43m \u001b[49m\u001b[43mnju\u001b[49m\u001b[43m)\u001b[49m\n\u001b[1;32m    266\u001b[0m     inv_params \u001b[38;5;241m=\u001b[39m inv[\u001b[38;5;241m2\u001b[39m]\n\u001b[1;32m    269\u001b[0m     sol \u001b[38;5;241m=\u001b[39m minimize(L, inv_params , method \u001b[38;5;241m=\u001b[39m method , args\u001b[38;5;241m=\u001b[39m(nju))\n",
      "File \u001b[0;32m~/Desktop/Python/Research_python/Pair_discrimination/Likelihood estimation MLE/MLE_functions_numpy.py:130\u001b[0m, in \u001b[0;36mInversion_new\u001b[0;34m(N, params, threshold, seed, an_pr, nju)\u001b[0m\n\u001b[1;32m    128\u001b[0m \u001b[38;5;28;01mdef\u001b[39;00m \u001b[38;5;21mInversion_new\u001b[39m( N \u001b[38;5;241m=\u001b[39m \u001b[38;5;241m10000\u001b[39m, params \u001b[38;5;241m=\u001b[39m [\u001b[38;5;241m0\u001b[39m,m\u001b[38;5;241m.\u001b[39mpi\u001b[38;5;241m/\u001b[39m\u001b[38;5;241m2\u001b[39m, m\u001b[38;5;241m.\u001b[39mpi\u001b[38;5;241m/\u001b[39m\u001b[38;5;241m4\u001b[39m], threshold \u001b[38;5;241m=\u001b[39m \u001b[38;5;124m'\u001b[39m\u001b[38;5;124mvariable\u001b[39m\u001b[38;5;124m'\u001b[39m, seed \u001b[38;5;241m=\u001b[39m \u001b[38;5;28;01mFalse\u001b[39;00m, an_pr \u001b[38;5;241m=\u001b[39m \u001b[38;5;28;01mTrue\u001b[39;00m, nju \u001b[38;5;241m=\u001b[39m \u001b[38;5;28;01mFalse\u001b[39;00m):    \u001b[38;5;66;03m# coeffs are as list [theta_1, theta_2, alpha] in radians\u001b[39;00m\n\u001b[1;32m    129\u001b[0m     \u001b[38;5;66;03m# seed = 42\u001b[39;00m\n\u001b[0;32m--> 130\u001b[0m     experiment \u001b[38;5;241m=\u001b[39m \u001b[43mnum_experiment\u001b[49m\u001b[43m(\u001b[49m\u001b[43mN\u001b[49m\u001b[38;5;241;43m=\u001b[39;49m\u001b[43m \u001b[49m\u001b[43mN\u001b[49m\u001b[43m,\u001b[49m\u001b[43m \u001b[49m\u001b[43mparams\u001b[49m\u001b[43m \u001b[49m\u001b[38;5;241;43m=\u001b[39;49m\u001b[43m \u001b[49m\u001b[43mparams\u001b[49m\u001b[43m,\u001b[49m\u001b[43m \u001b[49m\u001b[43man_pr\u001b[49m\u001b[38;5;241;43m=\u001b[39;49m\u001b[43m \u001b[49m\u001b[43man_pr\u001b[49m\u001b[43m,\u001b[49m\u001b[43m \u001b[49m\u001b[43mseed\u001b[49m\u001b[43m \u001b[49m\u001b[38;5;241;43m=\u001b[39;49m\u001b[43m \u001b[49m\u001b[43mseed\u001b[49m\u001b[43m)\u001b[49m\n\u001b[1;32m    131\u001b[0m     \u001b[38;5;28;01mif\u001b[39;00m nju \u001b[38;5;129;01mis\u001b[39;00m \u001b[38;5;129;01mnot\u001b[39;00m \u001b[38;5;28;01mFalse\u001b[39;00m:\n\u001b[1;32m    132\u001b[0m         N \u001b[38;5;241m=\u001b[39m \u001b[38;5;28mint\u001b[39m(\u001b[38;5;28msum\u001b[39m(nju))                                                    \u001b[38;5;66;03m# changing N coz it later affects thresholds etc.\u001b[39;00m\n",
      "File \u001b[0;32m~/Desktop/Python/Research_python/Pair_discrimination/Likelihood estimation MLE/MLE_functions_numpy.py:98\u001b[0m, in \u001b[0;36mnum_experiment\u001b[0;34m(N, params, seed, an_pr, nju)\u001b[0m\n\u001b[1;32m     96\u001b[0m POVM_dir_symbols \u001b[38;5;241m=\u001b[39m [\u001b[38;5;124m'\u001b[39m\u001b[38;5;124md1\u001b[39m\u001b[38;5;124m'\u001b[39m,\u001b[38;5;124m'\u001b[39m\u001b[38;5;124md2\u001b[39m\u001b[38;5;124m'\u001b[39m,\u001b[38;5;124m'\u001b[39m\u001b[38;5;124md3\u001b[39m\u001b[38;5;124m'\u001b[39m,\u001b[38;5;124m'\u001b[39m\u001b[38;5;124md4\u001b[39m\u001b[38;5;124m'\u001b[39m,\u001b[38;5;124m'\u001b[39m\u001b[38;5;124md5\u001b[39m\u001b[38;5;124m'\u001b[39m,\u001b[38;5;124m'\u001b[39m\u001b[38;5;124md6\u001b[39m\u001b[38;5;124m'\u001b[39m,\u001b[38;5;124m'\u001b[39m\u001b[38;5;124md7\u001b[39m\u001b[38;5;124m'\u001b[39m,\u001b[38;5;124m'\u001b[39m\u001b[38;5;124md8\u001b[39m\u001b[38;5;124m'\u001b[39m,\u001b[38;5;124m'\u001b[39m\u001b[38;5;124md9\u001b[39m\u001b[38;5;124m'\u001b[39m]      \u001b[38;5;66;03m# symbols to indicate collapsed direction\u001b[39;00m\n\u001b[1;32m     97\u001b[0m \u001b[38;5;66;03m#prob distribution is simply the corresponding elements of the prob_vec\u001b[39;00m\n\u001b[0;32m---> 98\u001b[0m collapse_dir_vec \u001b[38;5;241m=\u001b[39m \u001b[43mrand\u001b[49m\u001b[38;5;241;43m.\u001b[39;49m\u001b[43mchoices\u001b[49m\u001b[43m(\u001b[49m\u001b[43mPOVM_dir_symbols\u001b[49m\u001b[43m,\u001b[49m\u001b[43m \u001b[49m\u001b[43mweights\u001b[49m\u001b[38;5;241;43m=\u001b[39;49m\u001b[43mprob_vec\u001b[49m\u001b[43m,\u001b[49m\u001b[43m \u001b[49m\u001b[43mk\u001b[49m\u001b[43m \u001b[49m\u001b[38;5;241;43m=\u001b[39;49m\u001b[43m \u001b[49m\u001b[43mN\u001b[49m\u001b[43m)\u001b[49m   \u001b[38;5;66;03m# choosing collapse directions with weights for N trials\u001b[39;00m\n\u001b[1;32m    100\u001b[0m nj_vec \u001b[38;5;241m=\u001b[39m [collapse_dir_vec\u001b[38;5;241m.\u001b[39mcount(\u001b[38;5;124mf\u001b[39m\u001b[38;5;124m'\u001b[39m\u001b[38;5;124md\u001b[39m\u001b[38;5;132;01m{\u001b[39;00mi\u001b[38;5;241m+\u001b[39m\u001b[38;5;241m1\u001b[39m\u001b[38;5;132;01m}\u001b[39;00m\u001b[38;5;124m'\u001b[39m) \u001b[38;5;28;01mfor\u001b[39;00m i \u001b[38;5;129;01min\u001b[39;00m \u001b[38;5;28mrange\u001b[39m(\u001b[38;5;241m9\u001b[39m)]\n\u001b[1;32m    101\u001b[0m \u001b[38;5;28;01mif\u001b[39;00m nju \u001b[38;5;129;01mis\u001b[39;00m \u001b[38;5;129;01mnot\u001b[39;00m \u001b[38;5;28;01mFalse\u001b[39;00m:                                                    \n",
      "File \u001b[0;32m/Library/Frameworks/Python.framework/Versions/3.11/lib/python3.11/random.py:514\u001b[0m, in \u001b[0;36mRandom.choices\u001b[0;34m(self, population, weights, cum_weights, k)\u001b[0m\n\u001b[1;32m    512\u001b[0m bisect \u001b[38;5;241m=\u001b[39m _bisect\n\u001b[1;32m    513\u001b[0m hi \u001b[38;5;241m=\u001b[39m n \u001b[38;5;241m-\u001b[39m \u001b[38;5;241m1\u001b[39m\n\u001b[0;32m--> 514\u001b[0m \u001b[38;5;28;01mreturn\u001b[39;00m \u001b[43m[\u001b[49m\u001b[43mpopulation\u001b[49m\u001b[43m[\u001b[49m\u001b[43mbisect\u001b[49m\u001b[43m(\u001b[49m\u001b[43mcum_weights\u001b[49m\u001b[43m,\u001b[49m\u001b[43m \u001b[49m\u001b[43mrandom\u001b[49m\u001b[43m(\u001b[49m\u001b[43m)\u001b[49m\u001b[43m \u001b[49m\u001b[38;5;241;43m*\u001b[39;49m\u001b[43m \u001b[49m\u001b[43mtotal\u001b[49m\u001b[43m,\u001b[49m\u001b[43m \u001b[49m\u001b[38;5;241;43m0\u001b[39;49m\u001b[43m,\u001b[49m\u001b[43m \u001b[49m\u001b[43mhi\u001b[49m\u001b[43m)\u001b[49m\u001b[43m]\u001b[49m\n\u001b[1;32m    515\u001b[0m \u001b[43m        \u001b[49m\u001b[38;5;28;43;01mfor\u001b[39;49;00m\u001b[43m \u001b[49m\u001b[43mi\u001b[49m\u001b[43m \u001b[49m\u001b[38;5;129;43;01min\u001b[39;49;00m\u001b[43m \u001b[49m\u001b[43m_repeat\u001b[49m\u001b[43m(\u001b[49m\u001b[38;5;28;43;01mNone\u001b[39;49;00m\u001b[43m,\u001b[49m\u001b[43m \u001b[49m\u001b[43mk\u001b[49m\u001b[43m)\u001b[49m\u001b[43m]\u001b[49m\n",
      "File \u001b[0;32m/Library/Frameworks/Python.framework/Versions/3.11/lib/python3.11/random.py:514\u001b[0m, in \u001b[0;36m<listcomp>\u001b[0;34m(.0)\u001b[0m\n\u001b[1;32m    512\u001b[0m bisect \u001b[38;5;241m=\u001b[39m _bisect\n\u001b[1;32m    513\u001b[0m hi \u001b[38;5;241m=\u001b[39m n \u001b[38;5;241m-\u001b[39m \u001b[38;5;241m1\u001b[39m\n\u001b[0;32m--> 514\u001b[0m \u001b[38;5;28;01mreturn\u001b[39;00m [population[bisect(cum_weights, \u001b[43mrandom\u001b[49m\u001b[43m(\u001b[49m\u001b[43m)\u001b[49m\u001b[43m \u001b[49m\u001b[38;5;241;43m*\u001b[39;49m\u001b[43m \u001b[49m\u001b[43mtotal\u001b[49m, \u001b[38;5;241m0\u001b[39m, hi)]\n\u001b[1;32m    515\u001b[0m         \u001b[38;5;28;01mfor\u001b[39;00m i \u001b[38;5;129;01min\u001b[39;00m _repeat(\u001b[38;5;28;01mNone\u001b[39;00m, k)]\n",
      "File \u001b[0;32m/Library/Frameworks/Python.framework/Versions/3.11/lib/python3.11/site-packages/sympy/core/decorators.py:236\u001b[0m, in \u001b[0;36m_SympifyWrapper.make_wrapped.<locals>._func\u001b[0;34m(self, other)\u001b[0m\n\u001b[1;32m    234\u001b[0m \u001b[38;5;28;01mif\u001b[39;00m \u001b[38;5;129;01mnot\u001b[39;00m \u001b[38;5;28misinstance\u001b[39m(other, expectedcls):\n\u001b[1;32m    235\u001b[0m     \u001b[38;5;28;01mreturn\u001b[39;00m retval\n\u001b[0;32m--> 236\u001b[0m \u001b[38;5;28;01mreturn\u001b[39;00m \u001b[43mfunc\u001b[49m\u001b[43m(\u001b[49m\u001b[38;5;28;43mself\u001b[39;49m\u001b[43m,\u001b[49m\u001b[43m \u001b[49m\u001b[43mother\u001b[49m\u001b[43m)\u001b[49m\n",
      "File \u001b[0;32m/Library/Frameworks/Python.framework/Versions/3.11/lib/python3.11/site-packages/sympy/core/decorators.py:106\u001b[0m, in \u001b[0;36mcall_highest_priority.<locals>.priority_decorator.<locals>.binary_op_wrapper\u001b[0;34m(self, other)\u001b[0m\n\u001b[1;32m    104\u001b[0m         \u001b[38;5;28;01mif\u001b[39;00m f \u001b[38;5;129;01mis\u001b[39;00m \u001b[38;5;129;01mnot\u001b[39;00m \u001b[38;5;28;01mNone\u001b[39;00m:\n\u001b[1;32m    105\u001b[0m             \u001b[38;5;28;01mreturn\u001b[39;00m f(\u001b[38;5;28mself\u001b[39m)\n\u001b[0;32m--> 106\u001b[0m \u001b[38;5;28;01mreturn\u001b[39;00m \u001b[43mfunc\u001b[49m\u001b[43m(\u001b[49m\u001b[38;5;28;43mself\u001b[39;49m\u001b[43m,\u001b[49m\u001b[43m \u001b[49m\u001b[43mother\u001b[49m\u001b[43m)\u001b[49m\n",
      "File \u001b[0;32m/Library/Frameworks/Python.framework/Versions/3.11/lib/python3.11/site-packages/sympy/core/expr.py:223\u001b[0m, in \u001b[0;36mExpr.__rmul__\u001b[0;34m(self, other)\u001b[0m\n\u001b[1;32m    220\u001b[0m \u001b[38;5;129m@sympify_return\u001b[39m([(\u001b[38;5;124m'\u001b[39m\u001b[38;5;124mother\u001b[39m\u001b[38;5;124m'\u001b[39m, \u001b[38;5;124m'\u001b[39m\u001b[38;5;124mExpr\u001b[39m\u001b[38;5;124m'\u001b[39m)], \u001b[38;5;28mNotImplemented\u001b[39m)\n\u001b[1;32m    221\u001b[0m \u001b[38;5;129m@call_highest_priority\u001b[39m(\u001b[38;5;124m'\u001b[39m\u001b[38;5;124m__mul__\u001b[39m\u001b[38;5;124m'\u001b[39m)\n\u001b[1;32m    222\u001b[0m \u001b[38;5;28;01mdef\u001b[39;00m \u001b[38;5;21m__rmul__\u001b[39m(\u001b[38;5;28mself\u001b[39m, other):\n\u001b[0;32m--> 223\u001b[0m     \u001b[38;5;28;01mreturn\u001b[39;00m \u001b[43mMul\u001b[49m\u001b[43m(\u001b[49m\u001b[43mother\u001b[49m\u001b[43m,\u001b[49m\u001b[43m \u001b[49m\u001b[38;5;28;43mself\u001b[39;49m\u001b[43m)\u001b[49m\n",
      "File \u001b[0;32m/Library/Frameworks/Python.framework/Versions/3.11/lib/python3.11/site-packages/sympy/core/cache.py:72\u001b[0m, in \u001b[0;36m__cacheit.<locals>.func_wrapper.<locals>.wrapper\u001b[0;34m(*args, **kwargs)\u001b[0m\n\u001b[1;32m     69\u001b[0m \u001b[38;5;129m@wraps\u001b[39m(func)\n\u001b[1;32m     70\u001b[0m \u001b[38;5;28;01mdef\u001b[39;00m \u001b[38;5;21mwrapper\u001b[39m(\u001b[38;5;241m*\u001b[39margs, \u001b[38;5;241m*\u001b[39m\u001b[38;5;241m*\u001b[39mkwargs):\n\u001b[1;32m     71\u001b[0m     \u001b[38;5;28;01mtry\u001b[39;00m:\n\u001b[0;32m---> 72\u001b[0m         retval \u001b[38;5;241m=\u001b[39m \u001b[43mcfunc\u001b[49m\u001b[43m(\u001b[49m\u001b[38;5;241;43m*\u001b[39;49m\u001b[43margs\u001b[49m\u001b[43m,\u001b[49m\u001b[43m \u001b[49m\u001b[38;5;241;43m*\u001b[39;49m\u001b[38;5;241;43m*\u001b[39;49m\u001b[43mkwargs\u001b[49m\u001b[43m)\u001b[49m\n\u001b[1;32m     73\u001b[0m     \u001b[38;5;28;01mexcept\u001b[39;00m \u001b[38;5;167;01mTypeError\u001b[39;00m \u001b[38;5;28;01mas\u001b[39;00m e:\n\u001b[1;32m     74\u001b[0m         \u001b[38;5;28;01mif\u001b[39;00m \u001b[38;5;129;01mnot\u001b[39;00m e\u001b[38;5;241m.\u001b[39margs \u001b[38;5;129;01mor\u001b[39;00m \u001b[38;5;129;01mnot\u001b[39;00m e\u001b[38;5;241m.\u001b[39margs[\u001b[38;5;241m0\u001b[39m]\u001b[38;5;241m.\u001b[39mstartswith(\u001b[38;5;124m'\u001b[39m\u001b[38;5;124munhashable type:\u001b[39m\u001b[38;5;124m'\u001b[39m):\n",
      "File \u001b[0;32m/Library/Frameworks/Python.framework/Versions/3.11/lib/python3.11/site-packages/sympy/core/operations.py:98\u001b[0m, in \u001b[0;36mAssocOp.__new__\u001b[0;34m(cls, evaluate, _sympify, *args)\u001b[0m\n\u001b[1;32m     95\u001b[0m \u001b[38;5;28;01mif\u001b[39;00m \u001b[38;5;28mlen\u001b[39m(args) \u001b[38;5;241m==\u001b[39m \u001b[38;5;241m1\u001b[39m:\n\u001b[1;32m     96\u001b[0m     \u001b[38;5;28;01mreturn\u001b[39;00m args[\u001b[38;5;241m0\u001b[39m]\n\u001b[0;32m---> 98\u001b[0m c_part, nc_part, order_symbols \u001b[38;5;241m=\u001b[39m \u001b[38;5;28;43mcls\u001b[39;49m\u001b[38;5;241;43m.\u001b[39;49m\u001b[43mflatten\u001b[49m\u001b[43m(\u001b[49m\u001b[43margs\u001b[49m\u001b[43m)\u001b[49m\n\u001b[1;32m     99\u001b[0m is_commutative \u001b[38;5;241m=\u001b[39m \u001b[38;5;129;01mnot\u001b[39;00m nc_part\n\u001b[1;32m    100\u001b[0m obj \u001b[38;5;241m=\u001b[39m \u001b[38;5;28mcls\u001b[39m\u001b[38;5;241m.\u001b[39m_from_args(c_part \u001b[38;5;241m+\u001b[39m nc_part, is_commutative)\n",
      "File \u001b[0;32m/Library/Frameworks/Python.framework/Versions/3.11/lib/python3.11/site-packages/sympy/core/mul.py:285\u001b[0m, in \u001b[0;36mMul.flatten\u001b[0;34m(cls, seq)\u001b[0m\n\u001b[1;32m    283\u001b[0m     seq \u001b[38;5;241m=\u001b[39m [a, b]\n\u001b[1;32m    284\u001b[0m \u001b[38;5;28;01massert\u001b[39;00m a \u001b[38;5;129;01mis\u001b[39;00m \u001b[38;5;129;01mnot\u001b[39;00m S\u001b[38;5;241m.\u001b[39mOne\n\u001b[0;32m--> 285\u001b[0m \u001b[38;5;28;01mif\u001b[39;00m \u001b[38;5;129;01mnot\u001b[39;00m \u001b[43ma\u001b[49m\u001b[38;5;241;43m.\u001b[39;49m\u001b[43mis_zero\u001b[49m \u001b[38;5;129;01mand\u001b[39;00m a\u001b[38;5;241m.\u001b[39mis_Rational:\n\u001b[1;32m    286\u001b[0m     r, b \u001b[38;5;241m=\u001b[39m b\u001b[38;5;241m.\u001b[39mas_coeff_Mul()\n\u001b[1;32m    287\u001b[0m     \u001b[38;5;28;01mif\u001b[39;00m b\u001b[38;5;241m.\u001b[39mis_Add:\n",
      "File \u001b[0;32m/Library/Frameworks/Python.framework/Versions/3.11/lib/python3.11/site-packages/sympy/core/assumptions.py:503\u001b[0m, in \u001b[0;36mmake_property.<locals>.getit\u001b[0;34m(self)\u001b[0m\n\u001b[1;32m    501\u001b[0m \u001b[38;5;28;01mif\u001b[39;00m \u001b[38;5;28mself\u001b[39m\u001b[38;5;241m.\u001b[39m_assumptions \u001b[38;5;129;01mis\u001b[39;00m \u001b[38;5;28mself\u001b[39m\u001b[38;5;241m.\u001b[39mdefault_assumptions:\n\u001b[1;32m    502\u001b[0m     \u001b[38;5;28mself\u001b[39m\u001b[38;5;241m.\u001b[39m_assumptions \u001b[38;5;241m=\u001b[39m \u001b[38;5;28mself\u001b[39m\u001b[38;5;241m.\u001b[39mdefault_assumptions\u001b[38;5;241m.\u001b[39mcopy()\n\u001b[0;32m--> 503\u001b[0m \u001b[38;5;28;01mreturn\u001b[39;00m \u001b[43m_ask\u001b[49m\u001b[43m(\u001b[49m\u001b[43mfact\u001b[49m\u001b[43m,\u001b[49m\u001b[43m \u001b[49m\u001b[38;5;28;43mself\u001b[39;49m\u001b[43m)\u001b[49m\n",
      "File \u001b[0;32m/Library/Frameworks/Python.framework/Versions/3.11/lib/python3.11/site-packages/sympy/core/assumptions.py:566\u001b[0m, in \u001b[0;36m_ask\u001b[0;34m(fact, obj)\u001b[0m\n\u001b[1;32m    561\u001b[0m \u001b[38;5;66;03m# If we get a new value for fact_i then we should update our knowledge\u001b[39;00m\n\u001b[1;32m    562\u001b[0m \u001b[38;5;66;03m# of fact_i as well as any related facts that can be inferred using the\u001b[39;00m\n\u001b[1;32m    563\u001b[0m \u001b[38;5;66;03m# inference rules connecting the fact_i and any other fact values that\u001b[39;00m\n\u001b[1;32m    564\u001b[0m \u001b[38;5;66;03m# are already known.\u001b[39;00m\n\u001b[1;32m    565\u001b[0m \u001b[38;5;28;01mif\u001b[39;00m fact_i_value \u001b[38;5;129;01mis\u001b[39;00m \u001b[38;5;129;01mnot\u001b[39;00m \u001b[38;5;28;01mNone\u001b[39;00m:\n\u001b[0;32m--> 566\u001b[0m     \u001b[43massumptions\u001b[49m\u001b[38;5;241;43m.\u001b[39;49m\u001b[43mdeduce_all_facts\u001b[49m\u001b[43m(\u001b[49m\u001b[43m(\u001b[49m\u001b[43m(\u001b[49m\u001b[43mfact_i\u001b[49m\u001b[43m,\u001b[49m\u001b[43m \u001b[49m\u001b[43mfact_i_value\u001b[49m\u001b[43m)\u001b[49m\u001b[43m,\u001b[49m\u001b[43m)\u001b[49m\u001b[43m)\u001b[49m\n\u001b[1;32m    568\u001b[0m \u001b[38;5;66;03m# Usually if assumptions[fact] is now not None then that is because of\u001b[39;00m\n\u001b[1;32m    569\u001b[0m \u001b[38;5;66;03m# the call to deduce_all_facts above. The handler for fact_i returned\u001b[39;00m\n\u001b[1;32m    570\u001b[0m \u001b[38;5;66;03m# True or False and knowing fact_i (which is equal to fact in the first\u001b[39;00m\n\u001b[0;32m   (...)\u001b[0m\n\u001b[1;32m    573\u001b[0m \u001b[38;5;66;03m# called in another thread in a multithreaded context might have\u001b[39;00m\n\u001b[1;32m    574\u001b[0m \u001b[38;5;66;03m# resulted in assumptions[fact] being set. Either way we return it.\u001b[39;00m\n\u001b[1;32m    575\u001b[0m fact_value \u001b[38;5;241m=\u001b[39m assumptions\u001b[38;5;241m.\u001b[39mget(fact)\n",
      "File \u001b[0;32m/Library/Frameworks/Python.framework/Versions/3.11/lib/python3.11/site-packages/sympy/core/facts.py:633\u001b[0m, in \u001b[0;36mFactKB.deduce_all_facts\u001b[0;34m(self, facts)\u001b[0m\n\u001b[1;32m    631\u001b[0m \u001b[38;5;28;01mfor\u001b[39;00m bidx \u001b[38;5;129;01min\u001b[39;00m beta_maytrigger:\n\u001b[1;32m    632\u001b[0m     bcond, bimpl \u001b[38;5;241m=\u001b[39m beta_rules[bidx]\n\u001b[0;32m--> 633\u001b[0m     \u001b[38;5;28;01mif\u001b[39;00m \u001b[38;5;28mall\u001b[39m(\u001b[38;5;28mself\u001b[39m\u001b[38;5;241m.\u001b[39mget(k) \u001b[38;5;129;01mis\u001b[39;00m v \u001b[38;5;28;01mfor\u001b[39;00m k, v \u001b[38;5;129;01min\u001b[39;00m bcond):\n\u001b[1;32m    634\u001b[0m         facts\u001b[38;5;241m.\u001b[39mappend(bimpl)\n",
      "File \u001b[0;32m/Library/Frameworks/Python.framework/Versions/3.11/lib/python3.11/site-packages/sympy/core/facts.py:633\u001b[0m, in \u001b[0;36m<genexpr>\u001b[0;34m(.0)\u001b[0m\n\u001b[1;32m    631\u001b[0m \u001b[38;5;28;01mfor\u001b[39;00m bidx \u001b[38;5;129;01min\u001b[39;00m beta_maytrigger:\n\u001b[1;32m    632\u001b[0m     bcond, bimpl \u001b[38;5;241m=\u001b[39m beta_rules[bidx]\n\u001b[0;32m--> 633\u001b[0m     \u001b[38;5;28;01mif\u001b[39;00m \u001b[38;5;28mall\u001b[39m(\u001b[38;5;28mself\u001b[39m\u001b[38;5;241m.\u001b[39mget(k) \u001b[38;5;129;01mis\u001b[39;00m v \u001b[38;5;28;01mfor\u001b[39;00m k, v \u001b[38;5;129;01min\u001b[39;00m bcond):\n\u001b[1;32m    634\u001b[0m         facts\u001b[38;5;241m.\u001b[39mappend(bimpl)\n",
      "\u001b[0;31mKeyboardInterrupt\u001b[0m: "
     ]
    }
   ],
   "source": [
    "# creating error lists for both inversion initial guess and random initial guess\n",
    "errors1_inv = ppm_errors_data(tru1, nju1, ig = 'inv')\n",
    "errors2_inv = ppm_errors_data(tru2, nju2, ig = 'inv')\n",
    "errors3_inv = ppm_errors_data(tru3, nju3, ig = 'inv')\n",
    "errors4_500_inv = ppm_errors_data(tru4, nju4_500, ig = 'inv')\n",
    "errors4_20k_inv = ppm_errors_data(tru4, nju4_20k, ig = 'inv')       # errors for inversion guess\n",
    "\n",
    "errors1_rand = ppm_errors_data(tru1, nju1, ig = 'rand')\n",
    "errors2_rand = ppm_errors_data(tru2, nju2, ig = 'rand')\n",
    "errors3_rand = ppm_errors_data(tru3, nju3, ig = 'rand')\n",
    "errors4_500_rand = ppm_errors_data(tru4, nju4_500, ig = 'rand')\n",
    "errors4_20k_rand = ppm_errors_data(tru4, nju4_20k, ig = 'rand')     # errors for random guess, modify lentghs as needed"
   ]
  },
  {
   "cell_type": "markdown",
   "metadata": {},
   "source": [
    "## Plotting and comparing"
   ]
  },
  {
   "cell_type": "code",
   "execution_count": 10,
   "metadata": {},
   "outputs": [
    {
     "ename": "NameError",
     "evalue": "name 'errors1_inv' is not defined",
     "output_type": "error",
     "traceback": [
      "\u001b[0;31m---------------------------------------------------------------------------\u001b[0m",
      "\u001b[0;31mNameError\u001b[0m                                 Traceback (most recent call last)",
      "Cell \u001b[0;32mIn[10], line 3\u001b[0m\n\u001b[1;32m      1\u001b[0m \u001b[38;5;66;03m# for tru1 = [m.pi/6, m.pi/2+m.pi/6, m.pi/4, m.pi/2, m.pi/6]      # 90 deg non zero phi; [30,120,45,90,30]\u001b[39;00m\n\u001b[0;32m----> 3\u001b[0m plot_ppm_errors(\u001b[43merrors1_inv\u001b[49m, bins \u001b[38;5;241m=\u001b[39m \u001b[38;5;241m30\u001b[39m)\n\u001b[1;32m      4\u001b[0m plot_ppm_errors(errors1_rand, bins \u001b[38;5;241m=\u001b[39m \u001b[38;5;241m30\u001b[39m)\n",
      "\u001b[0;31mNameError\u001b[0m: name 'errors1_inv' is not defined"
     ]
    }
   ],
   "source": [
    "# for tru1 = [m.pi/6, m.pi/2+m.pi/6, m.pi/4, m.pi/2, m.pi/6]      # 90 deg non zero phi; [30,120,45,90,30]\n",
    "\n",
    "plot_ppm_errors(errors1_inv, bins = 30)\n",
    "plot_ppm_errors(errors1_rand, bins = 30)"
   ]
  }
 ],
 "metadata": {
  "kernelspec": {
   "display_name": "Python 3",
   "language": "python",
   "name": "python3"
  },
  "language_info": {
   "codemirror_mode": {
    "name": "ipython",
    "version": 3
   },
   "file_extension": ".py",
   "mimetype": "text/x-python",
   "name": "python",
   "nbconvert_exporter": "python",
   "pygments_lexer": "ipython3",
   "version": "3.11.4"
  }
 },
 "nbformat": 4,
 "nbformat_minor": 2
}
