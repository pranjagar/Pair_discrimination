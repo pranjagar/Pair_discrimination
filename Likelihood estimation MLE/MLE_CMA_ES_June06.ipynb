{
 "cells": [
  {
   "cell_type": "code",
   "execution_count": 1,
   "metadata": {},
   "outputs": [],
   "source": [
    "import numpy as np\n",
    "import pandas as pd\n",
    "import math as m\n",
    "import cmath\n",
    "import sympy as sym\n",
    "import scipy as sci\n",
    "import matplotlib.ticker as ticker\n",
    "import random as rand\n",
    "import matplotlib.pyplot as plt\n",
    "import cmath as cm\n",
    "from IPython.display import display, Latex\n",
    "from sympy import pprint\n",
    "# from scipy.optimize import minimize as GDlib\n",
    "from scipy.optimize import minimize \n",
    "import MLE_functions as fn\n",
    "from scipy.optimize import fsolve\n",
    "import cma\n",
    "import csv\n",
    "\n"
   ]
  },
  {
   "cell_type": "markdown",
   "metadata": {},
   "source": [
    "Purpose: \n",
    "\n",
    "First to create a lot of experiment simulations and write them in a file so that Martin can run CMA-ES on them and we can find the optimal points and then using these optimal points we can find the corresponding fidelities and plot them and then compare that with the inversion method and see which method is superior statistically. \n",
    "\n",
    "Second, to actually run these myself using python version of CMA-ES algorithm and see if results are different or not."
   ]
  },
  {
   "cell_type": "code",
   "execution_count": 3,
   "metadata": {},
   "outputs": [
    {
     "ename": "KeyboardInterrupt",
     "evalue": "",
     "output_type": "error",
     "traceback": [
      "\u001b[0;31m---------------------------------------------------------------------------\u001b[0m",
      "\u001b[0;31mKeyboardInterrupt\u001b[0m                         Traceback (most recent call last)",
      "\u001b[1;32m/Users/pranjal/Desktop/Python/Research_python/Pair_disc_code/MLE_CMA_ES_June06.ipynb Cell 3\u001b[0m line \u001b[0;36m1\n\u001b[1;32m     <a href='vscode-notebook-cell:/Users/pranjal/Desktop/Python/Research_python/Pair_disc_code/MLE_CMA_ES_June06.ipynb#W2sZmlsZQ%3D%3D?line=11'>12</a>\u001b[0m results \u001b[39m=\u001b[39m []\n\u001b[1;32m     <a href='vscode-notebook-cell:/Users/pranjal/Desktop/Python/Research_python/Pair_disc_code/MLE_CMA_ES_June06.ipynb#W2sZmlsZQ%3D%3D?line=12'>13</a>\u001b[0m \u001b[39mfor\u001b[39;00m i \u001b[39min\u001b[39;00m \u001b[39mrange\u001b[39m(\u001b[39m2500\u001b[39m):\n\u001b[0;32m---> <a href='vscode-notebook-cell:/Users/pranjal/Desktop/Python/Research_python/Pair_disc_code/MLE_CMA_ES_June06.ipynb#W2sZmlsZQ%3D%3D?line=13'>14</a>\u001b[0m     result \u001b[39m=\u001b[39m collapse_data(states_1)\n\u001b[1;32m     <a href='vscode-notebook-cell:/Users/pranjal/Desktop/Python/Research_python/Pair_disc_code/MLE_CMA_ES_June06.ipynb#W2sZmlsZQ%3D%3D?line=14'>15</a>\u001b[0m     results\u001b[39m.\u001b[39mappend(result)\n\u001b[1;32m     <a href='vscode-notebook-cell:/Users/pranjal/Desktop/Python/Research_python/Pair_disc_code/MLE_CMA_ES_June06.ipynb#W2sZmlsZQ%3D%3D?line=16'>17</a>\u001b[0m \u001b[39mwith\u001b[39;00m \u001b[39mopen\u001b[39m(\u001b[39m'\u001b[39m\u001b[39mcollapses_data_0_90.csv\u001b[39m\u001b[39m'\u001b[39m, \u001b[39m'\u001b[39m\u001b[39mw\u001b[39m\u001b[39m'\u001b[39m, newline\u001b[39m=\u001b[39m\u001b[39m'\u001b[39m\u001b[39m'\u001b[39m) \u001b[39mas\u001b[39;00m file:\n",
      "\u001b[1;32m/Users/pranjal/Desktop/Python/Research_python/Pair_disc_code/MLE_CMA_ES_June06.ipynb Cell 3\u001b[0m line \u001b[0;36m4\n\u001b[1;32m      <a href='vscode-notebook-cell:/Users/pranjal/Desktop/Python/Research_python/Pair_disc_code/MLE_CMA_ES_June06.ipynb#W2sZmlsZQ%3D%3D?line=1'>2</a>\u001b[0m \u001b[39mdef\u001b[39;00m \u001b[39mcollapse_data\u001b[39m(params):\n\u001b[1;32m      <a href='vscode-notebook-cell:/Users/pranjal/Desktop/Python/Research_python/Pair_disc_code/MLE_CMA_ES_June06.ipynb#W2sZmlsZQ%3D%3D?line=2'>3</a>\u001b[0m     nju \u001b[39m=\u001b[39m fn\u001b[39m.\u001b[39mnum_experiment(N \u001b[39m=\u001b[39m \u001b[39m1000\u001b[39m, params \u001b[39m=\u001b[39m params, seed \u001b[39m=\u001b[39m \u001b[39mNone\u001b[39;00m, an_pr \u001b[39m=\u001b[39m \u001b[39mTrue\u001b[39;00m)[\u001b[39m4\u001b[39m]\n\u001b[0;32m----> <a href='vscode-notebook-cell:/Users/pranjal/Desktop/Python/Research_python/Pair_disc_code/MLE_CMA_ES_June06.ipynb#W2sZmlsZQ%3D%3D?line=3'>4</a>\u001b[0m     njn \u001b[39m=\u001b[39m [i\u001b[39m/\u001b[39;49m\u001b[39msum\u001b[39;49m(nju) \u001b[39mfor\u001b[39;49;00m i \u001b[39min\u001b[39;49;00m nju]\n\u001b[1;32m      <a href='vscode-notebook-cell:/Users/pranjal/Desktop/Python/Research_python/Pair_disc_code/MLE_CMA_ES_June06.ipynb#W2sZmlsZQ%3D%3D?line=4'>5</a>\u001b[0m     \u001b[39mreturn\u001b[39;00m nju\n",
      "\u001b[1;32m/Users/pranjal/Desktop/Python/Research_python/Pair_disc_code/MLE_CMA_ES_June06.ipynb Cell 3\u001b[0m line \u001b[0;36m4\n\u001b[1;32m      <a href='vscode-notebook-cell:/Users/pranjal/Desktop/Python/Research_python/Pair_disc_code/MLE_CMA_ES_June06.ipynb#W2sZmlsZQ%3D%3D?line=1'>2</a>\u001b[0m \u001b[39mdef\u001b[39;00m \u001b[39mcollapse_data\u001b[39m(params):\n\u001b[1;32m      <a href='vscode-notebook-cell:/Users/pranjal/Desktop/Python/Research_python/Pair_disc_code/MLE_CMA_ES_June06.ipynb#W2sZmlsZQ%3D%3D?line=2'>3</a>\u001b[0m     nju \u001b[39m=\u001b[39m fn\u001b[39m.\u001b[39mnum_experiment(N \u001b[39m=\u001b[39m \u001b[39m1000\u001b[39m, params \u001b[39m=\u001b[39m params, seed \u001b[39m=\u001b[39m \u001b[39mNone\u001b[39;00m, an_pr \u001b[39m=\u001b[39m \u001b[39mTrue\u001b[39;00m)[\u001b[39m4\u001b[39m]\n\u001b[0;32m----> <a href='vscode-notebook-cell:/Users/pranjal/Desktop/Python/Research_python/Pair_disc_code/MLE_CMA_ES_June06.ipynb#W2sZmlsZQ%3D%3D?line=3'>4</a>\u001b[0m     njn \u001b[39m=\u001b[39m [i\u001b[39m/\u001b[39m\u001b[39msum\u001b[39m(nju) \u001b[39mfor\u001b[39;00m i \u001b[39min\u001b[39;00m nju]\n\u001b[1;32m      <a href='vscode-notebook-cell:/Users/pranjal/Desktop/Python/Research_python/Pair_disc_code/MLE_CMA_ES_June06.ipynb#W2sZmlsZQ%3D%3D?line=4'>5</a>\u001b[0m     \u001b[39mreturn\u001b[39;00m nju\n",
      "\u001b[0;31mKeyboardInterrupt\u001b[0m: "
     ]
    }
   ],
   "source": [
    "# Creating 5000 expts' collapse data\n",
    "def collapse_data(params):\n",
    "    nju = fn.num_experiment(N = 1000, params = params, seed = None, an_pr = True)[4]\n",
    "    njn = [i/sum(nju) for i in nju]\n",
    "    return nju\n",
    "\n",
    "# Creating 2500 expts' collapse data and writing to csv file\n",
    "\n",
    "\n",
    "#1, 90 deg nice\n",
    "states_1 = [0,m.pi/2,0,0,m.pi/4]\n",
    "\n",
    "results_3 = []\n",
    "for i in range(2500):\n",
    "    result = collapse_data(states_1)\n",
    "    results_3.append(result)\n",
    "\n",
    "# with open('collapses_data_0_90.csv', 'w', newline='') as file:\n",
    "#     writer = csv.writer(file)\n",
    "#     writer.writerows(results_3)\n"
   ]
  },
  {
   "cell_type": "code",
   "execution_count": 2,
   "metadata": {},
   "outputs": [
    {
     "ename": "NameError",
     "evalue": "name 'collapse_data' is not defined",
     "output_type": "error",
     "traceback": [
      "\u001b[0;31m---------------------------------------------------------------------------\u001b[0m",
      "\u001b[0;31mNameError\u001b[0m                                 Traceback (most recent call last)",
      "Cell \u001b[0;32mIn[2], line 5\u001b[0m\n\u001b[1;32m      3\u001b[0m results_2 \u001b[38;5;241m=\u001b[39m []\n\u001b[1;32m      4\u001b[0m \u001b[38;5;28;01mfor\u001b[39;00m i \u001b[38;5;129;01min\u001b[39;00m \u001b[38;5;28mrange\u001b[39m(\u001b[38;5;241m2500\u001b[39m):\n\u001b[0;32m----> 5\u001b[0m     result \u001b[38;5;241m=\u001b[39m \u001b[43mcollapse_data\u001b[49m(states_2)\n\u001b[1;32m      6\u001b[0m     results_2\u001b[38;5;241m.\u001b[39mappend(result)\n\u001b[1;32m      8\u001b[0m \u001b[38;5;66;03m# with open('collapses_data_30_120.csv', 'w', newline='') as file:\u001b[39;00m\n\u001b[1;32m      9\u001b[0m \u001b[38;5;66;03m#     writer = csv.writer(file)\u001b[39;00m\n\u001b[1;32m     10\u001b[0m \u001b[38;5;66;03m#     writer.writerows(results)\u001b[39;00m\n",
      "\u001b[0;31mNameError\u001b[0m: name 'collapse_data' is not defined"
     ]
    }
   ],
   "source": [
    "#2, 90 deg\n",
    "states_2 = [m.pi/6, m.pi/2+m.pi/6, m.pi/4, m.pi/2, m.pi/6]\n",
    "results_2 = []\n",
    "for i in range(2500):\n",
    "    result = collapse_data(states_2)\n",
    "    results_2.append(result)\n",
    "\n",
    "# with open('collapses_data_30_120.csv', 'w', newline='') as file:\n",
    "#     writer = csv.writer(file)\n",
    "#     writer.writerows(results)\n",
    "\n",
    "results_2"
   ]
  },
  {
   "cell_type": "code",
   "execution_count": null,
   "metadata": {},
   "outputs": [],
   "source": [
    "#3, 60 deg\n",
    "states_3 = [m.pi/12, m.pi/2-m.pi/12, m.pi/4, m.pi/2, m.pi/3]\n",
    "results_3 = []\n",
    "for i in range(2500):\n",
    "    result = collapse_data(states_3)\n",
    "    results_3.append(result)\n",
    "\n",
    "# with open('collapses_data_15_75.csv', 'w', newline='') as file:\n",
    "#     writer = csv.writer(file)\n",
    "#     writer.writerows(results_3)\n"
   ]
  },
  {
   "cell_type": "code",
   "execution_count": 7,
   "metadata": {},
   "outputs": [
    {
     "name": "stdout",
     "output_type": "stream",
     "text": [
      "(3_w,6)-aCMA-ES (mu_w=2.0,w_1=63%) in dimension 2 (seed=759061, Fri Jun  7 04:47:35 2024)\n",
      "Iterat #Fevals   function value  axis ratio  sigma  min&max std  t[m:s]\n",
      "    1      6 9.775305124205753e-03 1.0e+00 3.57e-01  3e-01  3e-01 0:00.0\n"
     ]
    },
    {
     "name": "stdout",
     "output_type": "stream",
     "text": [
      "    2     12 1.830640162013807e-02 1.2e+00 2.85e-01  2e-01  2e-01 0:00.0\n",
      "    3     18 1.132412866403276e-02 1.0e+00 2.50e-01  2e-01  2e-01 0:00.0\n",
      "   69    414 1.270199821008974e-15 1.3e+00 1.91e-05  3e-08  4e-08 0:00.1\n",
      "Best solution: [1.00000001 0.99999998]\n",
      "Full result: CMAEvolutionStrategyResult(xbest=array([1.00000001, 0.99999998]), fbest=4.634599391604126e-16, evals_best=403, evaluations=414, iterations=69, xfavorite=array([1.        , 0.99999996]), stds=array([2.93778100e-08, 3.75229285e-08]), stop={'tolfun': 1e-11})\n"
     ]
    }
   ],
   "source": [
    "#Rough\n",
    "\"\"\"\n",
    "# Objective function to minimize\n",
    "def objective_function(x):\n",
    "    return x**2\n",
    "\n",
    "# Initial guess for the solution\n",
    "initial_guess = [1,1]\n",
    "\n",
    "\n",
    "# Standard deviation of the initial population\n",
    "sigma = 0.5\n",
    "\n",
    "# Running the CMA-ES algorithm\n",
    "es = cma.CMAEvolutionStrategy(initial_guess, sigma)\n",
    "result = es.optimize(objective_function)\n",
    "\n",
    "# Extracting the best solution found\n",
    "# best_solution = result[0]\n",
    "# print(\"Best solution:\", best_solution)\n",
    "print('','full result', result)\"\"\"\n",
    "\n",
    "import cma\n",
    "\n",
    "# Objective function to minimize\n",
    "def objective_function(x):\n",
    "    # Sum of squared differences from 1\n",
    "    return sum((xi - 1)**2 for xi in x)\n",
    "\n",
    "# Initial guess for the solution\n",
    "initial_guess = [1, 1]\n",
    "\n",
    "# Standard deviation of the initial population\n",
    "sigma = 0.5\n",
    "\n",
    "# Running the CMA-ES algorithm\n",
    "es = cma.CMAEvolutionStrategy(initial_guess, sigma)\n",
    "es.optimize(objective_function)\n",
    "\n",
    "# Extracting the best solution found\n",
    "best_solution = es.result.xbest\n",
    "print(\"Best solution:\", best_solution)\n",
    "print('Full result:', es.result)"
   ]
  }
 ],
 "metadata": {
  "kernelspec": {
   "display_name": "Python 3",
   "language": "python",
   "name": "python3"
  },
  "language_info": {
   "codemirror_mode": {
    "name": "ipython",
    "version": 3
   },
   "file_extension": ".py",
   "mimetype": "text/x-python",
   "name": "python",
   "nbconvert_exporter": "python",
   "pygments_lexer": "ipython3",
   "version": "3.11.4"
  },
  "orig_nbformat": 4
 },
 "nbformat": 4,
 "nbformat_minor": 2
}
