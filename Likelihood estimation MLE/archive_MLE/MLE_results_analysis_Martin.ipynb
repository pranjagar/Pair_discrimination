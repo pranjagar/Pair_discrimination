{
 "cells": [
  {
   "cell_type": "code",
   "execution_count": 5,
   "metadata": {},
   "outputs": [],
   "source": [
    "import numpy as np\n",
    "import pandas as pd\n",
    "import math as m\n",
    "import cmath\n",
    "import sympy as sym\n",
    "import scipy as sci\n",
    "import matplotlib.ticker as ticker\n",
    "import random as rand\n",
    "import matplotlib.pyplot as plt\n",
    "import cmath as cm\n",
    "from IPython.display import display, Latex\n",
    "from sympy import pprint\n",
    "# from scipy.optimize import minimize as GDlib\n",
    "from scipy.optimize import minimize \n",
    "import MLE_functions as fn\n",
    "from scipy.optimize import fsolve\n",
    "# K-means clustering\n",
    "import numpy as np\n",
    "from sklearn.cluster import KMeans\n",
    "import matplotlib.pyplot as plt\n",
    "from sklearn.decomposition import PCA"
   ]
  },
  {
   "cell_type": "markdown",
   "metadata": {},
   "source": [
    "\n",
    " Running Marin's solution for the previous problem when angles were pi over 6 and pi over 2 + pi over 6. It is labeled as state# 4 In the constrained optimization May 13th, Jupyter file. In this case the optimization method was\n",
    " giving worse result in both the fidelities. I am trying to see if martin's results are better"
   ]
  },
  {
   "cell_type": "code",
   "execution_count": 2,
   "metadata": {},
   "outputs": [],
   "source": [
    "# importing the optimum angles from Martin and finding the \n",
    "angles_big_list = [[2.6128045312612, 4.1538263863993, 3.9483395760941, 4.8338350410142, 2.6003224997292],[5.270951595685, 2.6128045322226, 1.6922423347347, 3.9483395848065, 4.1711188317028],[2.6128045312679, 2.1293589454771, 3.9483395925169, 1.692242352814, 2.6003224949821],[2.6128045870932, 2.1293588428138, 3.9483396449145, 1.6922420036728, 3.6828628427527],[2.6128045390332, 4.1538263696018, 3.9483395247435, 4.8338349433255, 3.6828627424204],[2.1293589433065, 2.6128045251871, 1.6922423639235, 3.9483396076427, 1.0295261959233],[4.1538265924823, 2.6128044383117, 4.8338352738931, 3.9483394442578, 4.171118931823],[2.6128045322489, 2.1293589490325, 3.9483395609056, 1.6922422437648, 3.6828627808686],[2.1293589489232, 2.6128045306355, 1.6922423280262, 3.9483395653706, 1.0295261811064],[2.1293589261101, 2.6128045314481, 1.6922423302507, 3.9483395924169, 1.0295261792479],[2.6128045247251, 2.1293589648636, 3.9483395857767, 1.6922422971805, 2.6003225051522],[2.612804539297, 2.129358931559, 3.9483395967638, 1.692242376619, 3.6828628172302],[4.153826358071, 2.6128045241651, 4.8338349313472, 3.9483396317505, 2.1120664736998],[2.6128045296833, 2.1293589389148, 3.9483395723262, 1.6922423030424, 3.6828628072708],[2.6128045441423, 2.1293589642999, 3.9483395865064, 1.6922422171363, 3.6828627999537],[2.6128045346935, 4.1538263403168, 3.9483395892901, 4.8338350251645, 3.6828628074298],[2.6128045297318, 4.1538263963023, 3.9483396500259, 4.8338350967786, 3.6828628268027],[2.1293589392576, 2.6128045445738, 1.692242336534, 3.9483396105786, 2.1120664797715],[2.6128045364209, 2.1293589278933, 3.9483395872547, 1.692242342569, 2.6003225081709],[2.6128045417929, 2.1293589734454, 3.9483395649207, 1.6922423352417, 3.6828628178323],[3.6703807724445, 2.1293589482114, 0.80674696267538, 1.6922423901296, 2.6003225055802],[2.1293588685227, 2.6128045350813, 1.692242198232, 3.9483396293773, 4.1711188670863],[2.6128045350282, 2.1293589716845, 3.9483395716683, 1.6922422941214, 2.6003225066728],[1.0122339963897, 2.6128045605899, 4.8338351155313, 3.948339537302, -1.0295262406807],[3.6703807934544, 1.012233745368, 0.80674690714077, 4.8338348625642, 2.6003225027834],[3.6703807205512, 5.2709514101513, 0.80674692412529, 1.6922418210186, 3.6828628660014],[2.6128045380826, 2.1293589799027, 3.9483395924991, 1.6922423801798, 2.6003225017153],[2.1293589187042, 2.6128045369332, 1.6922423449122, 3.9483395958687, 1.029526200347],[4.153826351907, 2.6128045383594, 4.8338345372071, 3.9483396569022, 2.1120664547995],[5.2709515749008, 2.6128045384771, 1.6922423706735, 3.9483395988493, 1.0295261841972],[2.612804539672, 2.1293589104788, 3.9483395668544, 1.6922422948769, 2.600322499529],[5.7543971973371, 2.129358936294, 3.9483395907739, 1.6922423141638, 3.6828628098007],[2.6128045360413, 2.129358979406, 3.9483395934913, 1.6922423627317, 2.6003225099356],[2.129358907788, 2.6128045737175, 1.692242214779, 3.9483395593399, 5.2536591437377],[4.1538263574336, 2.6128045171488, 4.8338349759753, 3.9483395527271, 1.0295261721076],[2.6128045340857, 2.1293589240679, 3.9483395726757, 1.6922423227808, 2.600322507886],[2.6128045312841, 2.1293589443348, 3.9483395784533, 1.6922423033868, 3.6828627918778],[2.6128045293721, 4.1538263615174, 3.9483396016567, 4.833834995879, 2.6003224992192],[2.6128045250275, 1.0122337176168, 3.9483395886056, 4.8338350386756, 2.6003225132915],[2.6128045310084, 2.1293589530763, 3.9483395894139, 1.6922423840433, 3.6828628073864],[4.1538263657115, 2.6128045351602, 4.8338349976971, 3.9483395934045, 4.1711188306079],[2.6128045413793, 2.1293589193121, 3.9483395928188, 1.6922423264796, 0.54127015197078],[4.1538263928272, 2.612804541854, 4.8338350136723, 3.9483395839019, 4.1711188400835],[2.6128045371778, 5.2709515979237, 3.9483395780357, 1.6922423847225, 3.6828628010406],[4.153826383279, 2.6128045487614, 4.8338349405059, 3.9483396076201, 2.1120664528452],[2.6128045358631, 2.1293589207941, 3.9483396030182, 1.6922422716869, 3.6828628139241],[2.6128045314583, 5.2709515999798, 3.9483396035699, 1.6922423802543, 3.6828628033743],[2.1293589196359, 2.6128045372325, 1.6922423661515, 3.9483395778286, 4.1711188218778],[4.1538263355354, 2.6128045290495, 4.8338350990941, 3.9483396087489, 5.2536591485357],[2.1293589753622, 2.6128045305925, 1.6922423687483, 3.9483395903558, 2.1120664671746],[4.1538263619268, 2.6128045333806, 4.8338348418075, 3.9483395827269, 2.1120665114507],[2.6128045252372, 4.153826223467, 3.9483396194784, 4.8338351653392, 2.6003225338473],[2.1293589422415, 2.612804523794, 1.6922422810622, 3.9483395854084, 5.2536591237371],[2.612804534754, 2.1293589213057, 3.9483396017251, 1.6922423501931, 3.6828628121314],[2.6128046126789, 5.2709516659048, 3.9483398565336, 1.6922423623665, 2.6003223449425],[2.6128045223802, 1.0122336933635, 3.9483395816344, 4.8338350266659, 2.6003225052173],[2.6128045296222, 2.129358943022, 3.948339594145, 1.6922423534743, 2.6003225081272],[2.129358942174, 2.6128045408795, 1.6922423277819, 3.9483395921493, 2.1120664580398],[2.6128045018353, 1.0122336960956, 3.9483395628265, 4.8338348046774, 2.6003225087185],[2.6128045455772, 2.1293589725146, 3.9483395959545, 7.9754277302716, 2.6003224463515],[2.1293589201084, 2.6128045341446, 1.6922422915441, 3.948339587627, 4.1711188214366],[2.1293589293393, 2.6128045361587, 1.6922423144662, 3.9483395851861, 5.2536591282118],[2.6128045354999, 4.1538263607353, 3.9483395746279, 4.8338349218341, 3.6828627784605],[2.6128045234187, 2.1293589204758, 3.9483395881901, 1.6922423277594, 2.6003225115843],[4.1538263682299, 2.6128045633667, 4.8338347060873, 3.94833948688, 4.1711188252032],[2.6128045321082, 1.012233697994, 3.9483395697303, 4.833834949687, 2.6003225093956],[4.1538263497999, 2.6128045355556, 4.8338349962398, 3.9483395985206, 1.0295261837611],[2.6128045396313, 1.0122336975043, 3.9483395871406, 4.8338350024126, 3.6828628024389],[0.52878811642732, 5.2709516612247, 0.80674693297817, 1.6922424138092, 2.6003224780539],[2.6128045408513, 4.1538263541856, 3.948339595439, 4.8338349671228, 3.6828628052614],[4.1538263673695, 3.6703807757997, -1.4493502040431, 0.8067469588344, 4.1711188346641],[2.6128045377373, 4.1538263697245, 3.9483395961881, 4.8338350083602, 2.6003225096237],[2.6128045130337, 4.1538264097602, 3.9483396200199, 4.8338349900999, 3.6828628147027],[2.1293589309596, 2.6128045348827, 1.6922424348271, 3.9483396020866, 4.1711188274573],[2.6128045305996, 4.1538263575425, 3.9483395916888, 4.8338349475823, 2.600322505286],[4.153826379912, 2.6128045352768, 4.8338349594736, 3.9483395812359, 4.1711188217154],[5.2709516248898, 3.6703807755318, 1.6922423408285, 0.80674690824036, 4.1711188303851],[2.6128045407594, 4.1538263695733, 3.9483396042281, 4.8338350063309, 3.6828627909846],[1.0122337896583, -0.52878814916628, 4.8338350687977, 3.948339553724, 2.1120664916023],[3.6703808188028, 1.0122337398144, 0.80674711227714, 4.8338349332928, 2.6003225167958],[2.6128045295975, 1.0122337361963, 3.9483396110501, 4.8338349767757, 3.6828627930695],[1.0122337028967, 2.6128046149121, 4.8338352539068, 3.9483401019544, 2.1120667004563],[2.1293589311402, 2.6128045377771, 1.692242336924, 3.948339579386, 4.1711188368712],[2.6128045396021, 4.1538263490591, 3.9483395774495, -1.44935036793, 2.6003225117106],[2.6128045323059, 4.1538263565147, 3.9483395942402, 4.8338350016798, 2.6003225024095],[4.1538263390944, 2.6128045315619, 4.8338350233168, 3.9483396022681, 2.1120664732854],[2.6128045230111, 2.129358905283, 3.9483396203181, 1.6922424111897, 2.6003224881508],[2.6128045181421, 2.1293589374353, 3.9483395694411, 1.69224229949, 2.6003225271984],[2.6128044744615, 5.2709513077722, 3.9483395604242, 1.6922423519736, 3.6828629162133],[2.6128045334147, 4.1538262903328, 3.9483395740245, 4.8338350695295, 2.6003224701738],[4.1538265191798, 2.6128044549909, 4.833835338851, 3.9483396341002, 5.2536591594105],[2.612804525955, 2.1293589255378, 3.9483396066884, 1.6922423100852, 3.682862795135],[2.6128045311796, 4.1538263462627, 3.9483395744402, 4.8338349668763, 3.6828628040803],[4.1538263933241, 2.6128045382357, 4.8338349165497, 3.9483395765218, 2.1120664678252],[2.6128045392432, 2.1293589295648, 3.9483396077256, 1.6922423573386, 2.6003225231723],[2.612804513837, 4.1538263503444, 3.9483395746699, 4.8338349273172, 3.6828627946548],[2.1293589084485, 2.6128045288686, 1.6922423449039, 3.9483395837378, 2.1120664744117],[5.2709515943095, 2.6128045320825, 1.6922423693865, 3.9483396357027, 5.2536591173011],[2.6128045273742, 5.270951587446, 3.9483395979917, 1.692242310565, 3.6828627928723],[2.612804535657, 4.1538263892518, 3.9483395797926, 4.8338349292027, 2.600322507959]]\n"
   ]
  },
  {
   "cell_type": "code",
   "execution_count": 3,
   "metadata": {},
   "outputs": [
    {
     "name": "stdout",
     "output_type": "stream",
     "text": [
      "ppm inversion :  [17.53122078240743, 3778.704781069342] \n",
      " ppm opt:  [112.89701362504623, 4088.8646349209744]\n"
     ]
    }
   ],
   "source": [
    "#finding the L values, the fidelities, the ppm errors and the sum of the ppm errors for each set of angles\n",
    "\n",
    "nju = [618, 594, 1176, 995, 2316, 562, 1241, 1175, 1323]            # the one with fixed seed = 42\n",
    "\n",
    "# previous results for fid and opt algos: \n",
    "ppm_inv = [17.53122078240743, 3778.704781069342] \n",
    "ppm_opt_CG = [112.89701362504623, 4088.8646349209744]\n",
    "print('ppm inversion : ', ppm_inv, '\\n ppm opt: ', ppm_opt_CG)\n",
    "\n",
    "\n",
    "# Find fidelity for each sublist of parameters, and then find the ppm error and store in a list with the corresponding number\n",
    "analysis_martin = []\n",
    "\n",
    "for count, i in enumerate(angles_big_list):\n",
    "    L = fn.L(nju, i)\n",
    "    # Creating two fids and selecting the lowest one, due to states flipping\n",
    "    fid1 = fn.fid([m.pi/6, m.pi/2 + m.pi/6, m.pi/4, m.pi/2, m.pi/6], i)\n",
    "    fid2 = fn.fid([m.pi/2 + m.pi/6, m.pi/6, m.pi/2, m.pi/4, m.pi/6], i) \n",
    "    # Select the one with lower sum\n",
    "    fid = fid1 if sum(fid1) > sum(fid2) else fid2\n",
    "    ppm_martin = [(1 - x) * 10**6 for x in fid] \n",
    "    sum_ppm = sum(ppm_martin)\n",
    "    analysis_martin.append([ppm_martin, sum_ppm, L, fid, count])\n",
    "\n",
    "# Sort the list by the sum of the ppm errors\n",
    "analysis_martin = sorted(analysis_martin, key=lambda x: x[1])"
   ]
  },
  {
   "cell_type": "code",
   "execution_count": 23,
   "metadata": {},
   "outputs": [
    {
     "data": {
      "text/plain": [
       "[[112.89046682361192, 4088.726737569881],\n",
       " 4201.617204393493,\n",
       " 2.100068549910187,\n",
       " [0.9998871095331764, 0.9959112732624301],\n",
       " 51]"
      ]
     },
     "execution_count": 23,
     "metadata": {},
     "output_type": "execute_result"
    }
   ],
   "source": [
    "#analysis_martin list - pick out the minimum second element and the maximum of the second element thus showing the range of it and then do the same for the fourth element\n",
    "analysis_martin_sorted = sorted(analysis_martin, key=lambda x: x[1])\n",
    "analysis_martin_sorted[-1]\n",
    "\n"
   ]
  },
  {
   "cell_type": "code",
   "execution_count": 33,
   "metadata": {},
   "outputs": [],
   "source": [
    "\n",
    "# angles_mod_pi.sort()\n",
    "\n",
    "angles_mod_pi_quarter = angles_mod_pi[:len(angles_mod_pi)//4]\n"
   ]
  },
  {
   "cell_type": "markdown",
   "metadata": {},
   "source": [
    "-trying to apply k-means clustering algorithm to find centers of two major clusters so to find the best value of the angles or the best guess of the angles"
   ]
  },
  {
   "cell_type": "code",
   "execution_count": 17,
   "metadata": {},
   "outputs": [
    {
     "name": "stdout",
     "output_type": "stream",
     "text": [
      "data examples:\n",
      " [[-0.8634190813535172, -0.3490300512240094, -0.5299677999963954, -0.1027354384291888, 0.0, -0.36426022744353237, 0.0, 0.8417716796481947], [0.5299678180718262, 0.10273539270797477, -0.8634190818385312, -0.34903004747612926, 0.0, -0.8417716738482744, 0.0, -0.3642602298850626]]\n",
      "Cluster Centers:\n",
      " [[(-0.7970313167525079+0j), (-0.32456566994582764-0.35891961407010925j), (-0.500321290262205+0j), (-0.09312335650019611+0.8316118555802409j)], [(-0.4717662460289238+0j), (-0.13600962348025747+0.32359774756185017j), (-0.4690643053959809+0j), (-0.221171908770404-0.49940498625841245j)]]\n"
     ]
    },
    {
     "ename": "ValueError",
     "evalue": "Complex data not supported\n[[(-0.7970313167525079+0j), (-0.32456566994582764-0.35891961407010925j), (-0.500321290262205+0j), (-0.09312335650019611+0.8316118555802409j)], [(-0.4717662460289238+0j), (-0.13600962348025747+0.32359774756185017j), (-0.4690643053959809+0j), (-0.221171908770404-0.49940498625841245j)]]\n",
     "output_type": "error",
     "traceback": [
      "\u001b[0;31m---------------------------------------------------------------------------\u001b[0m",
      "\u001b[0;31mComplexWarning\u001b[0m                            Traceback (most recent call last)",
      "File \u001b[0;32m/Library/Frameworks/Python.framework/Versions/3.11/lib/python3.11/site-packages/sklearn/utils/validation.py:1007\u001b[0m, in \u001b[0;36mcheck_array\u001b[0;34m(array, accept_sparse, accept_large_sparse, dtype, order, copy, force_all_finite, ensure_2d, allow_nd, ensure_min_samples, ensure_min_features, estimator, input_name)\u001b[0m\n\u001b[1;32m   1006\u001b[0m     \u001b[39melse\u001b[39;00m:\n\u001b[0;32m-> 1007\u001b[0m         array \u001b[39m=\u001b[39m _asarray_with_order(array, order\u001b[39m=\u001b[39;49morder, dtype\u001b[39m=\u001b[39;49mdtype, xp\u001b[39m=\u001b[39;49mxp)\n\u001b[1;32m   1008\u001b[0m \u001b[39mexcept\u001b[39;00m ComplexWarning \u001b[39mas\u001b[39;00m complex_warning:\n",
      "File \u001b[0;32m/Library/Frameworks/Python.framework/Versions/3.11/lib/python3.11/site-packages/sklearn/utils/_array_api.py:746\u001b[0m, in \u001b[0;36m_asarray_with_order\u001b[0;34m(array, dtype, order, copy, xp, device)\u001b[0m\n\u001b[1;32m    745\u001b[0m \u001b[39melse\u001b[39;00m:\n\u001b[0;32m--> 746\u001b[0m     array \u001b[39m=\u001b[39m numpy\u001b[39m.\u001b[39masarray(array, order\u001b[39m=\u001b[39morder, dtype\u001b[39m=\u001b[39mdtype)\n\u001b[1;32m    748\u001b[0m \u001b[39m# At this point array is a NumPy ndarray. We convert it to an array\u001b[39;00m\n\u001b[1;32m    749\u001b[0m \u001b[39m# container that is consistent with the input's namespace.\u001b[39;00m\n",
      "\u001b[0;31mComplexWarning\u001b[0m: Casting complex values to real discards the imaginary part",
      "\nThe above exception was the direct cause of the following exception:\n",
      "\u001b[0;31mValueError\u001b[0m                                Traceback (most recent call last)",
      "\u001b[1;32m/Users/pranjal/Desktop/Python/Research_python/Pair_disc_code/MLE_results_analysis_Marin.ipynb Cell 7\u001b[0m line \u001b[0;36m2\n\u001b[1;32m     <a href='vscode-notebook-cell:/Users/pranjal/Desktop/Python/Research_python/Pair_disc_code/MLE_results_analysis_Marin.ipynb#X11sZmlsZQ%3D%3D?line=22'>23</a>\u001b[0m pca \u001b[39m=\u001b[39m PCA(n_components\u001b[39m=\u001b[39m\u001b[39m2\u001b[39m)\n\u001b[1;32m     <a href='vscode-notebook-cell:/Users/pranjal/Desktop/Python/Research_python/Pair_disc_code/MLE_results_analysis_Marin.ipynb#X11sZmlsZQ%3D%3D?line=23'>24</a>\u001b[0m data_2d \u001b[39m=\u001b[39m pca\u001b[39m.\u001b[39mfit_transform(data)\n\u001b[0;32m---> <a href='vscode-notebook-cell:/Users/pranjal/Desktop/Python/Research_python/Pair_disc_code/MLE_results_analysis_Marin.ipynb#X11sZmlsZQ%3D%3D?line=24'>25</a>\u001b[0m centers_2d \u001b[39m=\u001b[39m pca\u001b[39m.\u001b[39;49mtransform(centers)\n\u001b[1;32m     <a href='vscode-notebook-cell:/Users/pranjal/Desktop/Python/Research_python/Pair_disc_code/MLE_results_analysis_Marin.ipynb#X11sZmlsZQ%3D%3D?line=26'>27</a>\u001b[0m \u001b[39m# Plot the data points and cluster centers\u001b[39;00m\n\u001b[1;32m     <a href='vscode-notebook-cell:/Users/pranjal/Desktop/Python/Research_python/Pair_disc_code/MLE_results_analysis_Marin.ipynb#X11sZmlsZQ%3D%3D?line=27'>28</a>\u001b[0m plt\u001b[39m.\u001b[39mscatter(data_2d[:, \u001b[39m0\u001b[39m], data_2d[:, \u001b[39m1\u001b[39m], c\u001b[39m=\u001b[39mkmeans\u001b[39m.\u001b[39mlabels_, cmap\u001b[39m=\u001b[39m\u001b[39m'\u001b[39m\u001b[39mviridis\u001b[39m\u001b[39m'\u001b[39m)\n",
      "File \u001b[0;32m/Library/Frameworks/Python.framework/Versions/3.11/lib/python3.11/site-packages/sklearn/utils/_set_output.py:313\u001b[0m, in \u001b[0;36m_wrap_method_output.<locals>.wrapped\u001b[0;34m(self, X, *args, **kwargs)\u001b[0m\n\u001b[1;32m    311\u001b[0m \u001b[39m@wraps\u001b[39m(f)\n\u001b[1;32m    312\u001b[0m \u001b[39mdef\u001b[39;00m \u001b[39mwrapped\u001b[39m(\u001b[39mself\u001b[39m, X, \u001b[39m*\u001b[39margs, \u001b[39m*\u001b[39m\u001b[39m*\u001b[39mkwargs):\n\u001b[0;32m--> 313\u001b[0m     data_to_wrap \u001b[39m=\u001b[39m f(\u001b[39mself\u001b[39;49m, X, \u001b[39m*\u001b[39;49margs, \u001b[39m*\u001b[39;49m\u001b[39m*\u001b[39;49mkwargs)\n\u001b[1;32m    314\u001b[0m     \u001b[39mif\u001b[39;00m \u001b[39misinstance\u001b[39m(data_to_wrap, \u001b[39mtuple\u001b[39m):\n\u001b[1;32m    315\u001b[0m         \u001b[39m# only wrap the first output for cross decomposition\u001b[39;00m\n\u001b[1;32m    316\u001b[0m         return_tuple \u001b[39m=\u001b[39m (\n\u001b[1;32m    317\u001b[0m             _wrap_data_with_container(method, data_to_wrap[\u001b[39m0\u001b[39m], X, \u001b[39mself\u001b[39m),\n\u001b[1;32m    318\u001b[0m             \u001b[39m*\u001b[39mdata_to_wrap[\u001b[39m1\u001b[39m:],\n\u001b[1;32m    319\u001b[0m         )\n",
      "File \u001b[0;32m/Library/Frameworks/Python.framework/Versions/3.11/lib/python3.11/site-packages/sklearn/decomposition/_base.py:143\u001b[0m, in \u001b[0;36m_BasePCA.transform\u001b[0;34m(self, X)\u001b[0m\n\u001b[1;32m    139\u001b[0m xp, _ \u001b[39m=\u001b[39m get_namespace(X, \u001b[39mself\u001b[39m\u001b[39m.\u001b[39mcomponents_, \u001b[39mself\u001b[39m\u001b[39m.\u001b[39mexplained_variance_)\n\u001b[1;32m    141\u001b[0m check_is_fitted(\u001b[39mself\u001b[39m)\n\u001b[0;32m--> 143\u001b[0m X \u001b[39m=\u001b[39m \u001b[39mself\u001b[39;49m\u001b[39m.\u001b[39;49m_validate_data(\n\u001b[1;32m    144\u001b[0m     X, dtype\u001b[39m=\u001b[39;49m[xp\u001b[39m.\u001b[39;49mfloat64, xp\u001b[39m.\u001b[39;49mfloat32], accept_sparse\u001b[39m=\u001b[39;49m(\u001b[39m\"\u001b[39;49m\u001b[39mcsr\u001b[39;49m\u001b[39m\"\u001b[39;49m, \u001b[39m\"\u001b[39;49m\u001b[39mcsc\u001b[39;49m\u001b[39m\"\u001b[39;49m), reset\u001b[39m=\u001b[39;49m\u001b[39mFalse\u001b[39;49;00m\n\u001b[1;32m    145\u001b[0m )\n\u001b[1;32m    146\u001b[0m \u001b[39mreturn\u001b[39;00m \u001b[39mself\u001b[39m\u001b[39m.\u001b[39m_transform(X, xp\u001b[39m=\u001b[39mxp, x_is_centered\u001b[39m=\u001b[39m\u001b[39mFalse\u001b[39;00m)\n",
      "File \u001b[0;32m/Library/Frameworks/Python.framework/Versions/3.11/lib/python3.11/site-packages/sklearn/base.py:633\u001b[0m, in \u001b[0;36mBaseEstimator._validate_data\u001b[0;34m(self, X, y, reset, validate_separately, cast_to_ndarray, **check_params)\u001b[0m\n\u001b[1;32m    631\u001b[0m         out \u001b[39m=\u001b[39m X, y\n\u001b[1;32m    632\u001b[0m \u001b[39melif\u001b[39;00m \u001b[39mnot\u001b[39;00m no_val_X \u001b[39mand\u001b[39;00m no_val_y:\n\u001b[0;32m--> 633\u001b[0m     out \u001b[39m=\u001b[39m check_array(X, input_name\u001b[39m=\u001b[39;49m\u001b[39m\"\u001b[39;49m\u001b[39mX\u001b[39;49m\u001b[39m\"\u001b[39;49m, \u001b[39m*\u001b[39;49m\u001b[39m*\u001b[39;49mcheck_params)\n\u001b[1;32m    634\u001b[0m \u001b[39melif\u001b[39;00m no_val_X \u001b[39mand\u001b[39;00m \u001b[39mnot\u001b[39;00m no_val_y:\n\u001b[1;32m    635\u001b[0m     out \u001b[39m=\u001b[39m _check_y(y, \u001b[39m*\u001b[39m\u001b[39m*\u001b[39mcheck_params)\n",
      "File \u001b[0;32m/Library/Frameworks/Python.framework/Versions/3.11/lib/python3.11/site-packages/sklearn/utils/validation.py:1009\u001b[0m, in \u001b[0;36mcheck_array\u001b[0;34m(array, accept_sparse, accept_large_sparse, dtype, order, copy, force_all_finite, ensure_2d, allow_nd, ensure_min_samples, ensure_min_features, estimator, input_name)\u001b[0m\n\u001b[1;32m   1007\u001b[0m             array \u001b[39m=\u001b[39m _asarray_with_order(array, order\u001b[39m=\u001b[39morder, dtype\u001b[39m=\u001b[39mdtype, xp\u001b[39m=\u001b[39mxp)\n\u001b[1;32m   1008\u001b[0m     \u001b[39mexcept\u001b[39;00m ComplexWarning \u001b[39mas\u001b[39;00m complex_warning:\n\u001b[0;32m-> 1009\u001b[0m         \u001b[39mraise\u001b[39;00m \u001b[39mValueError\u001b[39;00m(\n\u001b[1;32m   1010\u001b[0m             \u001b[39m\"\u001b[39m\u001b[39mComplex data not supported\u001b[39m\u001b[39m\\n\u001b[39;00m\u001b[39m{}\u001b[39;00m\u001b[39m\\n\u001b[39;00m\u001b[39m\"\u001b[39m\u001b[39m.\u001b[39mformat(array)\n\u001b[1;32m   1011\u001b[0m         ) \u001b[39mfrom\u001b[39;00m \u001b[39mcomplex_warning\u001b[39;00m\n\u001b[1;32m   1013\u001b[0m \u001b[39m# It is possible that the np.array(..) gave no warning. This happens\u001b[39;00m\n\u001b[1;32m   1014\u001b[0m \u001b[39m# when no dtype conversion happened, for example dtype = None. The\u001b[39;00m\n\u001b[1;32m   1015\u001b[0m \u001b[39m# result is that np.array(..) produces an array of complex dtype\u001b[39;00m\n\u001b[1;32m   1016\u001b[0m \u001b[39m# and we need to catch and raise exception for such cases.\u001b[39;00m\n\u001b[1;32m   1017\u001b[0m _ensure_no_complex_data(array)\n",
      "\u001b[0;31mValueError\u001b[0m: Complex data not supported\n[[(-0.7970313167525079+0j), (-0.32456566994582764-0.35891961407010925j), (-0.500321290262205+0j), (-0.09312335650019611+0.8316118555802409j)], [(-0.4717662460289238+0j), (-0.13600962348025747+0.32359774756185017j), (-0.4690643053959809+0j), (-0.221171908770404-0.49940498625841245j)]]\n"
     ]
    }
   ],
   "source": [
    "# cleanign up angles using modular arithmetic, to spot clusters\n",
    "# angles_mod_pi = [[i % m.pi for i in j] for j in angles_big_list]\n",
    "\n",
    "#convert stuff to cosine and sine components and take twp clusters?\n",
    "coeff_big_list = [fn.Creating_states(i, coeffs = 1) for i in angles_big_list]\n",
    "# for each of the sublists here separate out the real and the complex parts of each element and then add that to the list by making each sublist double the size\n",
    "coeff_big_list_extended = [[complex(j).real for j in i] + [complex(j).imag for j in i] for i in coeff_big_list]   # each sublist is now 8 elts long, 4 real and 4 imaginary respect\n",
    "\n",
    "# convert into numpy \n",
    "data = np.array(coeff_big_list_extended)\n",
    "\n",
    "# Apply K-means clustering to find 2 clusters\n",
    "kmeans = KMeans(n_clusters=2, random_state=42).fit(data)\n",
    "\n",
    "# Get the coordinates of the cluster centers\n",
    "centers_complex = kmeans.cluster_centers_\n",
    "centers = [[centers_complex[j][i] + centers_complex[j][i+4]*1j for i in range(4)] for j in range(len(centers_complex))]      # convert back to complex coefficients\n",
    "print(\"data examples:\\n\", coeff_big_list_extended[:2])\n",
    "print(\"Cluster Centers:\\n\", centers)\n",
    "\n",
    "# Optionally, visualize the clusters in 2D using PCA\n",
    "pca = PCA(n_components=2)\n",
    "data_2d = pca.fit_transform(data)\n",
    "centers_2d = pca.transform(centers)\n",
    "\n",
    "# Plot the data points and cluster centers\n",
    "plt.scatter(data_2d[:, 0], data_2d[:, 1], c=kmeans.labels_, cmap='viridis')\n",
    "plt.scatter(centers_2d[:, 0], centers_2d[:, 1], c='red', marker='x')\n",
    "plt.title('K-means Clustering (2D PCA projection)')\n",
    "plt.xlabel('PCA Component 1')\n",
    "plt.ylabel('PCA Component 2')\n",
    "plt.show()\n",
    "\n",
    "\n",
    "#find fidelity of the centers\n",
    "fid_centers = []\n",
    "for i in centers:\n",
    "    fid_centers.append(fn.fid([m.pi/2+m.pi/6, m.pi/6, m.pi/2, m.pi/4, m.pi/6], i, coeff_mode = 1))\n",
    "\n",
    "fid_centers"
   ]
  },
  {
   "cell_type": "code",
   "execution_count": null,
   "metadata": {},
   "outputs": [],
   "source": []
  }
 ],
 "metadata": {
  "kernelspec": {
   "display_name": "Python 3",
   "language": "python",
   "name": "python3"
  },
  "language_info": {
   "codemirror_mode": {
    "name": "ipython",
    "version": 3
   },
   "file_extension": ".py",
   "mimetype": "text/x-python",
   "name": "python",
   "nbconvert_exporter": "python",
   "pygments_lexer": "ipython3",
   "version": "3.11.4"
  },
  "orig_nbformat": 4
 },
 "nbformat": 4,
 "nbformat_minor": 2
}
