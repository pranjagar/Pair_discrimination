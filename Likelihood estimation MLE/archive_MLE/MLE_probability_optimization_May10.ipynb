{
 "cells": [
  {
   "cell_type": "code",
   "execution_count": 6,
   "metadata": {},
   "outputs": [],
   "source": [
    "import numpy as np\n",
    "import pandas as pd\n",
    "import math as m\n",
    "import cmath\n",
    "import sympy as sym\n",
    "import scipy as sci\n",
    "import matplotlib.ticker as ticker\n",
    "import random as rand\n",
    "import matplotlib.pyplot as plt\n",
    "import cmath as cm\n",
    "from IPython.display import display, Latex\n",
    "from sympy import pprint\n",
    "# from scipy.optimize import minimize as GDlib\n",
    "from scipy.optimize import minimize \n",
    "import MLE_functions as fn\n",
    "from scipy.optimize import fsolve\n",
    "from scipy.optimize import least_squares"
   ]
  },
  {
   "cell_type": "code",
   "execution_count": 7,
   "metadata": {},
   "outputs": [],
   "source": [
    "pr_num = [sym.lambdify((fn.theta1, fn.theta2, fn.phi1, fn.phi2, fn.alpha), i) for i in fn.pr]   # lambdify the probabilities\n",
    "\n",
    "# Improving the previous loss function, new code: \n",
    "def L(vars, params_tru = [0, m.pi/2, 0, 0, m.pi/4], nj_unnorm = None, lossfn = 'old',  N = 10000):\n",
    "    if nj_unnorm != None:\n",
    "        n_unnorm = nj_unnorm\n",
    "    else:\n",
    "        num_expt = fn.num_experiment(params= params_tru, N = N)                             # for getting the collapse count\n",
    "        n_unnorm = num_expt[4]\n",
    "\n",
    "    n = [i/sum(n_unnorm) for i in n_unnorm]                                                # normalise the counts\n",
    "    eq_pr = [pr_num[i](*vars) for i in range(len(pr_num))]\n",
    "    \n",
    "    lnl_p = [i * np.log(p) if i != 0 else 0 for i, p in zip(n, eq_pr)]                          # manually putting zero for cases of p_i*log(n_i) , if any n_i are 0.\n",
    "    lnl_n = [i * np.log(i) if i != 0 else 0 for i in n]                         \n",
    "    del_lnl = [(k-l) for k,l in zip(lnl_p, lnl_n)]\n",
    "    loss = sum([abs(i) for i in del_lnl])\n",
    "\n",
    "    if lossfn == 'old':\n",
    "        loss = sum([abs(i) for i in lnl_p])\n",
    "\n",
    "    return loss\n",
    "\n",
    "\n",
    "def L_cross_entropy(p, n):\n",
    "    lnl_p = [i * np.log(p) if p != 0 else 0 for i, p in zip(n, p)]                          # manually putting zero for cases of p_i*log(n_i) , if any n_i are 0.\n",
    "    loss = sum([abs(i) for i in lnl_p])\n",
    "    return loss\n"
   ]
  },
  {
   "cell_type": "code",
   "execution_count": 3,
   "metadata": {},
   "outputs": [
    {
     "data": {
      "text/plain": [
       "'nj_unnorm = [0.0842, 0.0854, 0.1615, 0.0799, 0.08, 0.1714, 0.0892, 0.0813, 0.1671]'"
      ]
     },
     "execution_count": 3,
     "metadata": {},
     "output_type": "execute_result"
    }
   ],
   "source": [
    "# one saved result for params_tru1 = [m.pi/6, m.pi/2+m.pi/6, m.pi/4, m.pi/2, m.pi/6]\n",
    "\"\"\"tru =  [0.5235987755982988, 2.0943951023931953, 0.7853981633974483, 1.5707963267948966, 0.5235987755982988]  # same as [m.pi/6, m.pi/2+m.pi/6, m.pi/4, m.pi/2, m.pi/6]\n",
    "nj_unnorm =  [654, 558, 1169, 967, 2313, 521, 1260, 1152, 1406]\n",
    "opt_inv =  [0.5254370610538157, 1.030984356143689, 0.7670544953445808, -1.6068690955721805, (0.5346630644404312+2.5302074683784063e-17j)]\n",
    "opt_GD =  [0.5320294066145164, 1.0327066070674442, 0.7689496798867287, -1.6064174644839841, (0.5366920641304006+2.5302074683784063e-17j)]\n",
    "fid_inv =  [0.9999333970821788, 0.9994887602573697]\n",
    "fid_GD =  [0.9998777120836085, 0.9995482600825005]\n",
    "ppm_inv =  [66.60291782123463, 511.2397426303428]\n",
    "ppm_GD =  [122.28791639146141, 451.73991749947186]\n",
    "\"\"\"\n",
    "\n",
    "# for the usual params = [0, m.pi/2, 0, 0, m.pi/4]\n",
    "\"\"\"nj_unnorm = [0.0842, 0.0854, 0.1615, 0.0799, 0.08, 0.1714, 0.0892, 0.0813, 0.1671]\"\"\""
   ]
  },
  {
   "cell_type": "code",
   "execution_count": 10,
   "metadata": {},
   "outputs": [
    {
     "data": {
      "text/plain": [
       "\"cons = {'type': 'eq', 'fun': constrain_p_sum}\\ninit_guess = [1/9 for i in range(9)]\\nsol = minimize(L_cross_entropy, init_guess, method='SLSQP', constraints=cons)\\nprint(sol)\\n\""
      ]
     },
     "execution_count": 10,
     "metadata": {},
     "output_type": "execute_result"
    }
   ],
   "source": [
    "#sample code for constrained minimization method\n",
    "def constrain_p_sum(p):\n",
    "    return (sum(p) - 1)\n",
    "\n",
    "\"\"\"cons = {'type': 'eq', 'fun': constrain_p_sum}\n",
    "init_guess = [1/9 for i in range(9)]\n",
    "sol = minimize(L_cross_entropy, init_guess, method='SLSQP', constraints=cons)\n",
    "print(sol)\n",
    "\"\"\"\n"
   ]
  },
  {
   "cell_type": "code",
   "execution_count": 11,
   "metadata": {},
   "outputs": [],
   "source": [
    "def residuals(vars, pr_list):\n",
    "    pr_vars = [pr_num[i](*vars) for i in range(len(pr_num))]\n",
    "    \n",
    "    # pr_5 = [ pr_list[0]+ pr_list[1] , pr_list[2]+ pr_list[3], pr_list[4]+ pr_list[5], pr_list[6]+ pr_list[7], pr_list[8]]    # This is the given prob list # adding so to trick the least_squares function\n",
    "    # pr_vars_5 = [pr_vars[0]+ pr_vars[1] , pr_vars[2]+ pr_vars[3], pr_vars[4]+ pr_vars[5], pr_vars[6]+ pr_vars[7], pr_vars[8]] # variables prob list, to be coverged to the given prob list \n",
    "\n",
    "    # res = [abs(i-j) for i,j in zip(pr_vars_5, pr_5)]\n",
    "    \n",
    "    return sum([abs(i-j) for i,j in zip(pr_vars, pr_list)])\n",
    "\n",
    "    # return res\n",
    "                   \n",
    "\n",
    "\n",
    "\n",
    "def c_1_g(params):\n",
    "    return (m.pi + 1e-12 - params[0])               # 1e-12 is added to avoid the floating point error\n",
    "\n",
    "def c_2_g(params):\n",
    "    return (m.pi + 1e-12 - params[1])\n",
    "\n",
    "def c_3_g(params):\n",
    "    return (m.pi + 1e-12 - params[2])\n",
    "\n",
    "def c_4_g(params):\n",
    "    return (m.pi + 1e-12 - params[3])\n",
    "\n",
    "def c_5_g(params):\n",
    "    return (m.pi/2 + 1e-12 - params[4])\n",
    "\n",
    "def c_1_l(params):\n",
    "    return (params[0])\n",
    "\n",
    "def c_2_l(params):\n",
    "    return (params[1]+ 1e-12)\n",
    "\n",
    "def c_3_l(params):\n",
    "    return (params[2]+ 1e-12)\n",
    "\n",
    "def c_4_l(params):  \n",
    "    return (params[3]+ 1e-12)\n",
    "\n",
    "def c_5_l(params):\n",
    "    return (params[4]+ 1e-12)\n",
    "\n",
    "\n",
    "cons_ineq = ({'type': 'ineq', 'fun': c_1_g}, {'type': 'ineq', 'fun': c_2_g}, {'type': 'ineq', 'fun': c_3_g}, {'type': 'ineq', 'fun': c_4_g}, {'type': 'ineq', 'fun': c_5_g}, {'type': 'ineq', 'fun': c_1_l}, {'type': 'ineq', 'fun': c_2_l}, {'type': 'ineq', 'fun': c_3_l}, {'type': 'ineq', 'fun': c_4_l}, {'type': 'ineq', 'fun': c_5_l})\n"
   ]
  },
  {
   "cell_type": "code",
   "execution_count": 17,
   "metadata": {},
   "outputs": [
    {
     "name": "stdout",
     "output_type": "stream",
     "text": [
      "[0.29846057 0.98846304 0.61744008 0.86249252 0.27381955]\n",
      " message: Optimization terminated successfully\n",
      " success: True\n",
      "  status: 0\n",
      "     fun: 0.01901622904666974\n",
      "       x: [ 5.304e-01  2.086e+00  7.795e-01  1.441e+00  5.346e-01]\n",
      "     nit: 295\n",
      "     jac: [ 7.315e-02  4.963e-02  1.249e-02  7.914e-03  1.477e-01]\n",
      "    nfev: 3509\n",
      "    njev: 295\n"
     ]
    }
   ],
   "source": [
    "# trying to use the least_squares function and match the parameters to the given prob list\n",
    "njn = [654, 558, 1169, 967, 2313, 521, 1260, 1152, 1406]\n",
    "nju = [i/sum(njn) for i in njn]\n",
    "# nju = [0.0842, 0.0854, 0.1615, 0.0799, 0.08, 0.1714, 0.0892, 0.0813, 0.1671]\n",
    "\n",
    "# init_guess = [1/5 for i in range(5)]\n",
    "init_guess = np.random.rand(5)\n",
    "print(init_guess)\n",
    "sol = minimize(residuals, init_guess, constraints = cons_ineq , method = 'SLSQP', args=(nju,) , tol = 1e-18, options = {'maxiter': 500})\n",
    "print(sol)\n",
    "\n"
   ]
  },
  {
   "cell_type": "code",
   "execution_count": 20,
   "metadata": {},
   "outputs": [
    {
     "name": "stdout",
     "output_type": "stream",
     "text": [
      "[29.999999999999996, 119.99999999999999, 45.0, 90.0, 29.999999999999996]\n",
      "[30.392269651167027, 119.51965324492896, 44.6616841316508, 82.53580316398048, 30.631254046041548]\n",
      "[0.9999465391983036, 0.9967832600054815]\n"
     ]
    }
   ],
   "source": [
    "# tru1 = [0, m.pi/2, 0, 0, m.pi/4]\n",
    "tru2  = [m.pi/6, m.pi/2+m.pi/6, m.pi/4, m.pi/2, m.pi/6]\n",
    "\n",
    "# in degrees\n",
    "tru_deg = [i*180/m.pi for i in tru2]\n",
    "sol_deg = [i*180/m.pi for i in sol.x]\n",
    "\n",
    "print(tru_deg)\n",
    "print(sol_deg)\n",
    "#sol_deg : [4.386342135031111e-15, 89.72229793860824, 2.413763320647044, -5.752857106018894e-11, 45.70037272101446]\n",
    "\n",
    "print(fn.fid(tru2, sol.x))"
   ]
  },
  {
   "cell_type": "code",
   "execution_count": 42,
   "metadata": {},
   "outputs": [
    {
     "name": "stdout",
     "output_type": "stream",
     "text": [
      "[0.0842, 0.0854, 0.1615, 0.0799, 0.08, 0.1714, 0.0892, 0.0813, 0.1671]\n",
      "[0.08420014619721837, 0.08130021801802528, 0.1666586449593908, 0.08595557491630161, 0.0813002592565332, 0.16666466123984797, 0.08595557491630364, 0.08130025925653318, 0.16666466123984797]\n",
      "2.1377889507324106\n"
     ]
    },
    {
     "data": {
      "text/plain": [
       "2.1383279430290285"
      ]
     },
     "execution_count": 42,
     "metadata": {},
     "output_type": "execute_result"
    }
   ],
   "source": [
    "pr_sol = [pr_num[i](*sol.x) for i in range(len(pr_num))]\n",
    "print(nju)\n",
    "print(pr_sol)\n",
    "\n",
    "print(L_cross_entropy(nju, nju))\n",
    "L_cross_entropy(pr_sol, nju)\n",
    "\n"
   ]
  }
 ],
 "metadata": {
  "kernelspec": {
   "display_name": "Python 3",
   "language": "python",
   "name": "python3"
  },
  "language_info": {
   "codemirror_mode": {
    "name": "ipython",
    "version": 3
   },
   "file_extension": ".py",
   "mimetype": "text/x-python",
   "name": "python",
   "nbconvert_exporter": "python",
   "pygments_lexer": "ipython3",
   "version": "3.11.4"
  },
  "orig_nbformat": 4
 },
 "nbformat": 4,
 "nbformat_minor": 2
}
