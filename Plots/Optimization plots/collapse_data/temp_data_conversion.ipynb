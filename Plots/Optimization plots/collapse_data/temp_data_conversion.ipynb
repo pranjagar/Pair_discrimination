{
 "cells": [
  {
   "cell_type": "code",
   "execution_count": 2,
   "metadata": {},
   "outputs": [],
   "source": [
    "#import csv file and the data, then replace commas with spaces\n",
    "import csv\n",
    "import numpy as np\n",
    "import matplotlib.pyplot as plt\n",
    "import pandas as pd\n",
    "\n"
   ]
  },
  {
   "cell_type": "code",
   "execution_count": 8,
   "metadata": {},
   "outputs": [
    {
     "name": "stdout",
     "output_type": "stream",
     "text": [
      "      0    1     2     3    4     5     6    7     8\n",
      "0  5326  658  2510  2180  340  2987  2445  474  3080\n",
      "1  5364  624  2553  2067  366  3085  2415  484  3042\n",
      "2  5280  642  2606  2111  372  3035  2494  464  2996\n",
      "3  5365  684  2618  2045  372  2947  2476  501  2992\n",
      "4  5413  638  2526  2109  369  3005  2490  483  2967\n"
     ]
    }
   ],
   "source": [
    "#load the data using read_csv\n",
    "name = 'collapses_(105 120 0 90 15) 20k 100'\n",
    "data = pd.read_csv(f'{name}.csv')\n",
    "print(data.head())\n",
    "\n",
    "# replace commas with spaces\n",
    "# data = data.replace(',', ' ', regex=True)\n",
    "\n",
    "# write into a .dat file with the same name as the csv file\n",
    "data.to_csv(f'{name}.dat', index=False, header=False, sep=' ')\n",
    "\n",
    "# data.to_csv(f'{name}.txt', index=False, header=False, sep=' ')\n"
   ]
  },
  {
   "cell_type": "code",
   "execution_count": null,
   "metadata": {},
   "outputs": [],
   "source": [
    "#convert to dat\n",
    "name = ''\n",
    "\n",
    "# Read the content of the .txt file\n",
    "with open(f'{name}.txt', 'r') as txt_file:\n",
    "    content = txt_file.read()\n",
    "\n",
    "# Write the content to a .dat file\n",
    "with open(f'{name}.dat', 'w') as dat_file:\n",
    "    dat_file.write(content)"
   ]
  }
 ],
 "metadata": {
  "kernelspec": {
   "display_name": "Python 3",
   "language": "python",
   "name": "python3"
  },
  "language_info": {
   "codemirror_mode": {
    "name": "ipython",
    "version": 3
   },
   "file_extension": ".py",
   "mimetype": "text/x-python",
   "name": "python",
   "nbconvert_exporter": "python",
   "pygments_lexer": "ipython3",
   "version": "3.11.4"
  }
 },
 "nbformat": 4,
 "nbformat_minor": 2
}
