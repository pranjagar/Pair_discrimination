{
 "cells": [
  {
   "cell_type": "code",
   "execution_count": 5,
   "metadata": {},
   "outputs": [],
   "source": [
    "# name = 'TabFunc_collapses_(15 75 45 90 60) 1k 1k'\n",
    "# name = 'TabFunc_collapses_(30 60 0 45 15) 1k 1k'\n",
    "# name = 'TabFunc_collapses_(30 120 45 90 30) 1k 1k'\n",
    "# name = 'TabFunc_collapses_(105 120 0 90 15) 20k 100'\n",
    "name = 'TabFunc_collapses_(105 120 0 90 15) 500 500'\n",
    "# Read the content of the .txt file\n",
    "with open(f'{name}.txt', 'r') as txt_file:\n",
    "    content = txt_file.read()\n",
    "\n",
    "# Write the content to a .dat file\n",
    "with open(f'{name}.dat', 'w') as dat_file:\n",
    "    dat_file.write(content)"
   ]
  }
 ],
 "metadata": {
  "kernelspec": {
   "display_name": "Python 3",
   "language": "python",
   "name": "python3"
  },
  "language_info": {
   "codemirror_mode": {
    "name": "ipython",
    "version": 3
   },
   "file_extension": ".py",
   "mimetype": "text/x-python",
   "name": "python",
   "nbconvert_exporter": "python",
   "pygments_lexer": "ipython3",
   "version": "3.11.4"
  }
 },
 "nbformat": 4,
 "nbformat_minor": 2
}
